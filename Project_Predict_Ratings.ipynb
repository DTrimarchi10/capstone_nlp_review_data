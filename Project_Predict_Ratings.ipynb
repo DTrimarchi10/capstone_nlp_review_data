{
 "cells": [
  {
   "cell_type": "markdown",
   "metadata": {},
   "source": [
    "# Predict Ratings using Review Text\n",
    "\n",
    "This notebook consists of code that will:\n",
    "\n",
    "1. Read a csv file containing pre-tokenized reviews. They were processed and tokenized in `Project_NLP.ipynb`.\n",
    "2. Generate word vectors using Gensim Word2Vec.\n",
    "3. Use word vectors to fit Random Forest, Support Vector, Logistic Regression models.\n",
    "4. Use GloVe Global Vectors for word representation to fit the same models (for comparison).\n",
    "5. Construct and fit a keras deep learning model to predict ratings."
   ]
  },
  {
   "cell_type": "code",
   "execution_count": 1,
   "metadata": {},
   "outputs": [],
   "source": [
    "import pandas as pd\n",
    "import numpy as np\n",
    "import matplotlib.pyplot as plt\n",
    "%matplotlib inline\n",
    "import seaborn as sns\n",
    "\n",
    "import ast\n",
    "import re\n",
    "import time\n",
    "\n",
    "import nltk\n",
    "import gensim\n",
    "from gensim.models import Word2Vec"
   ]
  },
  {
   "cell_type": "markdown",
   "metadata": {},
   "source": [
    "# Read in Tokenized Reviews from file"
   ]
  },
  {
   "cell_type": "code",
   "execution_count": 2,
   "metadata": {},
   "outputs": [],
   "source": [
    "reviews_df = pd.read_csv(\"csv_files/reviews.csv\")\n",
    "\n",
    "#Reviews are stored as one string. Need to convert to a list of strings.\n",
    "reviews_df.review_tokenized = reviews_df.review_tokenized.map(ast.literal_eval)"
   ]
  },
  {
   "cell_type": "markdown",
   "metadata": {},
   "source": [
    "# Set Data and Target variables"
   ]
  },
  {
   "cell_type": "code",
   "execution_count": 3,
   "metadata": {},
   "outputs": [],
   "source": [
    "data = reviews_df.review_tokenized\n",
    "target = reviews_df.star_rating"
   ]
  },
  {
   "cell_type": "code",
   "execution_count": 4,
   "metadata": {},
   "outputs": [
    {
     "data": {
      "text/plain": [
       "0    [grits, this_one, southern_food, fried_chicken...\n",
       "1    [brunch, enjoyable, mimosa_starter, eggs_bened...\n",
       "2    [you're_looking_for, meal_lazy_sunday, morning...\n",
       "3    [the_best, can_describe, shabby_chic_interior,...\n",
       "4    [dinner_here_last, night, i'm_still_thinking_a...\n",
       "Name: review_tokenized, dtype: object"
      ]
     },
     "execution_count": 4,
     "metadata": {},
     "output_type": "execute_result"
    }
   ],
   "source": [
    "data.head()"
   ]
  },
  {
   "cell_type": "code",
   "execution_count": 5,
   "metadata": {
    "scrolled": true
   },
   "outputs": [
    {
     "data": {
      "image/png": "[encoded data removed]",
      "text/plain": [
       "<Figure size 432x288 with 1 Axes>"
      ]
     },
     "metadata": {
      "needs_background": "light"
     },
     "output_type": "display_data"
    }
   ],
   "source": [
    "value_counts = target.value_counts()\n",
    "sns.barplot(x=value_counts.index,y=value_counts.values);\n",
    "plt.title('Number of Reviews by Star Rating');"
   ]
  },
  {
   "cell_type": "markdown",
   "metadata": {},
   "source": [
    "### Define remove phrases function in the event that phrase removal is desired.\n",
    "\n",
    "Removes underscores from tokens and re-tokenizes."
   ]
  },
  {
   "cell_type": "code",
   "execution_count": 6,
   "metadata": {},
   "outputs": [],
   "source": [
    "def phrase_clear(text_block):\n",
    "    \"\"\"\n",
    "    Removes underscores from tokens in tokenized data. Returns re-tokenized text.\n",
    "    INPUT:\n",
    "    text_block = tokenized text block containing n-grams to be removed.\n",
    "    OUTPUT:\n",
    "    Tokenized text block that has n-grams transformed back into individual words.\n",
    "    \"\"\"\n",
    "    cleared = []\n",
    "    for idx, word in enumerate(text_block):\n",
    "        cleared.extend(word.split(\"_\"))\n",
    "    return cleared"
   ]
  },
  {
   "cell_type": "code",
   "execution_count": 7,
   "metadata": {},
   "outputs": [],
   "source": [
    "data = data.map(phrase_clear)"
   ]
  },
  {
   "cell_type": "markdown",
   "metadata": {},
   "source": [
    "# Train / Test Split\n",
    "\n",
    "Split within each star rating to ensure all rating levels are covered."
   ]
  },
  {
   "cell_type": "code",
   "execution_count": 8,
   "metadata": {},
   "outputs": [],
   "source": [
    "from sklearn.model_selection import train_test_split"
   ]
  },
  {
   "cell_type": "code",
   "execution_count": 9,
   "metadata": {},
   "outputs": [],
   "source": [
    "X_train, X_test, y_train, y_test = train_test_split(data, target, test_size=0.1, stratify=target)"
   ]
  },
  {
   "cell_type": "code",
   "execution_count": 10,
   "metadata": {},
   "outputs": [
    {
     "data": {
      "text/plain": [
       "((21910,), (2435,))"
      ]
     },
     "execution_count": 10,
     "metadata": {},
     "output_type": "execute_result"
    },
    {
     "data": {
      "image/png": "[encoded data removed]",
      "text/plain": [
       "<Figure size 1080x288 with 2 Axes>"
      ]
     },
     "metadata": {
      "needs_background": "light"
     },
     "output_type": "display_data"
    }
   ],
   "source": [
    "#plt.figure(figsize=(20,10))\n",
    "train_counts = y_train.value_counts()\n",
    "test_counts = y_test.value_counts()\n",
    "\n",
    "fig, (ax1,ax2) = plt.subplots(nrows=1, ncols=2, figsize=(15,4))\n",
    "sns.barplot(x=train_counts.index,y=train_counts.values, ax=ax1)\n",
    "sns.barplot(x=test_counts.index,y=test_counts.index, ax=ax2)\n",
    "ax1.set_title('TRAIN DATA: Num Reviews by Star Rating');\n",
    "ax2.set_title('TEST DATA: Num Reviews by Star Rating');\n",
    "\n",
    "y_train.shape, y_test.shape"
   ]
  },
  {
   "cell_type": "markdown",
   "metadata": {},
   "source": [
    "# Generate Word Embeddings"
   ]
  },
  {
   "cell_type": "code",
   "execution_count": 11,
   "metadata": {},
   "outputs": [
    {
     "name": "stdout",
     "output_type": "stream",
     "text": [
      "Generate Word Vectors: 19.15 seconds\n"
     ]
    }
   ],
   "source": [
    "print(\"Generate Word Vectors:\", end=' ')\n",
    "start = time.time()\n",
    "model = Word2Vec(X_train,size=100,window=5,min_count=1,workers=4)\n",
    "model.train(data,total_examples=model.corpus_count,epochs=10)\n",
    "end = time.time()\n",
    "print(round(end-start,2),\"seconds\")"
   ]
  },
  {
   "cell_type": "code",
   "execution_count": 12,
   "metadata": {},
   "outputs": [
    {
     "name": "stdout",
     "output_type": "stream",
     "text": [
      "30362 unique words in the dataset.\n"
     ]
    }
   ],
   "source": [
    "#Save embedded word vector space\n",
    "wv = model.wv\n",
    "print(len(wv.vocab),\"unique words in the dataset.\")"
   ]
  },
  {
   "cell_type": "code",
   "execution_count": 12,
   "metadata": {},
   "outputs": [],
   "source": [
    "#Need a way to transform a tokenized review (because test data will not be used to train the Word2Vec model)\n",
    "\n",
    "def w2v_transform(tokens, w2v_model):\n",
    "    \"\"\"\n",
    "    This function generates a w2v vector for a set of tokens (a review). This is done by taking \n",
    "    the mean of each token in the review.\n",
    "    \"\"\"\n",
    "    vectors = []\n",
    "    for token in tokens:\n",
    "        #Using a try/except because there may be an unrecognized token in the review.\n",
    "        try:\n",
    "            vec = list(w2v_model[token])\n",
    "            vectors.append(vec)\n",
    "        except:\n",
    "            pass\n",
    "    \n",
    "    return np.mean(np.array(vectors), axis=0)"
   ]
  },
  {
   "cell_type": "markdown",
   "metadata": {},
   "source": [
    "# Predict Ratings"
   ]
  },
  {
   "cell_type": "code",
   "execution_count": 13,
   "metadata": {},
   "outputs": [],
   "source": [
    "#Sklearn Libraries\n",
    "from sklearn.ensemble import RandomForestClassifier\n",
    "from sklearn.svm import SVC\n",
    "from sklearn.linear_model import LogisticRegression\n",
    "from sklearn.pipeline import Pipeline\n",
    "from sklearn.model_selection import cross_val_score\n",
    "\n",
    "from sklearn.metrics import confusion_matrix, precision_score, accuracy_score, make_scorer\n",
    "from sklearn.model_selection import GridSearchCV, train_test_split, KFold\n",
    "#from sklearn.decomposition import PCA\n",
    "\n",
    "#XGBoost\n",
    "import os\n",
    "os.environ['KMP_DUPLICATE_LIB_OK'] = 'True'\n",
    "from xgboost import XGBClassifier"
   ]
  },
  {
   "cell_type": "markdown",
   "metadata": {},
   "source": [
    "## Define some Classes and Functions to help with Predicting Ratings\n",
    "\n",
    "### W2vVectorizer Class\n",
    "Used to creat mean word embeddings. The class has fit and transform functions so that it may be used in an sklearn Pipeline."
   ]
  },
  {
   "cell_type": "code",
   "execution_count": 14,
   "metadata": {},
   "outputs": [],
   "source": [
    "#Creating Mean Word Embeddings using Mean Embedding Vectorizer class\n",
    "class W2vVectorizer(object):\n",
    "    \n",
    "    def __init__(self, model):\n",
    "        self.w2v = model\n",
    "        \n",
    "        #If using GloVe the model is in a dictionary format\n",
    "        if isinstance(model, dict):\n",
    "            if len(model) == 0:\n",
    "                self.dimensions = 0\n",
    "            else:\n",
    "                self.dimensions = len(model[next(iter(glove))])\n",
    "        #Otherwise, using gensim keyed vector\n",
    "        else:\n",
    "            self.dimensions = model.vector_size\n",
    "    \n",
    "    # Need to implement a fit method as required for sklearn Pipeline.\n",
    "    def fit(self, X, y):\n",
    "        return self\n",
    "            \n",
    "    #def transform(self, X):\n",
    "    #    return np.array([\n",
    "    #        np.mean([self.w2v.get_vector(w) for w in words], axis=0) for words in X])\n",
    "    \n",
    "    #def transform(self, X):\n",
    "    #    text_block_vector = []\n",
    "    #    for words in X:\n",
    "    #        sentence_vector = []\n",
    "    #        for w in words:\n",
    "    #            try:\n",
    "    #                vec = list(self.w2v.get_vector(w))\n",
    "    #                sentence_vector.append(vec)\n",
    "    #            except:\n",
    "    #                pass\n",
    "    #        text_block_vector.append(np.mean(sentence_vector, axis=0))\n",
    "    #    return np.array(text_block_vector)\n",
    "\n",
    "    def transform(self, X):\n",
    "        \"\"\"\n",
    "        This function generates a w2v vector for a set of tokens (a review). This is done by taking \n",
    "        the mean of each token in the review.\n",
    "        \"\"\"\n",
    "        return np.array([\n",
    "            np.mean([self.w2v[w] for w in words if w in self.w2v]\n",
    "                    or [np.zeros(self.dimensions)], axis=0) for words in X])"
   ]
  },
  {
   "cell_type": "markdown",
   "metadata": {},
   "source": [
    "### Custom Accuracy Function\n",
    "Provides an accuracy score where being off by 1 on prediction gives partial credit. The idea is that predicting 2 stars for a 1 star review is not bad and is better than predicting 5 stars. This function is used in conjunction with a standard accuracy calculation for comparison purposes."
   ]
  },
  {
   "cell_type": "code",
   "execution_count": 54,
   "metadata": {},
   "outputs": [],
   "source": [
    "def custom_accuracy(y_true, y_pred, threshold=1, credit_given=0.5):\n",
    "    \"\"\"\n",
    "    If y_pred is off by threshold or less, give partial credit according to credit_given.\n",
    "    INPUTS:\n",
    "    y_true       = True label.\n",
    "    y_pred       = Predicted label.\n",
    "    threshold    = Threshold for giving credit to inaccurate predictions. (=1 gives credit to predictions off by 1)\n",
    "    credit_given = Partial credit amount for close but inaccurate predictions. (=0.5 give 50% credit)\n",
    "    \"\"\"\n",
    "    predicted_correct = sum((y_true-y_pred)==0)\n",
    "    predicted_off = sum(abs(y_true-y_pred)<=threshold) - predicted_correct\n",
    "    custom_accuracy = (predicted_correct + credit_given*predicted_off)/len(y_true)\n",
    "    return custom_accuracy"
   ]
  },
  {
   "cell_type": "markdown",
   "metadata": {},
   "source": [
    "### Get Gridsearch Result\n",
    "This function fits a GridSearchCV model and populates a dictionary containing the best model and accuracy results."
   ]
  },
  {
   "cell_type": "code",
   "execution_count": 55,
   "metadata": {},
   "outputs": [],
   "source": [
    "def get_gridsearch_result(name, estimator, param_grid, X_train, X_test, y_train, y_test, cv=2):\n",
    "    grid_clf = GridSearchCV(estimator=estimator, param_grid=param_grid, cv=cv, scoring='accuracy')\n",
    "    grid_clf.fit(X_train,y_train)\n",
    "\n",
    "    result = {}\n",
    "    \n",
    "    result['name'] = name\n",
    "    result['model'] = grid_clf.best_estimator_\n",
    "    result['model params'] = grid_clf.best_params_\n",
    "\n",
    "    y_pred_train = grid_clf.predict(X_train)\n",
    "    y_pred_test  = grid_clf.predict(X_test)\n",
    "\n",
    "    result['accuracy train']  = round(accuracy_score(y_train,y_pred_train),4)\n",
    "    result['accuracy test']   = round(accuracy_score(y_test,y_pred_test),4)\n",
    "    result['custom accuracy train'] = round(custom_accuracy(y_train,y_pred_train),4)\n",
    "    result['custom accuracy test']  = round(custom_accuracy(y_test,y_pred_test),4)\n",
    "\n",
    "    return result"
   ]
  },
  {
   "cell_type": "markdown",
   "metadata": {},
   "source": [
    "### Get Gridsearch for All Models\n",
    "This function will perform a grisearch for a list of models, output the time taken, and return the results dictionaries for each gridsearch model."
   ]
  },
  {
   "cell_type": "code",
   "execution_count": 56,
   "metadata": {},
   "outputs": [],
   "source": [
    "def gridsearch_all_models(models, X_train, X_test, y_train, y_test, cv=2):\n",
    "    \"\"\"\n",
    "    Perform a gridsearch on a list of models containing an estimator and parameter grid.\n",
    "    INPUTS:\n",
    "    models = List of tuples in the form (name, model, param_grid)\n",
    "        name  = text name of the model\n",
    "        model = model of pipeline model\n",
    "        param_grid = parameters to be used for gridsearch\n",
    "    X_train, X_test, y_train, y_test = train test split of data(X) and target(y).\n",
    "    \n",
    "    RETURNS:\n",
    "    List of dictionaries containing gridsearch model, selected parameters, and accuracy scores.\n",
    "    \"\"\"\n",
    "    \n",
    "    print(\"GRIDSEARCH AND SCORE ALL MODELS:\")\n",
    "    start = time.time()\n",
    "    results = []\n",
    "\n",
    "    for name, model, param_grid in models:\n",
    "        start_model = time.time()\n",
    "        print(\"  \", name, end='')\n",
    "        results.append(get_gridsearch_result(name=name,\n",
    "                                             estimator=model,\n",
    "                                             param_grid=param_grid,\n",
    "                                             X_train=X_train,\n",
    "                                             X_test=X_test, \n",
    "                                             y_train=y_train,\n",
    "                                             y_test=y_test,\n",
    "                                             cv=cv))\n",
    "\n",
    "        end_model = time.time()\n",
    "        print(\":\\t time\", time.strftime('%H:%M:%S', time.gmtime(end_model-start_model)))\n",
    "\n",
    "    end = time.time()\n",
    "    print(\"TOTAL TIME:\", time.strftime('%H:%M:%S', time.gmtime(end-start)))\n",
    "    return results"
   ]
  },
  {
   "cell_type": "code",
   "execution_count": 68,
   "metadata": {},
   "outputs": [],
   "source": [
    "#PARAMETER GRIDS FOR GRIDSEARCH\n",
    "param_grid_rf  = [{'Random Forest__criterion': ['entropy'],\n",
    "                   'Random Forest__max_depth': [6, 7],\n",
    "                   'Random Forest__n_estimators': [100] }]\n",
    "\n",
    "param_grid_svc = [{'Support Vector Machine__C': [1],\n",
    "                   'Support Vector Machine__gamma': ['auto'] }]\n",
    "\n",
    "param_grid_lr  = [{'Logistic Regression__solver': ['sag','lbfgs'],\n",
    "                   'Logistic Regression__penalty': ['l2'],\n",
    "                   'Logistic Regression__C': [.01, .1, 1],\n",
    "                   'Logistic Regression__max_iter': [1000]}]\n",
    "\n",
    "param_grid_xgb = [{'XGBoost Model__max_depth': [3],\n",
    "                   'XGBoost Model__n_estimators': [100],\n",
    "                   'XGBoost Model__learning_rate': [0.1, 0.2],\n",
    "                   'XGBoost Model__gamma': [0, 1] }]"
   ]
  },
  {
   "cell_type": "code",
   "execution_count": 69,
   "metadata": {
    "scrolled": true
   },
   "outputs": [],
   "source": [
    "rf  = Pipeline([(\"Word2Vec Vectorizer\", W2vVectorizer(wv)),\n",
    "                (\"Random Forest\", RandomForestClassifier(max_features='auto'))])\n",
    "svc = Pipeline([(\"Word2Vec Vectorizer\", W2vVectorizer(wv)),\n",
    "                (\"Support Vector Machine\", SVC())])\n",
    "lr  = Pipeline([(\"Word2Vec Vectorizer\", W2vVectorizer(wv)),\n",
    "                (\"Logistic Regression\", LogisticRegression(multi_class='multinomial'))])\n",
    "xgb = Pipeline([(\"Word2Vec Vectorizer\", W2vVectorizer(wv)),\n",
    "                (\"XGBoost Model\", XGBClassifier())])\n",
    "\n",
    "models = [(\"Random Forest\", rf, param_grid_rf),\n",
    "          (\"Support Vector\", svc, param_grid_svc),\n",
    "          (\"Logistic Regression\", lr, param_grid_lr),\n",
    "          (\"XGBoost Model\", xgb, param_grid_xgb)]\n",
    "\n",
    "#[{'max_depth': [4], 'n_estimators': [100], 'learning_rate': [0.1],'gamma': [0, 1] }]"
   ]
  },
  {
   "cell_type": "code",
   "execution_count": null,
   "metadata": {
    "scrolled": true
   },
   "outputs": [
    {
     "name": "stdout",
     "output_type": "stream",
     "text": [
      "GRIDSEARCH AND SCORE ALL MODELS:\n",
      "   Random Forest:\t time 00:01:44\n",
      "   Support Vector:\t time 00:04:15\n",
      "   Logistic Regression"
     ]
    }
   ],
   "source": [
    "results.extend(gridsearch_all_models(models, X_train, X_test, y_train, y_test))"
   ]
  },
  {
   "cell_type": "code",
   "execution_count": 62,
   "metadata": {},
   "outputs": [
    {
     "data": {
      "text/html": [
       "<div>\n",
       "<style scoped>\n",
       "    .dataframe tbody tr th:only-of-type {\n",
       "        vertical-align: middle;\n",
       "    }\n",
       "\n",
       "    .dataframe tbody tr th {\n",
       "        vertical-align: top;\n",
       "    }\n",
       "\n",
       "    .dataframe thead th {\n",
       "        text-align: right;\n",
       "    }\n",
       "</style>\n",
       "<table border=\"1\" class=\"dataframe\">\n",
       "  <thead>\n",
       "    <tr style=\"text-align: right;\">\n",
       "      <th></th>\n",
       "      <th>accuracy test</th>\n",
       "      <th>accuracy train</th>\n",
       "      <th>custom accuracy test</th>\n",
       "      <th>custom accuracy train</th>\n",
       "      <th>model</th>\n",
       "      <th>model params</th>\n",
       "      <th>name</th>\n",
       "    </tr>\n",
       "  </thead>\n",
       "  <tbody>\n",
       "    <tr>\n",
       "      <th>0</th>\n",
       "      <td>0.4940</td>\n",
       "      <td>0.6018</td>\n",
       "      <td>0.6628</td>\n",
       "      <td>0.7323</td>\n",
       "      <td>Pipeline(memory=None,\\n     steps=[('Word2Vec ...</td>\n",
       "      <td>{'Random Forest__criterion': 'entropy', 'Rando...</td>\n",
       "      <td>Random Forest</td>\n",
       "    </tr>\n",
       "    <tr>\n",
       "      <th>1</th>\n",
       "      <td>0.5626</td>\n",
       "      <td>0.6345</td>\n",
       "      <td>0.7415</td>\n",
       "      <td>0.7803</td>\n",
       "      <td>Pipeline(memory=None,\\n     steps=[('Word2Vec ...</td>\n",
       "      <td>{'Support Vector Machine__C': 10, 'Support Vec...</td>\n",
       "      <td>Support Vector</td>\n",
       "    </tr>\n",
       "    <tr>\n",
       "      <th>2</th>\n",
       "      <td>0.5647</td>\n",
       "      <td>0.5860</td>\n",
       "      <td>0.7423</td>\n",
       "      <td>0.7514</td>\n",
       "      <td>Pipeline(memory=None,\\n     steps=[('Word2Vec ...</td>\n",
       "      <td>{'Logistic Regression__C': 0.1, 'Logistic Regr...</td>\n",
       "      <td>Logistic Regression</td>\n",
       "    </tr>\n",
       "    <tr>\n",
       "      <th>3</th>\n",
       "      <td>0.5495</td>\n",
       "      <td>0.7527</td>\n",
       "      <td>0.7234</td>\n",
       "      <td>0.8447</td>\n",
       "      <td>Pipeline(memory=None,\\n     steps=[('Word2Vec ...</td>\n",
       "      <td>{'XGBoost Model__gamma': 0, 'XGBoost Model__le...</td>\n",
       "      <td>XGBoost Model</td>\n",
       "    </tr>\n",
       "  </tbody>\n",
       "</table>\n",
       "</div>"
      ],
      "text/plain": [
       "   accuracy test  accuracy train  custom accuracy test  custom accuracy train  \\\n",
       "0         0.4940          0.6018                0.6628                 0.7323   \n",
       "1         0.5626          0.6345                0.7415                 0.7803   \n",
       "2         0.5647          0.5860                0.7423                 0.7514   \n",
       "3         0.5495          0.7527                0.7234                 0.8447   \n",
       "\n",
       "                                               model  \\\n",
       "0  Pipeline(memory=None,\\n     steps=[('Word2Vec ...   \n",
       "1  Pipeline(memory=None,\\n     steps=[('Word2Vec ...   \n",
       "2  Pipeline(memory=None,\\n     steps=[('Word2Vec ...   \n",
       "3  Pipeline(memory=None,\\n     steps=[('Word2Vec ...   \n",
       "\n",
       "                                        model params                 name  \n",
       "0  {'Random Forest__criterion': 'entropy', 'Rando...        Random Forest  \n",
       "1  {'Support Vector Machine__C': 10, 'Support Vec...       Support Vector  \n",
       "2  {'Logistic Regression__C': 0.1, 'Logistic Regr...  Logistic Regression  \n",
       "3  {'XGBoost Model__gamma': 0, 'XGBoost Model__le...        XGBoost Model  "
      ]
     },
     "execution_count": 62,
     "metadata": {},
     "output_type": "execute_result"
    }
   ],
   "source": [
    "pd.DataFrame(results)"
   ]
  },
  {
   "cell_type": "markdown",
   "metadata": {},
   "source": [
    "### Predict Ratings using GloVe Word Vectors"
   ]
  },
  {
   "cell_type": "code",
   "execution_count": 17,
   "metadata": {
    "scrolled": true
   },
   "outputs": [],
   "source": [
    "#Using GloVe Vectors\n",
    "glove = {}\n",
    "with open('glove.6B.50d.txt', 'rb') as f:\n",
    "    for line in f:\n",
    "        parts = line.split()\n",
    "        word = parts[0].decode('utf-8')\n",
    "        if word in wv.vocab.keys():\n",
    "            vector = np.array(parts[1:], dtype=np.float32)\n",
    "            glove[word] = vector"
   ]
  },
  {
   "cell_type": "code",
   "execution_count": 19,
   "metadata": {},
   "outputs": [],
   "source": [
    "rf  = Pipeline([(\"Word2Vec Vectorizer\", W2vVectorizer(glove)),\n",
    "                (\"Random Forest\", RandomForestClassifier(max_features='auto'))])\n",
    "svc = Pipeline([(\"Word2Vec Vectorizer\", W2vVectorizer(glove)),\n",
    "                (\"Support Vector Machine\", SVC())])\n",
    "lr  = Pipeline([(\"Word2Vec Vectorizer\", W2vVectorizer(glove)),\n",
    "                (\"Logistic Regression\", LogisticRegression(multi_class='multinomial'))])\n",
    "xgb = Pipeline([(\"Word2Vec Vectorizer\", W2vVectorizer(glove)),\n",
    "                (\"XGBoost Model\", XGBClassifier())])\n",
    "\n",
    "glove_models = [(\"GloVe Random Forest\", rf, param_grid_rf),\n",
    "                (\"GloVe Support Vector\", svc, param_grid_svc),\n",
    "                (\"GloVe Logistic Regression\", lr, param_grid_lr),\n",
    "                (\"GloVe XGBoost Model\", xgb, param_grid_xgb)]"
   ]
  },
  {
   "cell_type": "code",
   "execution_count": null,
   "metadata": {},
   "outputs": [],
   "source": [
    "results.extend(gridsearch_all_models(glove_models, X_train, X_test, y_train, y_test))"
   ]
  },
  {
   "cell_type": "code",
   "execution_count": null,
   "metadata": {},
   "outputs": [],
   "source": [
    "pd.DataFrame(results)"
   ]
  },
  {
   "cell_type": "markdown",
   "metadata": {},
   "source": [
    "# Word Embeddings - Deep Learning"
   ]
  },
  {
   "cell_type": "code",
   "execution_count": 22,
   "metadata": {},
   "outputs": [
    {
     "name": "stderr",
     "output_type": "stream",
     "text": [
      "Using Theano backend.\n",
      "WARNING (theano.configdefaults): install mkl with `conda install mkl-service`: No module named 'mkl'\n"
     ]
    }
   ],
   "source": [
    "from keras.preprocessing.sequence import pad_sequences\n",
    "from keras.layers import Input, Dense, LSTM, Embedding\n",
    "from keras.layers import Dropout, Activation, Bidirectional, GlobalMaxPool1D\n",
    "from keras.models import Model\n",
    "from keras import initializers, regularizers, constraints, optimizers, layers\n",
    "from keras.preprocessing import text, sequence"
   ]
  },
  {
   "cell_type": "code",
   "execution_count": 23,
   "metadata": {},
   "outputs": [],
   "source": [
    "y = pd.get_dummies(target).values"
   ]
  },
  {
   "cell_type": "code",
   "execution_count": 24,
   "metadata": {},
   "outputs": [],
   "source": [
    "#tokenizer = text.Tokenizer(num_words=20000)\n",
    "#tokenizer.fit_on_texts(list(reviews_df.review))\n",
    "#tokenized_reviews = tokenizer.texts_to_sequences(reviews_df.review)\n",
    "#X_t = sequence.pad_sequences(tokenized_reviews, maxlen=100)\n",
    "\n",
    "tokenizer = text.Tokenizer(num_words=20000)\n",
    "#tokenizer = text.Tokenizer()\n",
    "tokenizer.fit_on_texts(data)\n",
    "tokenized_reviews = tokenizer.texts_to_sequences(data)\n",
    "X_t = sequence.pad_sequences(tokenized_reviews, maxlen=100)"
   ]
  },
  {
   "cell_type": "code",
   "execution_count": 25,
   "metadata": {},
   "outputs": [],
   "source": [
    "embedding_size = 128\n",
    "input_ = Input(shape=(100,))\n",
    "x = Embedding(20000, embedding_size)(input_)\n",
    "x = LSTM(25, return_sequences=True)(x)\n",
    "x = GlobalMaxPool1D()(x)\n",
    "x = Dropout(0.5)(x)\n",
    "x = Dense(50, activation='relu')(x)\n",
    "x = Dropout(0.5)(x)\n",
    "# There are 41 different possible classes, so we use 41 neurons in our output layer\n",
    "x = Dense(5, activation='softmax')(x)\n",
    "\n",
    "model = Model(inputs=input_, outputs=x)"
   ]
  },
  {
   "cell_type": "code",
   "execution_count": 26,
   "metadata": {},
   "outputs": [
    {
     "name": "stdout",
     "output_type": "stream",
     "text": [
      "Model: \"model_1\"\n",
      "_________________________________________________________________\n",
      "Layer (type)                 Output Shape              Param #   \n",
      "=================================================================\n",
      "input_1 (InputLayer)         (None, 100)               0         \n",
      "_________________________________________________________________\n",
      "embedding_1 (Embedding)      (None, 100, 128)          2560000   \n",
      "_________________________________________________________________\n",
      "lstm_1 (LSTM)                (None, 100, 25)           15400     \n",
      "_________________________________________________________________\n",
      "global_max_pooling1d_1 (Glob (None, 25)                0         \n",
      "_________________________________________________________________\n",
      "dropout_1 (Dropout)          (None, 25)                0         \n",
      "_________________________________________________________________\n",
      "dense_1 (Dense)              (None, 50)                1300      \n",
      "_________________________________________________________________\n",
      "dropout_2 (Dropout)          (None, 50)                0         \n",
      "_________________________________________________________________\n",
      "dense_2 (Dense)              (None, 5)                 255       \n",
      "=================================================================\n",
      "Total params: 2,576,955\n",
      "Trainable params: 2,576,955\n",
      "Non-trainable params: 0\n",
      "_________________________________________________________________\n"
     ]
    }
   ],
   "source": [
    "model.compile(loss='categorical_crossentropy', optimizer='adam', metrics=['accuracy'])\n",
    "model.summary()"
   ]
  },
  {
   "cell_type": "code",
   "execution_count": 27,
   "metadata": {},
   "outputs": [
    {
     "name": "stdout",
     "output_type": "stream",
     "text": [
      "Train on 21910 samples, validate on 2435 samples\n",
      "Epoch 1/5\n",
      "21910/21910 [==============================] - 40s 2ms/step - loss: 1.3250 - acc: 0.4141 - val_loss: 1.2487 - val_acc: 0.4559\n",
      "Epoch 2/5\n",
      "21910/21910 [==============================] - 41s 2ms/step - loss: 1.0441 - acc: 0.5356 - val_loss: 1.1628 - val_acc: 0.4879\n",
      "Epoch 3/5\n",
      "21910/21910 [==============================] - 42s 2ms/step - loss: 0.8788 - acc: 0.6221 - val_loss: 1.2142 - val_acc: 0.5002\n",
      "Epoch 4/5\n",
      "21910/21910 [==============================] - 41s 2ms/step - loss: 0.7558 - acc: 0.6902 - val_loss: 1.4005 - val_acc: 0.4727\n",
      "Epoch 5/5\n",
      "21910/21910 [==============================] - 41s 2ms/step - loss: 0.6470 - acc: 0.7416 - val_loss: 1.5153 - val_acc: 0.4719\n"
     ]
    },
    {
     "data": {
      "text/plain": [
       "<keras.callbacks.History at 0x1a37b56898>"
      ]
     },
     "execution_count": 27,
     "metadata": {},
     "output_type": "execute_result"
    }
   ],
   "source": [
    "model.fit(X_t, y, epochs=5, batch_size=32, validation_split=0.1)"
   ]
  },
  {
   "cell_type": "code",
   "execution_count": null,
   "metadata": {},
   "outputs": [],
   "source": []
  },
  {
   "cell_type": "code",
   "execution_count": null,
   "metadata": {},
   "outputs": [],
   "source": []
  },
  {
   "cell_type": "code",
   "execution_count": null,
   "metadata": {},
   "outputs": [],
   "source": []
  },
  {
   "cell_type": "code",
   "execution_count": null,
   "metadata": {},
   "outputs": [],
   "source": []
  },
  {
   "cell_type": "code",
   "execution_count": null,
   "metadata": {},
   "outputs": [],
   "source": []
  }
 ],
 "metadata": {
  "kernelspec": {
   "display_name": "Python [conda env:learn-env] *",
   "language": "python",
   "name": "conda-env-learn-env-py"
  },
  "language_info": {
   "codemirror_mode": {
    "name": "ipython",
    "version": 3
   },
   "file_extension": ".py",
   "mimetype": "text/x-python",
   "name": "python",
   "nbconvert_exporter": "python",
   "pygments_lexer": "ipython3",
   "version": "3.6.6"
  }
 },
 "nbformat": 4,
 "nbformat_minor": 2
}
