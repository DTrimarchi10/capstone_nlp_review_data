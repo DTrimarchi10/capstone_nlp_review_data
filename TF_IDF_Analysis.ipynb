{
 "cells": [
  {
   "cell_type": "code",
   "execution_count": null,
   "metadata": {},
   "outputs": [],
   "source": []
  },
  {
   "cell_type": "code",
   "execution_count": null,
   "metadata": {},
   "outputs": [],
   "source": []
  },
  {
   "cell_type": "code",
   "execution_count": null,
   "metadata": {},
   "outputs": [],
   "source": []
  },
  {
   "cell_type": "code",
   "execution_count": null,
   "metadata": {},
   "outputs": [],
   "source": []
  },
  {
   "cell_type": "code",
   "execution_count": null,
   "metadata": {},
   "outputs": [],
   "source": []
  },
  {
   "cell_type": "code",
   "execution_count": null,
   "metadata": {},
   "outputs": [],
   "source": []
  },
  {
   "cell_type": "markdown",
   "metadata": {},
   "source": [
    "# Read Data Files"
   ]
  },
  {
   "cell_type": "code",
   "execution_count": 8,
   "metadata": {},
   "outputs": [],
   "source": [
    "import pandas as pd\n",
    "import numpy as np\n",
    "import matplotlib.pyplot as plt\n",
    "%matplotlib inline\n",
    "\n",
    "import nltk\n",
    "import time"
   ]
  },
  {
   "cell_type": "code",
   "execution_count": 2,
   "metadata": {
    "scrolled": true
   },
   "outputs": [
    {
     "name": "stdout",
     "output_type": "stream",
     "text": [
      "(1081, 9)\n"
     ]
    },
    {
     "data": {
      "text/html": [
       "<div>\n",
       "<style scoped>\n",
       "    .dataframe tbody tr th:only-of-type {\n",
       "        vertical-align: middle;\n",
       "    }\n",
       "\n",
       "    .dataframe tbody tr th {\n",
       "        vertical-align: top;\n",
       "    }\n",
       "\n",
       "    .dataframe thead th {\n",
       "        text-align: right;\n",
       "    }\n",
       "</style>\n",
       "<table border=\"1\" class=\"dataframe\">\n",
       "  <thead>\n",
       "    <tr style=\"text-align: right;\">\n",
       "      <th></th>\n",
       "      <th>address</th>\n",
       "      <th>biz_id</th>\n",
       "      <th>category</th>\n",
       "      <th>image_shown</th>\n",
       "      <th>name</th>\n",
       "      <th>num_reviews</th>\n",
       "      <th>price_range</th>\n",
       "      <th>star_rating</th>\n",
       "      <th>url</th>\n",
       "    </tr>\n",
       "  </thead>\n",
       "  <tbody>\n",
       "    <tr>\n",
       "      <th>0</th>\n",
       "      <td>234 Western Ave</td>\n",
       "      <td>the-cuckoos-nest-albany</td>\n",
       "      <td>['Southern', 'American (New)']</td>\n",
       "      <td>https://s3-media1.fl.yelpcdn.com/bphoto/6ZAVl7...</td>\n",
       "      <td>The Cuckooâs Nest</td>\n",
       "      <td>235.0</td>\n",
       "      <td>$$</td>\n",
       "      <td>4.5</td>\n",
       "      <td>https://www.yelp.com/biz/the-cuckoos-nest-alba...</td>\n",
       "    </tr>\n",
       "    <tr>\n",
       "      <th>1</th>\n",
       "      <td>79 N Pearl St</td>\n",
       "      <td>the-hollow-bar-and-kitchen-albany</td>\n",
       "      <td>['American (New)', 'Music Venues', 'Venues &amp; E...</td>\n",
       "      <td>https://s3-media4.fl.yelpcdn.com/bphoto/XjDwO1...</td>\n",
       "      <td>The Hollow Bar &amp; Kitchen</td>\n",
       "      <td>304.0</td>\n",
       "      <td>$$</td>\n",
       "      <td>4.0</td>\n",
       "      <td>https://www.yelp.com/biz/the-hollow-bar-and-ki...</td>\n",
       "    </tr>\n",
       "    <tr>\n",
       "      <th>2</th>\n",
       "      <td>182A Washington Ave</td>\n",
       "      <td>iron-gate-cafe-albany</td>\n",
       "      <td>['Cafes']</td>\n",
       "      <td>https://s3-media3.fl.yelpcdn.com/bphoto/A01kLn...</td>\n",
       "      <td>Iron Gate Cafe</td>\n",
       "      <td>474.0</td>\n",
       "      <td>$$</td>\n",
       "      <td>4.5</td>\n",
       "      <td>https://www.yelp.com/biz/iron-gate-cafe-albany...</td>\n",
       "    </tr>\n",
       "    <tr>\n",
       "      <th>3</th>\n",
       "      <td>281 New Scotland Ave</td>\n",
       "      <td>the-albany-ale-and-oyster-albany</td>\n",
       "      <td>['American (Traditional)', 'Beer Bar']</td>\n",
       "      <td>https://s3-media3.fl.yelpcdn.com/bphoto/H-GObC...</td>\n",
       "      <td>The Albany Ale &amp; Oyster</td>\n",
       "      <td>240.0</td>\n",
       "      <td>$$</td>\n",
       "      <td>4.5</td>\n",
       "      <td>https://www.yelp.com/biz/the-albany-ale-and-oy...</td>\n",
       "    </tr>\n",
       "    <tr>\n",
       "      <th>4</th>\n",
       "      <td>109 Wolf Rd</td>\n",
       "      <td>kuma-ani-albany-4</td>\n",
       "      <td>['Ramen']</td>\n",
       "      <td>https://s3-media2.fl.yelpcdn.com/bphoto/ZX6doy...</td>\n",
       "      <td>Kuma Ani</td>\n",
       "      <td>22.0</td>\n",
       "      <td>NaN</td>\n",
       "      <td>4.5</td>\n",
       "      <td>https://www.yelp.com/biz/kuma-ani-albany-4?osq...</td>\n",
       "    </tr>\n",
       "  </tbody>\n",
       "</table>\n",
       "</div>"
      ],
      "text/plain": [
       "                address                             biz_id  \\\n",
       "0       234 Western Ave            the-cuckoos-nest-albany   \n",
       "1         79 N Pearl St  the-hollow-bar-and-kitchen-albany   \n",
       "2   182A Washington Ave              iron-gate-cafe-albany   \n",
       "3  281 New Scotland Ave   the-albany-ale-and-oyster-albany   \n",
       "4           109 Wolf Rd                  kuma-ani-albany-4   \n",
       "\n",
       "                                            category  \\\n",
       "0                     ['Southern', 'American (New)']   \n",
       "1  ['American (New)', 'Music Venues', 'Venues & E...   \n",
       "2                                          ['Cafes']   \n",
       "3             ['American (Traditional)', 'Beer Bar']   \n",
       "4                                          ['Ramen']   \n",
       "\n",
       "                                         image_shown  \\\n",
       "0  https://s3-media1.fl.yelpcdn.com/bphoto/6ZAVl7...   \n",
       "1  https://s3-media4.fl.yelpcdn.com/bphoto/XjDwO1...   \n",
       "2  https://s3-media3.fl.yelpcdn.com/bphoto/A01kLn...   \n",
       "3  https://s3-media3.fl.yelpcdn.com/bphoto/H-GObC...   \n",
       "4  https://s3-media2.fl.yelpcdn.com/bphoto/ZX6doy...   \n",
       "\n",
       "                       name  num_reviews price_range  star_rating  \\\n",
       "0       The Cuckooâs Nest        235.0          $$          4.5   \n",
       "1  The Hollow Bar & Kitchen        304.0          $$          4.0   \n",
       "2            Iron Gate Cafe        474.0          $$          4.5   \n",
       "3   The Albany Ale & Oyster        240.0          $$          4.5   \n",
       "4                  Kuma Ani         22.0         NaN          4.5   \n",
       "\n",
       "                                                 url  \n",
       "0  https://www.yelp.com/biz/the-cuckoos-nest-alba...  \n",
       "1  https://www.yelp.com/biz/the-hollow-bar-and-ki...  \n",
       "2  https://www.yelp.com/biz/iron-gate-cafe-albany...  \n",
       "3  https://www.yelp.com/biz/the-albany-ale-and-oy...  \n",
       "4  https://www.yelp.com/biz/kuma-ani-albany-4?osq...  "
      ]
     },
     "execution_count": 2,
     "metadata": {},
     "output_type": "execute_result"
    }
   ],
   "source": [
    "business_info_df = pd.read_csv(\"business_info_all.csv\", encoding = \"ISO-8859-1\")\n",
    "print(business_info_df.shape)\n",
    "business_info_df.head()"
   ]
  },
  {
   "cell_type": "code",
   "execution_count": 3,
   "metadata": {
    "scrolled": false
   },
   "outputs": [
    {
     "name": "stdout",
     "output_type": "stream",
     "text": [
      "<class 'pandas.core.frame.DataFrame'>\n",
      "RangeIndex: 1081 entries, 0 to 1080\n",
      "Data columns (total 9 columns):\n",
      "address        1036 non-null object\n",
      "biz_id         1081 non-null object\n",
      "category       1081 non-null object\n",
      "image_shown    1081 non-null object\n",
      "name           1081 non-null object\n",
      "num_reviews    1081 non-null float64\n",
      "price_range    874 non-null object\n",
      "star_rating    1081 non-null float64\n",
      "url            1081 non-null object\n",
      "dtypes: float64(2), object(7)\n",
      "memory usage: 76.1+ KB\n"
     ]
    }
   ],
   "source": [
    "business_info_df.info()"
   ]
  },
  {
   "cell_type": "code",
   "execution_count": 4,
   "metadata": {},
   "outputs": [],
   "source": [
    "#Business categories are stores as one string. Need to convert to a list of strings.\n",
    "import ast\n",
    "business_info_df.category = business_info_df.category.map(ast.literal_eval)"
   ]
  },
  {
   "cell_type": "code",
   "execution_count": 5,
   "metadata": {
    "scrolled": true
   },
   "outputs": [
    {
     "name": "stdout",
     "output_type": "stream",
     "text": [
      "(59274, 8)\n"
     ]
    },
    {
     "data": {
      "text/html": [
       "<div>\n",
       "<style scoped>\n",
       "    .dataframe tbody tr th:only-of-type {\n",
       "        vertical-align: middle;\n",
       "    }\n",
       "\n",
       "    .dataframe tbody tr th {\n",
       "        vertical-align: top;\n",
       "    }\n",
       "\n",
       "    .dataframe thead th {\n",
       "        text-align: right;\n",
       "    }\n",
       "</style>\n",
       "<table border=\"1\" class=\"dataframe\">\n",
       "  <thead>\n",
       "    <tr style=\"text-align: right;\">\n",
       "      <th></th>\n",
       "      <th>business_index</th>\n",
       "      <th>business_name</th>\n",
       "      <th>date</th>\n",
       "      <th>pic_count</th>\n",
       "      <th>pic_urls</th>\n",
       "      <th>review</th>\n",
       "      <th>star_rating</th>\n",
       "      <th>user_id</th>\n",
       "    </tr>\n",
       "  </thead>\n",
       "  <tbody>\n",
       "    <tr>\n",
       "      <th>0</th>\n",
       "      <td>the-cuckoos-nest-albany</td>\n",
       "      <td>The Cuckoo’s Nest</td>\n",
       "      <td>2019-07-22</td>\n",
       "      <td>0</td>\n",
       "      <td>[]</td>\n",
       "      <td>#GRITS know best! So take it from this one, th...</td>\n",
       "      <td>5.0</td>\n",
       "      <td>NaN</td>\n",
       "    </tr>\n",
       "    <tr>\n",
       "      <th>1</th>\n",
       "      <td>the-cuckoos-nest-albany</td>\n",
       "      <td>The Cuckoo’s Nest</td>\n",
       "      <td>2019-08-13</td>\n",
       "      <td>0</td>\n",
       "      <td>[]</td>\n",
       "      <td>Brunch was enjoyable from the mimosa starter t...</td>\n",
       "      <td>4.0</td>\n",
       "      <td>NaN</td>\n",
       "    </tr>\n",
       "    <tr>\n",
       "      <th>2</th>\n",
       "      <td>the-cuckoos-nest-albany</td>\n",
       "      <td>The Cuckoo’s Nest</td>\n",
       "      <td>2019-06-28</td>\n",
       "      <td>3</td>\n",
       "      <td>['https://s3-media2.fl.yelpcdn.com/bphoto/Jiq3...</td>\n",
       "      <td>If you're looking for a delicious meal on a la...</td>\n",
       "      <td>5.0</td>\n",
       "      <td>JakQRw_9dW-j5kJchUf2OQ</td>\n",
       "    </tr>\n",
       "    <tr>\n",
       "      <th>3</th>\n",
       "      <td>the-cuckoos-nest-albany</td>\n",
       "      <td>The Cuckoo’s Nest</td>\n",
       "      <td>2019-04-26</td>\n",
       "      <td>3</td>\n",
       "      <td>['https://s3-media3.fl.yelpcdn.com/bphoto/11Wc...</td>\n",
       "      <td>The best way I can describe this place  is wit...</td>\n",
       "      <td>5.0</td>\n",
       "      <td>MVIlQinGxgwPH_XOUpoXrA</td>\n",
       "    </tr>\n",
       "    <tr>\n",
       "      <th>4</th>\n",
       "      <td>the-cuckoos-nest-albany</td>\n",
       "      <td>The Cuckoo’s Nest</td>\n",
       "      <td>2019-08-30</td>\n",
       "      <td>0</td>\n",
       "      <td>[]</td>\n",
       "      <td>Had dinner here last night and I'm still think...</td>\n",
       "      <td>5.0</td>\n",
       "      <td>NaN</td>\n",
       "    </tr>\n",
       "  </tbody>\n",
       "</table>\n",
       "</div>"
      ],
      "text/plain": [
       "            business_index      business_name        date  pic_count  \\\n",
       "0  the-cuckoos-nest-albany  The Cuckoo’s Nest  2019-07-22          0   \n",
       "1  the-cuckoos-nest-albany  The Cuckoo’s Nest  2019-08-13          0   \n",
       "2  the-cuckoos-nest-albany  The Cuckoo’s Nest  2019-06-28          3   \n",
       "3  the-cuckoos-nest-albany  The Cuckoo’s Nest  2019-04-26          3   \n",
       "4  the-cuckoos-nest-albany  The Cuckoo’s Nest  2019-08-30          0   \n",
       "\n",
       "                                            pic_urls  \\\n",
       "0                                                 []   \n",
       "1                                                 []   \n",
       "2  ['https://s3-media2.fl.yelpcdn.com/bphoto/Jiq3...   \n",
       "3  ['https://s3-media3.fl.yelpcdn.com/bphoto/11Wc...   \n",
       "4                                                 []   \n",
       "\n",
       "                                              review  star_rating  \\\n",
       "0  #GRITS know best! So take it from this one, th...          5.0   \n",
       "1  Brunch was enjoyable from the mimosa starter t...          4.0   \n",
       "2  If you're looking for a delicious meal on a la...          5.0   \n",
       "3  The best way I can describe this place  is wit...          5.0   \n",
       "4  Had dinner here last night and I'm still think...          5.0   \n",
       "\n",
       "                  user_id  \n",
       "0                     NaN  \n",
       "1                     NaN  \n",
       "2  JakQRw_9dW-j5kJchUf2OQ  \n",
       "3  MVIlQinGxgwPH_XOUpoXrA  \n",
       "4                     NaN  "
      ]
     },
     "execution_count": 5,
     "metadata": {},
     "output_type": "execute_result"
    }
   ],
   "source": [
    "reviews_df = pd.read_csv(\"reviews_all.csv\")\n",
    "print(reviews_df.shape)\n",
    "reviews_df.head()"
   ]
  },
  {
   "cell_type": "markdown",
   "metadata": {},
   "source": [
    "Print a random review:"
   ]
  },
  {
   "cell_type": "code",
   "execution_count": 6,
   "metadata": {
    "scrolled": true
   },
   "outputs": [
    {
     "name": "stdout",
     "output_type": "stream",
     "text": [
      "NAME: Zen Asian Fusion Lounge\n",
      "RATING: 2.0 stars\n",
      "DATE: 3/7/2016\n",
      "I went for lunch on Saturday with a couple of friends, the food was alright, nothing special, but the service was atrocious. We had to get up and go to the bar where our waitress was sitting with the bartender, staring at her phone, to get anything we needed. One friend wanted to order more food, but our waitress never came back to check on us. After waiting and hoping she would finally remember she had tables to attend to, I had to go up to her at the bar to ask for a box and for our check. We sat there with our credit card in the book for 5 minutes before my friend went up to the bar to ask if we could pay, the waitress continued texting for a while during the time my friend was up there, before finally getting up to swipe the card for us.\n"
     ]
    }
   ],
   "source": [
    "#Print random review:\n",
    "\n",
    "idx = np.random.randint(0,len(reviews_df))\n",
    "print(\"NAME:\",reviews_df.business_name[idx])\n",
    "print(\"RATING:\",reviews_df.star_rating[idx],\"stars\")\n",
    "print(\"DATE:\",reviews_df.date[idx])\n",
    "print(reviews_df.review[idx])"
   ]
  },
  {
   "cell_type": "code",
   "execution_count": 7,
   "metadata": {
    "scrolled": true
   },
   "outputs": [
    {
     "name": "stdout",
     "output_type": "stream",
     "text": [
      "<class 'pandas.core.frame.DataFrame'>\n",
      "RangeIndex: 59274 entries, 0 to 59273\n",
      "Data columns (total 8 columns):\n",
      "business_index    59274 non-null object\n",
      "business_name     59274 non-null object\n",
      "date              59274 non-null object\n",
      "pic_count         59274 non-null int64\n",
      "pic_urls          59274 non-null object\n",
      "review            59274 non-null object\n",
      "star_rating       59274 non-null float64\n",
      "user_id           11699 non-null object\n",
      "dtypes: float64(1), int64(1), object(6)\n",
      "memory usage: 3.6+ MB\n"
     ]
    }
   ],
   "source": [
    "reviews_df.info()"
   ]
  },
  {
   "cell_type": "code",
   "execution_count": 8,
   "metadata": {
    "scrolled": true
   },
   "outputs": [
    {
     "data": {
      "text/plain": [
       "<matplotlib.axes._subplots.AxesSubplot at 0x1294242e8>"
      ]
     },
     "execution_count": 8,
     "metadata": {},
     "output_type": "execute_result"
    },
    {
     "data": {
      "image/png": "[encoded data removed]",
      "text/plain": [
       "<Figure size 432x288 with 1 Axes>"
      ]
     },
     "metadata": {
      "needs_background": "light"
     },
     "output_type": "display_data"
    }
   ],
   "source": [
    "reviews_df.star_rating.value_counts().plot(kind='bar')"
   ]
  },
  {
   "cell_type": "markdown",
   "metadata": {},
   "source": [
    "#### See all Categories represented"
   ]
  },
  {
   "cell_type": "code",
   "execution_count": 9,
   "metadata": {},
   "outputs": [
    {
     "name": "stdout",
     "output_type": "stream",
     "text": [
      "157 unique categories\n"
     ]
    }
   ],
   "source": [
    "#categories = [item for sublist in l for item in sublist]\n",
    "flat_list = []\n",
    "for sublist in business_info_df.category:\n",
    "    for item in sublist:\n",
    "        flat_list.append(item)\n",
    "\n",
    "categories = list(set(flat_list))\n",
    "print(len(categories), \"unique categories\")"
   ]
  },
  {
   "cell_type": "markdown",
   "metadata": {},
   "source": [
    "## Define helper functions for selecting data from dataframes\n",
    "\n",
    "- get_businesses_by_category(chosen_category)\n",
    "- get_reviews_by_category(chosen_category)\n",
    "- get_reviews_for_businesses(biz_id_list)"
   ]
  },
  {
   "cell_type": "code",
   "execution_count": 10,
   "metadata": {},
   "outputs": [],
   "source": [
    "import re\n",
    "\n",
    "def get_businesses_by_category(chosen_category):\n",
    "    \"\"\"\n",
    "    This function returns all businesses in business_info_df for a particular category.\n",
    "    Substrings of categories will also find the selected category.\n",
    "    INPUTS:\n",
    "    chosen_category = text string to match against category list in business_info_df category feature.\n",
    "    OUTPUT:\n",
    "    business_info_df selection based on chosen category.\n",
    "    \"\"\"\n",
    "    chosen_category = chosen_category.lower()\n",
    "    #Check if it is a substring also\n",
    "    return business_info_df[ \n",
    "        [True in [bool(re.search(chosen_category, category.lower())) for category in category_list] \n",
    "         for category_list in business_info_df.category] ]\n",
    "    #return business_info_df[[chosen_category in category for category in business_info_df.category]]\n",
    "\n",
    "def get_reviews_by_category(chosen_category):\n",
    "    \"\"\"\n",
    "    This function returns all reviews for a particular category.\n",
    "    INPUTS:\n",
    "    chosen_category = text string to match against category list in business_info_df category feature.\n",
    "    OUTPUT:\n",
    "    reviews_df selection based on chosen category.\n",
    "    \"\"\"\n",
    "    #Select businesses\n",
    "    biz_ids_for_category = get_businesses_by_category(chosen_category)['biz_id']\n",
    "    #Select Reviews for businesses\n",
    "    return reviews_df[[biz_id in biz_ids_for_category.values for biz_id in reviews_df.business_index.values]]"
   ]
  },
  {
   "cell_type": "code",
   "execution_count": 11,
   "metadata": {},
   "outputs": [],
   "source": [
    "def get_reviews_for_businesses(biz_id_list):\n",
    "    \"\"\"\n",
    "    This function returns all reviews for a list of business_index's.\n",
    "    INPUTS:\n",
    "    biz_id_list = list of text strings representing business indexes to select reviews on.\n",
    "    OUTPUT:\n",
    "    reviews_df selection based on chosen businesses.\n",
    "    \"\"\"\n",
    "    return reviews_df[[biz_id in biz_id_list for biz_id in reviews_df.business_index.values]]"
   ]
  },
  {
   "cell_type": "markdown",
   "metadata": {},
   "source": [
    "Downselecting categories based on number of businesses and number of reviews"
   ]
  },
  {
   "cell_type": "code",
   "execution_count": 12,
   "metadata": {
    "scrolled": false
   },
   "outputs": [
    {
     "name": "stdout",
     "output_type": "stream",
     "text": [
      "Bars \t\t 156 places,\t 11303 reviews\n",
      "Cafes \t\t 47 places,\t 2313 reviews\n",
      "Japanese \t 35 places,\t 2988 reviews\n",
      "Burgers \t 124 places,\t 5478 reviews\n",
      "Fast Food \t 92 places,\t 2088 reviews\n",
      "Pubs \t\t 53 places,\t 4409 reviews\n",
      "Chicken Wings \t 44 places,\t 1676 reviews\n",
      "Barbeque \t 21 places,\t 1685 reviews\n",
      "Mexican \t 37 places,\t 2684 reviews\n",
      "Salad \t\t 62 places,\t 3289 reviews\n",
      "Steakhouses \t 21 places,\t 2146 reviews\n",
      "Seafood \t 38 places,\t 3769 reviews\n",
      "Breakfast & Brunch \t 103 places,\t 6032 reviews\n",
      "Sandwiches \t 127 places,\t 5393 reviews\n",
      "Italian \t 97 places,\t 6212 reviews\n",
      "Cocktail Bars \t 18 places,\t 1538 reviews\n",
      "Mediterranean \t 17 places,\t 1589 reviews\n",
      "Coffee & Tea \t 53 places,\t 1891 reviews\n",
      "Pizza \t\t 145 places,\t 6039 reviews\n",
      "Diners \t\t 36 places,\t 2054 reviews\n",
      "Sushi Bars \t 37 places,\t 3304 reviews\n",
      "Delis \t\t 64 places,\t 1891 reviews\n",
      "Asian Fusion \t 20 places,\t 1689 reviews\n",
      "Indian \t\t 26 places,\t 1873 reviews\n",
      "Thai \t\t 25 places,\t 1876 reviews\n",
      "881 unique businesses represented in these categories.\n",
      "49043 unique reviews represented in these categories.\n"
     ]
    }
   ],
   "source": [
    "min_businesses = 5\n",
    "min_reviews = 1500\n",
    "\n",
    "category_list = []\n",
    "biz_list = []\n",
    "\n",
    "for category in categories:\n",
    "    businesses = get_businesses_by_category(category)['biz_id'].values\n",
    "    num_businesses = len(businesses)\n",
    "    num_reviews = len(get_reviews_by_category(category))\n",
    "    if num_businesses > min_businesses and num_reviews > min_reviews:\n",
    "        tabs = \"\\t\"\n",
    "        if (len(category) < 7):\n",
    "            tabs = \"\\t\\t\"\n",
    "        print(category, tabs, num_businesses, \"places,\\t\", num_reviews,\"reviews\")\n",
    "        category_list.append(category)\n",
    "        biz_list.extend(businesses)\n",
    "        \n",
    "biz_list = list(set(biz_list))\n",
    "print(len(biz_list),\"unique businesses represented in these categories.\")\n",
    "print(len(get_reviews_for_businesses(biz_list)),\"unique reviews represented in these categories.\")"
   ]
  },
  {
   "cell_type": "code",
   "execution_count": 14,
   "metadata": {},
   "outputs": [
    {
     "name": "stdout",
     "output_type": "stream",
     "text": [
      "italian \t 97 places,\t 6212 reviews\n"
     ]
    }
   ],
   "source": [
    "category = 'italian'\n",
    "num_businesses = len(get_businesses_by_category(category))\n",
    "num_reviews = len(get_reviews_by_category(category))\n",
    "print(category, \"\\t\", num_businesses, \"places,\\t\", num_reviews,\"reviews\")"
   ]
  },
  {
   "cell_type": "code",
   "execution_count": 15,
   "metadata": {
    "scrolled": true
   },
   "outputs": [
    {
     "data": {
      "text/html": [
       "<div>\n",
       "<style scoped>\n",
       "    .dataframe tbody tr th:only-of-type {\n",
       "        vertical-align: middle;\n",
       "    }\n",
       "\n",
       "    .dataframe tbody tr th {\n",
       "        vertical-align: top;\n",
       "    }\n",
       "\n",
       "    .dataframe thead th {\n",
       "        text-align: right;\n",
       "    }\n",
       "</style>\n",
       "<table border=\"1\" class=\"dataframe\">\n",
       "  <thead>\n",
       "    <tr style=\"text-align: right;\">\n",
       "      <th></th>\n",
       "      <th>address</th>\n",
       "      <th>biz_id</th>\n",
       "      <th>category</th>\n",
       "      <th>image_shown</th>\n",
       "      <th>name</th>\n",
       "      <th>num_reviews</th>\n",
       "      <th>price_range</th>\n",
       "      <th>star_rating</th>\n",
       "      <th>url</th>\n",
       "    </tr>\n",
       "  </thead>\n",
       "  <tbody>\n",
       "    <tr>\n",
       "      <th>17</th>\n",
       "      <td>818 Central Ave</td>\n",
       "      <td>grappa-72-ristorante-albany</td>\n",
       "      <td>[Italian]</td>\n",
       "      <td>https://s3-media2.fl.yelpcdn.com/bphoto/4rfIrV...</td>\n",
       "      <td>Grappa â72 Ristorante</td>\n",
       "      <td>209.0</td>\n",
       "      <td>$$</td>\n",
       "      <td>4.0</td>\n",
       "      <td>https://www.yelp.com/biz/grappa-72-ristorante-...</td>\n",
       "    </tr>\n",
       "    <tr>\n",
       "      <th>25</th>\n",
       "      <td>288 Lark St</td>\n",
       "      <td>288-lark-wine-and-tap-albany</td>\n",
       "      <td>[Italian, Wine Bars]</td>\n",
       "      <td>https://s3-media1.fl.yelpcdn.com/bphoto/V9UQKq...</td>\n",
       "      <td>288 Lark Wine &amp; Tap</td>\n",
       "      <td>10.0</td>\n",
       "      <td>NaN</td>\n",
       "      <td>4.5</td>\n",
       "      <td>https://www.yelp.com/biz/288-lark-wine-and-tap...</td>\n",
       "    </tr>\n",
       "    <tr>\n",
       "      <th>29</th>\n",
       "      <td>49 Grand St</td>\n",
       "      <td>cafe-capriccio-albany</td>\n",
       "      <td>[Italian]</td>\n",
       "      <td>https://s3-media4.fl.yelpcdn.com/bphoto/xl-xQG...</td>\n",
       "      <td>Cafe Capriccio</td>\n",
       "      <td>132.0</td>\n",
       "      <td>$$$</td>\n",
       "      <td>4.0</td>\n",
       "      <td>https://www.yelp.com/biz/cafe-capriccio-albany...</td>\n",
       "    </tr>\n",
       "    <tr>\n",
       "      <th>33</th>\n",
       "      <td>320 Northern Blvd</td>\n",
       "      <td>risotto-albany</td>\n",
       "      <td>[Mediterranean, Italian, Breakfast &amp; Brunch]</td>\n",
       "      <td>https://s3-media4.fl.yelpcdn.com/bphoto/PD01st...</td>\n",
       "      <td>Risotto</td>\n",
       "      <td>118.0</td>\n",
       "      <td>$$</td>\n",
       "      <td>4.0</td>\n",
       "      <td>https://www.yelp.com/biz/risotto-albany?osq=re...</td>\n",
       "    </tr>\n",
       "    <tr>\n",
       "      <th>39</th>\n",
       "      <td>662 Central Ave</td>\n",
       "      <td>caffe-italia-albany</td>\n",
       "      <td>[Italian]</td>\n",
       "      <td>https://s3-media1.fl.yelpcdn.com/bphoto/TnGFOD...</td>\n",
       "      <td>Caffe Italia</td>\n",
       "      <td>83.0</td>\n",
       "      <td>$$$</td>\n",
       "      <td>4.5</td>\n",
       "      <td>https://www.yelp.com/biz/caffe-italia-albany?o...</td>\n",
       "    </tr>\n",
       "  </tbody>\n",
       "</table>\n",
       "</div>"
      ],
      "text/plain": [
       "              address                        biz_id  \\\n",
       "17    818 Central Ave   grappa-72-ristorante-albany   \n",
       "25        288 Lark St  288-lark-wine-and-tap-albany   \n",
       "29        49 Grand St         cafe-capriccio-albany   \n",
       "33  320 Northern Blvd                risotto-albany   \n",
       "39    662 Central Ave           caffe-italia-albany   \n",
       "\n",
       "                                        category  \\\n",
       "17                                     [Italian]   \n",
       "25                          [Italian, Wine Bars]   \n",
       "29                                     [Italian]   \n",
       "33  [Mediterranean, Italian, Breakfast & Brunch]   \n",
       "39                                     [Italian]   \n",
       "\n",
       "                                          image_shown  \\\n",
       "17  https://s3-media2.fl.yelpcdn.com/bphoto/4rfIrV...   \n",
       "25  https://s3-media1.fl.yelpcdn.com/bphoto/V9UQKq...   \n",
       "29  https://s3-media4.fl.yelpcdn.com/bphoto/xl-xQG...   \n",
       "33  https://s3-media4.fl.yelpcdn.com/bphoto/PD01st...   \n",
       "39  https://s3-media1.fl.yelpcdn.com/bphoto/TnGFOD...   \n",
       "\n",
       "                       name  num_reviews price_range  star_rating  \\\n",
       "17  Grappa â72 Ristorante        209.0          $$          4.0   \n",
       "25      288 Lark Wine & Tap         10.0         NaN          4.5   \n",
       "29           Cafe Capriccio        132.0         $$$          4.0   \n",
       "33                  Risotto        118.0          $$          4.0   \n",
       "39             Caffe Italia         83.0         $$$          4.5   \n",
       "\n",
       "                                                  url  \n",
       "17  https://www.yelp.com/biz/grappa-72-ristorante-...  \n",
       "25  https://www.yelp.com/biz/288-lark-wine-and-tap...  \n",
       "29  https://www.yelp.com/biz/cafe-capriccio-albany...  \n",
       "33  https://www.yelp.com/biz/risotto-albany?osq=re...  \n",
       "39  https://www.yelp.com/biz/caffe-italia-albany?o...  "
      ]
     },
     "execution_count": 15,
     "metadata": {},
     "output_type": "execute_result"
    }
   ],
   "source": [
    "get_businesses_by_category('italian')[0:5]"
   ]
  },
  {
   "cell_type": "markdown",
   "metadata": {},
   "source": [
    "# Clean Text Function\n",
    "Define function to clean text blocks."
   ]
  },
  {
   "cell_type": "code",
   "execution_count": 16,
   "metadata": {},
   "outputs": [],
   "source": [
    "# string.punctuation contains '!\"#$%&\\'()*+,-./:;<=>?@[\\\\]^_`{|}~'\n",
    "\n",
    "def clean_text(text_block):\n",
    "    \"\"\"\n",
    "    This function cleans a block of text.\n",
    "    INPUT:\n",
    "    text_block = The block of text to clean.\n",
    "    OUTPUT:\n",
    "    A block of text stripped of punctuation and made lowercase.\n",
    "    \"\"\"\n",
    "    #Some reviews forget to have a space after a period. I want to force a space.\n",
    "    #text_block = text_block.replace(\".\",\" \")\n",
    "    #This represents a non-breaking space in the text block that needs to be removed.\n",
    "    text_block = text_block.replace(u'\\xa0', u' ')  \n",
    "    #for symbol in \",.?!''\\n\":\n",
    "    for symbol in '!\"#$%()*+,-./:;<=>?@[\\\\]^_`{|}~':\n",
    "        text_block = text_block.replace(symbol, ' ').lower()\n",
    "    return text_block"
   ]
  },
  {
   "cell_type": "code",
   "execution_count": 17,
   "metadata": {
    "scrolled": false
   },
   "outputs": [
    {
     "data": {
      "text/plain": [
       "\" grits know best  so take it from this one  this is some delicious southern food  i ordered the fried chicken with corn bread and mac cheese for my fixins  yes  i said it  fixins  just like their menu says  the cornbread was huge and buttery  the fried very well seasoned with a hit of lemon which i loved  the mac cheese wasn't the best i have ever had but best i have had in this area so far  just wished i had a few burnt edges lol my friend had the blackened catfish and it was equally delicious  their services was quite friendly  our waitress wasn't as efficient and was a bit slow but the hostess made up for it  her friendliness over compensated and made it a very pleasant experience  the only criticism i have would be with the drinks as it seemed they packed the cups with ice before filling with the liquid  that tends to annoy me a bit as it will water down your drink as the ice melts  so i proceeded to take out all the ice and the hostess noticed and filled up the cup   kudosoverall  it was quite a nice experience  i'll be back  oh and the hostess gave me their homemade biscuits to try   delicious ordered a plate you won't be sorry \""
      ]
     },
     "execution_count": 17,
     "metadata": {},
     "output_type": "execute_result"
    }
   ],
   "source": [
    "clean_text(reviews_df.review[0])"
   ]
  },
  {
   "cell_type": "code",
   "execution_count": 18,
   "metadata": {
    "scrolled": false
   },
   "outputs": [
    {
     "data": {
      "text/plain": [
       "'#GRITS know best! So take it from this one, this is some delicious Southern food! I ordered the fried chicken with corn bread and mac/cheese for my fixins! Yes! I said it \"fixins\" just like their menu says. The cornbread was HUGE and buttery. The fried very well seasoned with a hit of lemon which I LOVED. The mac/cheese wasn\\'t the best I have ever had but best I have had in this area so far, just wished I had a few burnt edges lol My friend had the blackened catfish and it was equally delicious! Their services was quite friendly! Our waitress wasn\\'t as efficient and was a bit slow but the hostess made up for it! Her friendliness over compensated and made it a very pleasant experience. The only criticism I have would be with the drinks as it seemed they packed the cups with ice before filling with the liquid. That tends to annoy me a bit as it will water down your drink as the ice melts. So I proceeded to take out all the ice and the hostess noticed and filled up the cup! #kudosOverall, it was quite a nice experience! I\\'ll be back! Oh and the hostess gave me their homemade biscuits to try. #delicious Ordered a plate you won\\'t be sorry!'"
      ]
     },
     "execution_count": 18,
     "metadata": {},
     "output_type": "execute_result"
    }
   ],
   "source": [
    "reviews_df.review[0]"
   ]
  },
  {
   "cell_type": "markdown",
   "metadata": {},
   "source": [
    "# Tokenize Text Function\n",
    "Define function to tokenize text blocks."
   ]
  },
  {
   "cell_type": "code",
   "execution_count": 21,
   "metadata": {},
   "outputs": [],
   "source": [
    "#Declare default tokenizer method and stopwords list that will be used in the my_tokenizer() method.\n",
    "default_tokenizer = nltk.tokenize.TweetTokenizer(preserve_case=False).tokenize\n",
    "\n",
    "def my_tokenizer(text_block,  \n",
    "                 tokenizer=default_tokenizer):\n",
    "    \"\"\"\n",
    "    This function cleans a block of text using the clean_text() function and then\n",
    "    tokenizes the cleaned block of text.\n",
    "    \n",
    "    INPUTS:\n",
    "    text_block = The text string to be tokenized.\n",
    "    tokenizer  = The tokenizer method to use for splitting the text string into tokens. \n",
    "                 Default is default_tokenizer defined outside of this function.\n",
    "    OUTPUT:\n",
    "    List of words in the text block.\n",
    "    \"\"\"\n",
    "    tokens = tokenizer(clean_text(text_block))\n",
    "    return tokens"
   ]
  },
  {
   "cell_type": "markdown",
   "metadata": {},
   "source": [
    "# TF-IDF Stuff to figure out Stopwords"
   ]
  },
  {
   "cell_type": "markdown",
   "metadata": {},
   "source": [
    "### Manual Methods"
   ]
  },
  {
   "cell_type": "markdown",
   "metadata": {},
   "source": [
    "Count Vectorize Function"
   ]
  },
  {
   "cell_type": "code",
   "execution_count": 22,
   "metadata": {},
   "outputs": [],
   "source": [
    "def count_vectorize(text_block, vocab=None):\n",
    "    if vocab == None:\n",
    "        vocab = list(set(text_block))\n",
    "        \n",
    "    text_dict = {i:0 for i in vocab}\n",
    "    \n",
    "    for word in text_block:\n",
    "        text_dict[word] = text_dict.get(word, 0) + 1\n",
    "        \n",
    "    return text_dict"
   ]
  },
  {
   "cell_type": "markdown",
   "metadata": {},
   "source": [
    "Term Frequency Function"
   ]
  },
  {
   "cell_type": "code",
   "execution_count": 24,
   "metadata": {},
   "outputs": [],
   "source": [
    "def term_frequency(BoW_dict):\n",
    "    total_terms = sum(BoW_dict.values())\n",
    "    term_freq = {}\n",
    "    for key, value in BoW_dict.items():\n",
    "        term_freq[key] = value/total_terms\n",
    "    return term_freq"
   ]
  },
  {
   "cell_type": "markdown",
   "metadata": {},
   "source": [
    "Inverse Document Frequency Function"
   ]
  },
  {
   "cell_type": "code",
   "execution_count": 115,
   "metadata": {},
   "outputs": [],
   "source": [
    "def inverse_document_frequency(list_of_dicts):\n",
    "    num_docs = len(list_of_dicts)\n",
    "    \n",
    "    vocab = set()\n",
    "    for d in list_of_dicts:\n",
    "        vocab.update(d.keys())\n",
    "        \n",
    "    # Once vocab set is complete, create an empty dictionary with a key for each word and value of 0.\n",
    "    full_vocab_dict = {i:0 for i in vocab}\n",
    "    \n",
    "    # Loop through each word in full_vocab_dict\n",
    "    for word, val in full_vocab_dict.items():\n",
    "        docs = 0\n",
    "        # Loop through list of dicts.  Each time a dictionary contains the word, increment docs by 1\n",
    "        for d in list_of_dicts:\n",
    "            if d.get(word,False):\n",
    "                docs += 1\n",
    "        # Now that we know denominator for equation, compute and set IDF value for word\n",
    "        full_vocab_dict[word] = np.log(num_docs/float(docs))\n",
    "    \n",
    "    return full_vocab_dict"
   ]
  },
  {
   "cell_type": "markdown",
   "metadata": {},
   "source": [
    "TF IDF Function"
   ]
  },
  {
   "cell_type": "code",
   "execution_count": 141,
   "metadata": {},
   "outputs": [],
   "source": [
    "def tf_idf(list_of_dicts):\n",
    "    # Create empty dictionary containing full vocabulary of entire corpus\n",
    "    idf = inverse_document_frequency(list_of_dicts)\n",
    "    full_vocab_list = {i:0 for i in list(idf.keys())}\n",
    "    \n",
    "    # Create tf-idf list of dictionaries, containing a dictionary that will be updated for each document\n",
    "    tf_idf_list_of_dicts = []\n",
    "    \n",
    "    # Now, compute tf and then use this to compute and set tf-idf values for each document\n",
    "    for doc in list_of_dicts:\n",
    "        doc_tf_idf = {}\n",
    "        doc_tf = term_frequency(doc)\n",
    "        for word in doc_tf.keys():\n",
    "            doc_tf_idf[word] = doc_tf[word] * idf[word]\n",
    "        tf_idf_list_of_dicts.append(doc_tf_idf)\n",
    "    \n",
    "    return tf_idf_list_of_dicts"
   ]
  },
  {
   "cell_type": "code",
   "execution_count": null,
   "metadata": {},
   "outputs": [],
   "source": []
  },
  {
   "cell_type": "markdown",
   "metadata": {},
   "source": [
    "### Get TFIDF for every review - WARNING THIS TAKES FOREVER TO RUN"
   ]
  },
  {
   "cell_type": "code",
   "execution_count": 264,
   "metadata": {},
   "outputs": [
    {
     "name": "stdout",
     "output_type": "stream",
     "text": [
      "Tokenize and Count Vectorize: 00:00:31\n"
     ]
    }
   ],
   "source": [
    "reviews = reviews_df.review\n",
    "\n",
    "print(\"Tokenize and Count Vectorize: \", end='')\n",
    "start = time.time()\n",
    "\n",
    "#Tokenize\n",
    "reviews_tokenized = reviews.map(my_tokenizer)\n",
    "\n",
    "#Count Vectorize\n",
    "reviews_vectorized = reviews_tokenized.map(count_vectorize)\n",
    "\n",
    "end = time.time()\n",
    "print(time.strftime('%H:%M:%S', time.gmtime(end-start)))"
   ]
  },
  {
   "cell_type": "code",
   "execution_count": 272,
   "metadata": {},
   "outputs": [
    {
     "name": "stdout",
     "output_type": "stream",
     "text": [
      "Compute Inverse Document Frequency: 00:14:15\n"
     ]
    }
   ],
   "source": [
    "print(\"Compute Inverse Document Frequency: \", end='')\n",
    "start = time.time()\n",
    "\n",
    "#Explore IDF for entire corpus\n",
    "idf_total = inverse_document_frequency(reviews_vectorized)\n",
    "\n",
    "end = time.time()\n",
    "print(time.strftime('%H:%M:%S', time.gmtime(end-start)))"
   ]
  },
  {
   "cell_type": "code",
   "execution_count": 273,
   "metadata": {},
   "outputs": [
    {
     "data": {
      "text/plain": [
       "[('the', 0.09574554128778558),\n",
       " ('and', 0.11367290893426686),\n",
       " ('a', 0.2421809587620774),\n",
       " ('to', 0.3392767188702173),\n",
       " ('i', 0.3627378541329993),\n",
       " ('of', 0.49062854006541295),\n",
       " ('was', 0.49571170477592563),\n",
       " ('for', 0.5065159978910839),\n",
       " ('is', 0.5203579272608135),\n",
       " ('in', 0.5585787714146307),\n",
       " ('it', 0.5771840977118955),\n",
       " ('food', 0.6440630256081394),\n",
       " ('but', 0.7164969356972832),\n",
       " ('with', 0.7171879490958885),\n",
       " ('this', 0.7460098024760725),\n",
       " ('my', 0.7953746399382119),\n",
       " ('on', 0.8406727583859115),\n",
       " ('good', 0.8928473386842154),\n",
       " ('that', 0.8957768066674449),\n",
       " ('they', 0.9105962095402043)]"
      ]
     },
     "execution_count": 273,
     "metadata": {},
     "output_type": "execute_result"
    }
   ],
   "source": [
    "idf_sorted = sorted(idf_total.items(), key=lambda x: x[1], reverse=False)\n",
    "idf_sorted[0:20]"
   ]
  },
  {
   "cell_type": "markdown",
   "metadata": {},
   "source": [
    "Inspect Stopwords"
   ]
  },
  {
   "cell_type": "code",
   "execution_count": 277,
   "metadata": {
    "scrolled": false
   },
   "outputs": [
    {
     "name": "stdout",
     "output_type": "stream",
     "text": [
      "In Both IDF words and NLTK Stopwords: 65\n",
      "['the', 'and', 'a', 'to', 'i', 'of', 'was', 'for', 'is', 'in', 'it', 'but', 'with', 'this', 'my', 'on', 'that', 'they', 'had', 'not', 'have', 'were', 'we', 'you', 'are', 'be', 'so', 'at', 'very', 'here', 'as', 'there', 'out', 'if', 'all', 'just', 'from', 'or', 'when', 'their', 'an', 'which', 'our', 'will', \"it's\", 'me', 'up', 'been', 'some', 'about', 'more', 'what', 'only', 'no', 'can', 'by', 'too', 'other', \"don't\", 'has', 'because', 'your', 'than', 'them', 'after'] \n",
      "\n",
      "Only in IDF words: 35\n",
      "['food', 'good', 'place', 'great', 'service', 'like', 'back', 'time', 'one', 'go', 'get', 'would', 'ordered', 'also', 'really', 'delicious', 'restaurant', 'nice', 'chicken', 'menu', 'best', 'order', 'well', 'friendly', 'staff', 'got', 'even', \"i've\", 'try', 'came', 'little', 'always', 'us', \"i'm\", 'definitely'] \n",
      "\n",
      "Only in NLTK Stopwords: 114\n",
      "['myself', 'ours', 'ourselves', \"you're\", \"you've\", \"you'll\", \"you'd\", 'yours', 'yourself', 'yourselves', 'he', 'him', 'his', 'himself', 'she', \"she's\", 'her', 'hers', 'herself', 'its', 'itself', 'theirs', 'themselves', 'who', 'whom', \"that'll\", 'these', 'those', 'am', 'being', 'having', 'do', 'does', 'did', 'doing', 'until', 'while', 'against', 'between', 'into', 'through', 'during', 'before', 'above', 'below', 'down', 'off', 'over', 'under', 'again', 'further', 'then', 'once', 'where', 'why', 'how', 'any', 'both', 'each', 'few', 'most', 'such', 'nor', 'own', 'same', 's', 't', 'don', 'should', \"should've\", 'now', 'd', 'll', 'm', 'o', 're', 've', 'y', 'ain', 'aren', \"aren't\", 'couldn', \"couldn't\", 'didn', \"didn't\", 'doesn', \"doesn't\", 'hadn', \"hadn't\", 'hasn', \"hasn't\", 'haven', \"haven't\", 'isn', \"isn't\", 'ma', 'mightn', \"mightn't\", 'mustn', \"mustn't\", 'needn', \"needn't\", 'shan', \"shan't\", 'shouldn', \"shouldn't\", 'wasn', \"wasn't\", 'weren', \"weren't\", 'won', \"won't\", 'wouldn', \"wouldn't\"]\n"
     ]
    }
   ],
   "source": [
    "n=100\n",
    "top_n_idf = [word[0] for word in idf_sorted[0:n]]\n",
    "\n",
    "nltk_stopwords = nltk.corpus.stopwords.words('english')\n",
    "\n",
    "words_in_both_lists = [word for word in top_n_idf if word in nltk_stopwords]\n",
    "print(\"In Both IDF words and NLTK Stopwords:\",len(words_in_both_lists))\n",
    "print(words_in_both_lists,\"\\n\")\n",
    "\n",
    "idf_only = [word for word in top_n_idf if word not in nltk_stopwords]\n",
    "print(\"Only in IDF words:\",len(idf_only))\n",
    "print(idf_only,\"\\n\")\n",
    "\n",
    "nltk_only = [word for word in nltk_stopwords if word not in top_n_idf]\n",
    "print(\"Only in NLTK Stopwords:\",len(nltk_only))\n",
    "print(nltk_only)"
   ]
  },
  {
   "cell_type": "code",
   "execution_count": 290,
   "metadata": {},
   "outputs": [],
   "source": [
    "idf_df = pd.DataFrame(idf_sorted,columns=['word','idf_weight'])\n",
    "idf_df['in_nltk_stopwds'] = idf_df.word.map(lambda x: x in nltk.corpus.stopwords.words('english') )"
   ]
  },
  {
   "cell_type": "code",
   "execution_count": 292,
   "metadata": {},
   "outputs": [],
   "source": [
    "#Write IDF and weights to CSV File\n",
    "#idf_df.to_csv('idf.csv',index=False)"
   ]
  },
  {
   "cell_type": "markdown",
   "metadata": {},
   "source": [
    "TFIDF"
   ]
  },
  {
   "cell_type": "code",
   "execution_count": 275,
   "metadata": {},
   "outputs": [
    {
     "name": "stdout",
     "output_type": "stream",
     "text": [
      "Compute TF-IDF: 00:14:15\n"
     ]
    }
   ],
   "source": [
    "print(\"Compute TF-IDF: \", end='')\n",
    "start = time.time()\n",
    "\n",
    "tf_idf_vectors = tf_idf(reviews_vectorized)\n",
    "\n",
    "end = time.time()\n",
    "print(time.strftime('%H:%M:%S', time.gmtime(end-start)))"
   ]
  },
  {
   "cell_type": "code",
   "execution_count": 293,
   "metadata": {
    "scrolled": false
   },
   "outputs": [
    {
     "data": {
      "text/plain": [
       "[('fixins', 0.0752897803560938),\n",
       " ('hostess', 0.056322424590249914),\n",
       " ('ice', 0.05038458577922589),\n",
       " ('kudosoverall', 0.04995420927396604),\n",
       " ('annoy', 0.03707596680098324),\n",
       " ('compensated', 0.03681615582898347),\n",
       " ('mac', 0.034774596922733374),\n",
       " ('friendliness', 0.03226411700982683),\n",
       " ('catfish', 0.03126841898226917),\n",
       " ('criticism', 0.03064286726465077)]"
      ]
     },
     "execution_count": 293,
     "metadata": {},
     "output_type": "execute_result"
    }
   ],
   "source": [
    "idx = 0\n",
    "sorted(tf_idf_vectors[idx].items(), key=lambda x: x[1], reverse=True)[0:10]"
   ]
  },
  {
   "cell_type": "code",
   "execution_count": null,
   "metadata": {},
   "outputs": [],
   "source": []
  },
  {
   "cell_type": "code",
   "execution_count": null,
   "metadata": {},
   "outputs": [],
   "source": []
  },
  {
   "cell_type": "code",
   "execution_count": null,
   "metadata": {},
   "outputs": [],
   "source": []
  },
  {
   "cell_type": "markdown",
   "metadata": {},
   "source": [
    "## Sklearn Method - runs more quickly"
   ]
  },
  {
   "cell_type": "code",
   "execution_count": 319,
   "metadata": {},
   "outputs": [],
   "source": [
    "#SKLEARN\n",
    "from sklearn.feature_extraction.text import TfidfTransformer, CountVectorizer"
   ]
  },
  {
   "cell_type": "code",
   "execution_count": 320,
   "metadata": {},
   "outputs": [],
   "source": [
    "#Clean Text before Tokenizing\n",
    "data_cleaned = reviews_df.review.map(clean_text)"
   ]
  },
  {
   "cell_type": "code",
   "execution_count": 321,
   "metadata": {
    "scrolled": true
   },
   "outputs": [
    {
     "name": "stdout",
     "output_type": "stream",
     "text": [
      "Word Count Vector shape: (59274, 48729)\n",
      "IDF sorted:\n"
     ]
    },
    {
     "data": {
      "text/html": [
       "<div>\n",
       "<style scoped>\n",
       "    .dataframe tbody tr th:only-of-type {\n",
       "        vertical-align: middle;\n",
       "    }\n",
       "\n",
       "    .dataframe tbody tr th {\n",
       "        vertical-align: top;\n",
       "    }\n",
       "\n",
       "    .dataframe thead th {\n",
       "        text-align: right;\n",
       "    }\n",
       "</style>\n",
       "<table border=\"1\" class=\"dataframe\">\n",
       "  <thead>\n",
       "    <tr style=\"text-align: right;\">\n",
       "      <th></th>\n",
       "      <th>idf_weight</th>\n",
       "    </tr>\n",
       "  </thead>\n",
       "  <tbody>\n",
       "    <tr>\n",
       "      <th>the</th>\n",
       "      <td>1.095744</td>\n",
       "    </tr>\n",
       "    <tr>\n",
       "      <th>and</th>\n",
       "      <td>1.113671</td>\n",
       "    </tr>\n",
       "    <tr>\n",
       "      <th>to</th>\n",
       "      <td>1.339246</td>\n",
       "    </tr>\n",
       "    <tr>\n",
       "      <th>it</th>\n",
       "      <td>1.483862</td>\n",
       "    </tr>\n",
       "    <tr>\n",
       "      <th>of</th>\n",
       "      <td>1.490618</td>\n",
       "    </tr>\n",
       "    <tr>\n",
       "      <th>was</th>\n",
       "      <td>1.495701</td>\n",
       "    </tr>\n",
       "    <tr>\n",
       "      <th>for</th>\n",
       "      <td>1.506505</td>\n",
       "    </tr>\n",
       "    <tr>\n",
       "      <th>is</th>\n",
       "      <td>1.520346</td>\n",
       "    </tr>\n",
       "    <tr>\n",
       "      <th>in</th>\n",
       "      <td>1.558537</td>\n",
       "    </tr>\n",
       "    <tr>\n",
       "      <th>food</th>\n",
       "      <td>1.643791</td>\n",
       "    </tr>\n",
       "  </tbody>\n",
       "</table>\n",
       "</div>"
      ],
      "text/plain": [
       "      idf_weight\n",
       "the     1.095744\n",
       "and     1.113671\n",
       "to      1.339246\n",
       "it      1.483862\n",
       "of      1.490618\n",
       "was     1.495701\n",
       "for     1.506505\n",
       "is      1.520346\n",
       "in      1.558537\n",
       "food    1.643791"
      ]
     },
     "execution_count": 321,
     "metadata": {},
     "output_type": "execute_result"
    }
   ],
   "source": [
    "cv=CountVectorizer()\n",
    "word_count_vector=cv.fit_transform(data_cleaned)\n",
    "print(\"Word Count Vector shape:\",word_count_vector.shape)\n",
    "\n",
    "tfidf_transformer = TfidfTransformer(smooth_idf=True,use_idf=True)\n",
    "tfidf_transformer.fit(word_count_vector)\n",
    "\n",
    "# print idf values\n",
    "idf_df = pd.DataFrame(tfidf_transformer.idf_, index=cv.get_feature_names(),columns=[\"idf_weight\"])\n",
    " \n",
    "# sort ascending\n",
    "print(\"IDF sorted:\")\n",
    "idf_df.sort_values(by=['idf_weight']).head(10)"
   ]
  },
  {
   "cell_type": "markdown",
   "metadata": {},
   "source": [
    "TFIDF for all documents"
   ]
  },
  {
   "cell_type": "code",
   "execution_count": 322,
   "metadata": {},
   "outputs": [],
   "source": [
    "# count matrix\n",
    "#count_vector=cv.transform(data_cleaned)\n",
    "\n",
    "# tf-idf scores\n",
    "#tf_idf_vectors=tfidf_transformer.transform(count_vector)\n",
    "tf_idf_vectors=tfidf_transformer.transform(word_count_vector)"
   ]
  },
  {
   "cell_type": "code",
   "execution_count": 323,
   "metadata": {
    "scrolled": false
   },
   "outputs": [
    {
     "data": {
      "text/plain": [
       "\" grits know best  so take it from this one  this is some delicious southern food  i ordered the fried chicken with corn bread and mac cheese for my fixins  yes  i said it  fixins  just like their menu says  the cornbread was huge and buttery  the fried very well seasoned with a hit of lemon which i loved  the mac cheese wasn't the best i have ever had but best i have had in this area so far  just wished i had a few burnt edges lol my friend had the blackened catfish and it was equally delicious  their services was quite friendly  our waitress wasn't as efficient and was a bit slow but the hostess made up for it  her friendliness over compensated and made it a very pleasant experience  the only criticism i have would be with the drinks as it seemed they packed the cups with ice before filling with the liquid  that tends to annoy me a bit as it will water down your drink as the ice melts  so i proceeded to take out all the ice and the hostess noticed and filled up the cup   kudosoverall  it was quite a nice experience  i'll be back  oh and the hostess gave me their homemade biscuits to try   delicious ordered a plate you won't be sorry \""
      ]
     },
     "execution_count": 323,
     "metadata": {},
     "output_type": "execute_result"
    }
   ],
   "source": [
    "data_cleaned[0]"
   ]
  },
  {
   "cell_type": "code",
   "execution_count": 324,
   "metadata": {},
   "outputs": [
    {
     "data": {
      "text/html": [
       "<div>\n",
       "<style scoped>\n",
       "    .dataframe tbody tr th:only-of-type {\n",
       "        vertical-align: middle;\n",
       "    }\n",
       "\n",
       "    .dataframe tbody tr th {\n",
       "        vertical-align: top;\n",
       "    }\n",
       "\n",
       "    .dataframe thead th {\n",
       "        text-align: right;\n",
       "    }\n",
       "</style>\n",
       "<table border=\"1\" class=\"dataframe\">\n",
       "  <thead>\n",
       "    <tr style=\"text-align: right;\">\n",
       "      <th></th>\n",
       "      <th>tfidf</th>\n",
       "    </tr>\n",
       "  </thead>\n",
       "  <tbody>\n",
       "    <tr>\n",
       "      <th>fixins</th>\n",
       "      <td>0.266601</td>\n",
       "    </tr>\n",
       "    <tr>\n",
       "      <th>the</th>\n",
       "      <td>0.253545</td>\n",
       "    </tr>\n",
       "    <tr>\n",
       "      <th>hostess</th>\n",
       "      <td>0.222492</td>\n",
       "    </tr>\n",
       "    <tr>\n",
       "      <th>ice</th>\n",
       "      <td>0.203661</td>\n",
       "    </tr>\n",
       "    <tr>\n",
       "      <th>it</th>\n",
       "      <td>0.171676</td>\n",
       "    </tr>\n",
       "    <tr>\n",
       "      <th>kudosoverall</th>\n",
       "      <td>0.163373</td>\n",
       "    </tr>\n",
       "    <tr>\n",
       "      <th>mac</th>\n",
       "      <td>0.139164</td>\n",
       "    </tr>\n",
       "    <tr>\n",
       "      <th>as</th>\n",
       "      <td>0.132662</td>\n",
       "    </tr>\n",
       "    <tr>\n",
       "      <th>annoy</th>\n",
       "      <td>0.131597</td>\n",
       "    </tr>\n",
       "    <tr>\n",
       "      <th>compensated</th>\n",
       "      <td>0.130815</td>\n",
       "    </tr>\n",
       "  </tbody>\n",
       "</table>\n",
       "</div>"
      ],
      "text/plain": [
       "                 tfidf\n",
       "fixins        0.266601\n",
       "the           0.253545\n",
       "hostess       0.222492\n",
       "ice           0.203661\n",
       "it            0.171676\n",
       "kudosoverall  0.163373\n",
       "mac           0.139164\n",
       "as            0.132662\n",
       "annoy         0.131597\n",
       "compensated   0.130815"
      ]
     },
     "execution_count": 324,
     "metadata": {},
     "output_type": "execute_result"
    }
   ],
   "source": [
    "#get tfidf vector for document\n",
    "idx = 0\n",
    "doc_vector=tf_idf_vectors[idx]\n",
    " \n",
    "#print the scores\n",
    "df = pd.DataFrame(doc_vector.T.todense(), index=cv.get_feature_names(), columns=[\"tfidf\"])\n",
    "df.sort_values(by=[\"tfidf\"],ascending=False).head(10)"
   ]
  },
  {
   "cell_type": "markdown",
   "metadata": {},
   "source": [
    "Look at potential stopwords and compare to NLTK corpus of stopwords"
   ]
  },
  {
   "cell_type": "code",
   "execution_count": 325,
   "metadata": {},
   "outputs": [
    {
     "name": "stdout",
     "output_type": "stream",
     "text": [
      "In Both IDF words and NLTK Stopwords: 65\n",
      "['the', 'and', 'to', 'it', 'of', 'was', 'for', 'is', 'in', 'but', 'with', 'this', 'my', 'on', 'that', 'they', 'had', 'not', 'have', 'you', 'we', 'were', 'are', 'be', 'so', 'at', 'very', 'there', 'here', 'as', 'out', 'if', 'all', 'just', 'from', 'or', 'when', 'their', 'can', 'an', 'which', 'our', 'will', 'me', 'up', 'been', 'some', 'about', 'what', 'more', 'only', 've', 'no', 'by', 'too', 'other', 'don', 'has', 'because', 'your', 'than', 'them', 'after', 'over', 'again'] \n",
      "\n",
      "Only in IDF words: 35\n",
      "['food', 'good', 'place', 'great', 'service', 'like', 'back', 'time', 'one', 'go', 'get', 'would', 'ordered', 'also', 'really', 'delicious', 'restaurant', 'nice', 'chicken', 'menu', 'best', 'order', 'well', 'friendly', 'staff', 'got', 'even', 'try', 'came', 'little', 'always', 'us', 'definitely', 'love', 'went'] \n",
      "\n",
      "Only in NLTK Stopwords: 114\n",
      "['i', 'myself', 'ours', 'ourselves', \"you're\", \"you've\", \"you'll\", \"you'd\", 'yours', 'yourself', 'yourselves', 'he', 'him', 'his', 'himself', 'she', \"she's\", 'her', 'hers', 'herself', \"it's\", 'its', 'itself', 'theirs', 'themselves', 'who', 'whom', \"that'll\", 'these', 'those', 'am', 'being', 'having', 'do', 'does', 'did', 'doing', 'a', 'until', 'while', 'against', 'between', 'into', 'through', 'during', 'before', 'above', 'below', 'down', 'off', 'under', 'further', 'then', 'once', 'where', 'why', 'how', 'any', 'both', 'each', 'few', 'most', 'such', 'nor', 'own', 'same', 's', 't', \"don't\", 'should', \"should've\", 'now', 'd', 'll', 'm', 'o', 're', 'y', 'ain', 'aren', \"aren't\", 'couldn', \"couldn't\", 'didn', \"didn't\", 'doesn', \"doesn't\", 'hadn', \"hadn't\", 'hasn', \"hasn't\", 'haven', \"haven't\", 'isn', \"isn't\", 'ma', 'mightn', \"mightn't\", 'mustn', \"mustn't\", 'needn', \"needn't\", 'shan', \"shan't\", 'shouldn', \"shouldn't\", 'wasn', \"wasn't\", 'weren', \"weren't\", 'won', \"won't\", 'wouldn', \"wouldn't\"]\n"
     ]
    }
   ],
   "source": [
    "n=100\n",
    "top_n_idf = list(idf_df.sort_values(by=['idf_weight']).head(n).index)\n",
    "nltk_stopwords = nltk.corpus.stopwords.words('english')\n",
    "\n",
    "words_in_both_lists = [word for word in top_n_idf if word in nltk_stopwords]\n",
    "print(\"In Both IDF words and NLTK Stopwords:\",len(words_in_both_lists))\n",
    "print(words_in_both_lists,\"\\n\")\n",
    "\n",
    "idf_only = [word for word in top_n_idf if word not in nltk_stopwords]\n",
    "print(\"Only in IDF words:\",len(idf_only))\n",
    "print(idf_only,\"\\n\")\n",
    "\n",
    "nltk_only = [word for word in nltk_stopwords if word not in top_n_idf]\n",
    "print(\"Only in NLTK Stopwords:\",len(nltk_only))\n",
    "print(nltk_only)"
   ]
  },
  {
   "cell_type": "code",
   "execution_count": null,
   "metadata": {},
   "outputs": [],
   "source": []
  },
  {
   "cell_type": "code",
   "execution_count": null,
   "metadata": {},
   "outputs": [],
   "source": []
  },
  {
   "cell_type": "code",
   "execution_count": null,
   "metadata": {},
   "outputs": [],
   "source": []
  },
  {
   "cell_type": "markdown",
   "metadata": {},
   "source": [
    "# TFIDF for a category"
   ]
  },
  {
   "cell_type": "code",
   "execution_count": 355,
   "metadata": {},
   "outputs": [],
   "source": [
    "from sklearn.feature_extraction.text import TfidfVectorizer"
   ]
  },
  {
   "cell_type": "code",
   "execution_count": 356,
   "metadata": {},
   "outputs": [],
   "source": [
    "chosen_category = \"italian\"\n",
    "\n",
    "chosen_reviews = get_reviews_by_category(chosen_category)\n",
    "\n",
    "cleaned = chosen_reviews.review.map(clean_text)\n",
    "#cleaned.reset_index(drop=True, inplace=True)"
   ]
  },
  {
   "cell_type": "code",
   "execution_count": 357,
   "metadata": {},
   "outputs": [],
   "source": [
    "#TFIDF Vectorizer (settings for count vectorizer included)\n",
    "tfidf_vectorizer=TfidfVectorizer(use_idf=True)\n",
    "\n",
    "#Fit all Docs\n",
    "tfidf_vectors=tfidf_vectorizer.fit_transform(cleaned)"
   ]
  },
  {
   "cell_type": "code",
   "execution_count": 358,
   "metadata": {
    "scrolled": false
   },
   "outputs": [
    {
     "data": {
      "text/plain": [
       "Index(['the', 'and', 'to', 'was', 'it', 'for', 'of', 'is', 'in', 'food',\n",
       "       'with', 'but', 'this', 'my', 'had', 'on', 'that', 'we', 'good', 'they',\n",
       "       'not', 'have', 'you', 'were', 'place', 'great', 'be', 'so', 'very',\n",
       "       'at', 'service', 'are', 'there', 'here', 'as', 'italian', 'out', 'our',\n",
       "       'if', 'time', 'all', 'from', 'just', 'like', 'back', 'one', 'an',\n",
       "       'pizza', 'restaurant', 'when', 'go', 'their', 'sauce', 'would', 'which',\n",
       "       'ordered', 'will', 'or', 'can', 'been', 'get', 'delicious', 'up',\n",
       "       'chicken', 'best', 'about', 'me', 'also', 'what', 'more', 'only',\n",
       "       'really', 'dinner', 'some', 'no', 'by', 'pasta', 'nice', 've', 'order',\n",
       "       'well', 'us', 'bread', 'salad', 'friendly', 'meal', 'menu', 'too',\n",
       "       'came', 'because', 'has', 'staff', 'other', 'even', 'got', 'made',\n",
       "       'don', 'little', 'over', 'never'],\n",
       "      dtype='object')"
      ]
     },
     "execution_count": 358,
     "metadata": {},
     "output_type": "execute_result"
    }
   ],
   "source": [
    "# print idf values\n",
    "df_idf = pd.DataFrame(tfidf_vectorizer.idf_, index=tfidf_vectorizer.get_feature_names(),columns=[\"idf_weight\"])\n",
    "\n",
    "# sort ascending\n",
    "df_idf.sort_values(by=[\"idf_weight\"]).head(100).index"
   ]
  },
  {
   "cell_type": "code",
   "execution_count": 359,
   "metadata": {
    "scrolled": true
   },
   "outputs": [
    {
     "data": {
      "text/html": [
       "<div>\n",
       "<style scoped>\n",
       "    .dataframe tbody tr th:only-of-type {\n",
       "        vertical-align: middle;\n",
       "    }\n",
       "\n",
       "    .dataframe tbody tr th {\n",
       "        vertical-align: top;\n",
       "    }\n",
       "\n",
       "    .dataframe thead th {\n",
       "        text-align: right;\n",
       "    }\n",
       "</style>\n",
       "<table border=\"1\" class=\"dataframe\">\n",
       "  <thead>\n",
       "    <tr style=\"text-align: right;\">\n",
       "      <th></th>\n",
       "      <th>tfidf</th>\n",
       "    </tr>\n",
       "  </thead>\n",
       "  <tbody>\n",
       "    <tr>\n",
       "      <th>tapenade</th>\n",
       "      <td>0.212564</td>\n",
       "    </tr>\n",
       "    <tr>\n",
       "      <th>we</th>\n",
       "      <td>0.203523</td>\n",
       "    </tr>\n",
       "    <tr>\n",
       "      <th>were</th>\n",
       "      <td>0.159381</td>\n",
       "    </tr>\n",
       "    <tr>\n",
       "      <th>and</th>\n",
       "      <td>0.157736</td>\n",
       "    </tr>\n",
       "    <tr>\n",
       "      <th>quickly</th>\n",
       "      <td>0.146000</td>\n",
       "    </tr>\n",
       "    <tr>\n",
       "      <th>skepticism</th>\n",
       "      <td>0.142598</td>\n",
       "    </tr>\n",
       "    <tr>\n",
       "      <th>sourdough</th>\n",
       "      <td>0.142598</td>\n",
       "    </tr>\n",
       "    <tr>\n",
       "      <th>30p</th>\n",
       "      <td>0.142598</td>\n",
       "    </tr>\n",
       "    <tr>\n",
       "      <th>antara</th>\n",
       "      <td>0.142598</td>\n",
       "    </tr>\n",
       "    <tr>\n",
       "      <th>of</th>\n",
       "      <td>0.140363</td>\n",
       "    </tr>\n",
       "  </tbody>\n",
       "</table>\n",
       "</div>"
      ],
      "text/plain": [
       "               tfidf\n",
       "tapenade    0.212564\n",
       "we          0.203523\n",
       "were        0.159381\n",
       "and         0.157736\n",
       "quickly     0.146000\n",
       "skepticism  0.142598\n",
       "sourdough   0.142598\n",
       "30p         0.142598\n",
       "antara      0.142598\n",
       "of          0.140363"
      ]
     },
     "execution_count": 359,
     "metadata": {},
     "output_type": "execute_result"
    }
   ],
   "source": [
    "#get tfidf vector for document\n",
    "idx = 0\n",
    "doc_vector=tfidf_vectors[idx]\n",
    " \n",
    "#print the scores\n",
    "df = pd.DataFrame(doc_vector.T.todense(), index=tfidf_vectorizer.get_feature_names(), columns=[\"tfidf\"])\n",
    "df.sort_values(by=[\"tfidf\"],ascending=False).head(10)"
   ]
  },
  {
   "cell_type": "code",
   "execution_count": null,
   "metadata": {},
   "outputs": [],
   "source": []
  },
  {
   "cell_type": "markdown",
   "metadata": {},
   "source": [
    "### Divide by star rating on category"
   ]
  },
  {
   "cell_type": "code",
   "execution_count": 360,
   "metadata": {},
   "outputs": [],
   "source": [
    "chosen_category = \"italian\"\n",
    "chosen_reviews = get_reviews_by_category(chosen_category)"
   ]
  },
  {
   "cell_type": "code",
   "execution_count": 377,
   "metadata": {},
   "outputs": [],
   "source": [
    "#get tfidf vectors for star ratings\n",
    "tf_idf_vectors = {}\n",
    "\n",
    "for rating in chosen_reviews.star_rating.unique():\n",
    "    combined_text = cleaned[chosen_reviews.star_rating==rating].str.cat(sep=' ')\n",
    "    tf_idf_vectors[rating] = tfidf_vectorizer.transform([combined_text])"
   ]
  },
  {
   "cell_type": "code",
   "execution_count": 381,
   "metadata": {
    "scrolled": false
   },
   "outputs": [
    {
     "name": "stdout",
     "output_type": "stream",
     "text": [
      "5.0 rating\n"
     ]
    },
    {
     "data": {
      "text/html": [
       "<div>\n",
       "<style scoped>\n",
       "    .dataframe tbody tr th:only-of-type {\n",
       "        vertical-align: middle;\n",
       "    }\n",
       "\n",
       "    .dataframe tbody tr th {\n",
       "        vertical-align: top;\n",
       "    }\n",
       "\n",
       "    .dataframe thead th {\n",
       "        text-align: right;\n",
       "    }\n",
       "</style>\n",
       "<table border=\"1\" class=\"dataframe\">\n",
       "  <thead>\n",
       "    <tr style=\"text-align: right;\">\n",
       "      <th></th>\n",
       "      <th>tfidf</th>\n",
       "    </tr>\n",
       "  </thead>\n",
       "  <tbody>\n",
       "    <tr>\n",
       "      <th>the</th>\n",
       "      <td>0.428792</td>\n",
       "    </tr>\n",
       "    <tr>\n",
       "      <th>and</th>\n",
       "      <td>0.326473</td>\n",
       "    </tr>\n",
       "    <tr>\n",
       "      <th>to</th>\n",
       "      <td>0.193004</td>\n",
       "    </tr>\n",
       "    <tr>\n",
       "      <th>was</th>\n",
       "      <td>0.190960</td>\n",
       "    </tr>\n",
       "    <tr>\n",
       "      <th>is</th>\n",
       "      <td>0.179631</td>\n",
       "    </tr>\n",
       "    <tr>\n",
       "      <th>of</th>\n",
       "      <td>0.157884</td>\n",
       "    </tr>\n",
       "    <tr>\n",
       "      <th>we</th>\n",
       "      <td>0.157801</td>\n",
       "    </tr>\n",
       "    <tr>\n",
       "      <th>it</th>\n",
       "      <td>0.150291</td>\n",
       "    </tr>\n",
       "    <tr>\n",
       "      <th>in</th>\n",
       "      <td>0.138312</td>\n",
       "    </tr>\n",
       "    <tr>\n",
       "      <th>for</th>\n",
       "      <td>0.135491</td>\n",
       "    </tr>\n",
       "  </tbody>\n",
       "</table>\n",
       "</div>"
      ],
      "text/plain": [
       "        tfidf\n",
       "the  0.428792\n",
       "and  0.326473\n",
       "to   0.193004\n",
       "was  0.190960\n",
       "is   0.179631\n",
       "of   0.157884\n",
       "we   0.157801\n",
       "it   0.150291\n",
       "in   0.138312\n",
       "for  0.135491"
      ]
     },
     "metadata": {},
     "output_type": "display_data"
    },
    {
     "name": "stdout",
     "output_type": "stream",
     "text": [
      "\n",
      "4.0 rating\n"
     ]
    },
    {
     "data": {
      "text/html": [
       "<div>\n",
       "<style scoped>\n",
       "    .dataframe tbody tr th:only-of-type {\n",
       "        vertical-align: middle;\n",
       "    }\n",
       "\n",
       "    .dataframe tbody tr th {\n",
       "        vertical-align: top;\n",
       "    }\n",
       "\n",
       "    .dataframe thead th {\n",
       "        text-align: right;\n",
       "    }\n",
       "</style>\n",
       "<table border=\"1\" class=\"dataframe\">\n",
       "  <thead>\n",
       "    <tr style=\"text-align: right;\">\n",
       "      <th></th>\n",
       "      <th>tfidf</th>\n",
       "    </tr>\n",
       "  </thead>\n",
       "  <tbody>\n",
       "    <tr>\n",
       "      <th>the</th>\n",
       "      <td>0.436502</td>\n",
       "    </tr>\n",
       "    <tr>\n",
       "      <th>and</th>\n",
       "      <td>0.301652</td>\n",
       "    </tr>\n",
       "    <tr>\n",
       "      <th>was</th>\n",
       "      <td>0.225414</td>\n",
       "    </tr>\n",
       "    <tr>\n",
       "      <th>of</th>\n",
       "      <td>0.191141</td>\n",
       "    </tr>\n",
       "    <tr>\n",
       "      <th>to</th>\n",
       "      <td>0.190535</td>\n",
       "    </tr>\n",
       "    <tr>\n",
       "      <th>it</th>\n",
       "      <td>0.180550</td>\n",
       "    </tr>\n",
       "    <tr>\n",
       "      <th>is</th>\n",
       "      <td>0.152185</td>\n",
       "    </tr>\n",
       "    <tr>\n",
       "      <th>with</th>\n",
       "      <td>0.141071</td>\n",
       "    </tr>\n",
       "    <tr>\n",
       "      <th>for</th>\n",
       "      <td>0.140416</td>\n",
       "    </tr>\n",
       "    <tr>\n",
       "      <th>we</th>\n",
       "      <td>0.138621</td>\n",
       "    </tr>\n",
       "  </tbody>\n",
       "</table>\n",
       "</div>"
      ],
      "text/plain": [
       "         tfidf\n",
       "the   0.436502\n",
       "and   0.301652\n",
       "was   0.225414\n",
       "of    0.191141\n",
       "to    0.190535\n",
       "it    0.180550\n",
       "is    0.152185\n",
       "with  0.141071\n",
       "for   0.140416\n",
       "we    0.138621"
      ]
     },
     "metadata": {},
     "output_type": "display_data"
    },
    {
     "name": "stdout",
     "output_type": "stream",
     "text": [
      "\n",
      "3.0 rating\n"
     ]
    },
    {
     "data": {
      "text/html": [
       "<div>\n",
       "<style scoped>\n",
       "    .dataframe tbody tr th:only-of-type {\n",
       "        vertical-align: middle;\n",
       "    }\n",
       "\n",
       "    .dataframe tbody tr th {\n",
       "        vertical-align: top;\n",
       "    }\n",
       "\n",
       "    .dataframe thead th {\n",
       "        text-align: right;\n",
       "    }\n",
       "</style>\n",
       "<table border=\"1\" class=\"dataframe\">\n",
       "  <thead>\n",
       "    <tr style=\"text-align: right;\">\n",
       "      <th></th>\n",
       "      <th>tfidf</th>\n",
       "    </tr>\n",
       "  </thead>\n",
       "  <tbody>\n",
       "    <tr>\n",
       "      <th>the</th>\n",
       "      <td>0.444463</td>\n",
       "    </tr>\n",
       "    <tr>\n",
       "      <th>and</th>\n",
       "      <td>0.268845</td>\n",
       "    </tr>\n",
       "    <tr>\n",
       "      <th>was</th>\n",
       "      <td>0.259205</td>\n",
       "    </tr>\n",
       "    <tr>\n",
       "      <th>it</th>\n",
       "      <td>0.202948</td>\n",
       "    </tr>\n",
       "    <tr>\n",
       "      <th>to</th>\n",
       "      <td>0.195759</td>\n",
       "    </tr>\n",
       "    <tr>\n",
       "      <th>of</th>\n",
       "      <td>0.172384</td>\n",
       "    </tr>\n",
       "    <tr>\n",
       "      <th>but</th>\n",
       "      <td>0.146705</td>\n",
       "    </tr>\n",
       "    <tr>\n",
       "      <th>we</th>\n",
       "      <td>0.140696</td>\n",
       "    </tr>\n",
       "    <tr>\n",
       "      <th>for</th>\n",
       "      <td>0.134114</td>\n",
       "    </tr>\n",
       "    <tr>\n",
       "      <th>is</th>\n",
       "      <td>0.126508</td>\n",
       "    </tr>\n",
       "  </tbody>\n",
       "</table>\n",
       "</div>"
      ],
      "text/plain": [
       "        tfidf\n",
       "the  0.444463\n",
       "and  0.268845\n",
       "was  0.259205\n",
       "it   0.202948\n",
       "to   0.195759\n",
       "of   0.172384\n",
       "but  0.146705\n",
       "we   0.140696\n",
       "for  0.134114\n",
       "is   0.126508"
      ]
     },
     "metadata": {},
     "output_type": "display_data"
    },
    {
     "name": "stdout",
     "output_type": "stream",
     "text": [
      "\n",
      "2.0 rating\n"
     ]
    },
    {
     "data": {
      "text/html": [
       "<div>\n",
       "<style scoped>\n",
       "    .dataframe tbody tr th:only-of-type {\n",
       "        vertical-align: middle;\n",
       "    }\n",
       "\n",
       "    .dataframe tbody tr th {\n",
       "        vertical-align: top;\n",
       "    }\n",
       "\n",
       "    .dataframe thead th {\n",
       "        text-align: right;\n",
       "    }\n",
       "</style>\n",
       "<table border=\"1\" class=\"dataframe\">\n",
       "  <thead>\n",
       "    <tr style=\"text-align: right;\">\n",
       "      <th></th>\n",
       "      <th>tfidf</th>\n",
       "    </tr>\n",
       "  </thead>\n",
       "  <tbody>\n",
       "    <tr>\n",
       "      <th>the</th>\n",
       "      <td>0.428046</td>\n",
       "    </tr>\n",
       "    <tr>\n",
       "      <th>was</th>\n",
       "      <td>0.259496</td>\n",
       "    </tr>\n",
       "    <tr>\n",
       "      <th>and</th>\n",
       "      <td>0.250914</td>\n",
       "    </tr>\n",
       "    <tr>\n",
       "      <th>to</th>\n",
       "      <td>0.233520</td>\n",
       "    </tr>\n",
       "    <tr>\n",
       "      <th>it</th>\n",
       "      <td>0.198288</td>\n",
       "    </tr>\n",
       "    <tr>\n",
       "      <th>of</th>\n",
       "      <td>0.171213</td>\n",
       "    </tr>\n",
       "    <tr>\n",
       "      <th>we</th>\n",
       "      <td>0.163279</td>\n",
       "    </tr>\n",
       "    <tr>\n",
       "      <th>for</th>\n",
       "      <td>0.138697</td>\n",
       "    </tr>\n",
       "    <tr>\n",
       "      <th>not</th>\n",
       "      <td>0.131797</td>\n",
       "    </tr>\n",
       "    <tr>\n",
       "      <th>that</th>\n",
       "      <td>0.129871</td>\n",
       "    </tr>\n",
       "  </tbody>\n",
       "</table>\n",
       "</div>"
      ],
      "text/plain": [
       "         tfidf\n",
       "the   0.428046\n",
       "was   0.259496\n",
       "and   0.250914\n",
       "to    0.233520\n",
       "it    0.198288\n",
       "of    0.171213\n",
       "we    0.163279\n",
       "for   0.138697\n",
       "not   0.131797\n",
       "that  0.129871"
      ]
     },
     "metadata": {},
     "output_type": "display_data"
    },
    {
     "name": "stdout",
     "output_type": "stream",
     "text": [
      "\n",
      "1.0 rating\n"
     ]
    },
    {
     "data": {
      "text/html": [
       "<div>\n",
       "<style scoped>\n",
       "    .dataframe tbody tr th:only-of-type {\n",
       "        vertical-align: middle;\n",
       "    }\n",
       "\n",
       "    .dataframe tbody tr th {\n",
       "        vertical-align: top;\n",
       "    }\n",
       "\n",
       "    .dataframe thead th {\n",
       "        text-align: right;\n",
       "    }\n",
       "</style>\n",
       "<table border=\"1\" class=\"dataframe\">\n",
       "  <thead>\n",
       "    <tr style=\"text-align: right;\">\n",
       "      <th></th>\n",
       "      <th>tfidf</th>\n",
       "    </tr>\n",
       "  </thead>\n",
       "  <tbody>\n",
       "    <tr>\n",
       "      <th>the</th>\n",
       "      <td>0.393071</td>\n",
       "    </tr>\n",
       "    <tr>\n",
       "      <th>and</th>\n",
       "      <td>0.264898</td>\n",
       "    </tr>\n",
       "    <tr>\n",
       "      <th>was</th>\n",
       "      <td>0.254948</td>\n",
       "    </tr>\n",
       "    <tr>\n",
       "      <th>to</th>\n",
       "      <td>0.252293</td>\n",
       "    </tr>\n",
       "    <tr>\n",
       "      <th>we</th>\n",
       "      <td>0.179954</td>\n",
       "    </tr>\n",
       "    <tr>\n",
       "      <th>it</th>\n",
       "      <td>0.172707</td>\n",
       "    </tr>\n",
       "    <tr>\n",
       "      <th>of</th>\n",
       "      <td>0.151536</td>\n",
       "    </tr>\n",
       "    <tr>\n",
       "      <th>that</th>\n",
       "      <td>0.129391</td>\n",
       "    </tr>\n",
       "    <tr>\n",
       "      <th>not</th>\n",
       "      <td>0.122473</td>\n",
       "    </tr>\n",
       "    <tr>\n",
       "      <th>for</th>\n",
       "      <td>0.121190</td>\n",
       "    </tr>\n",
       "  </tbody>\n",
       "</table>\n",
       "</div>"
      ],
      "text/plain": [
       "         tfidf\n",
       "the   0.393071\n",
       "and   0.264898\n",
       "was   0.254948\n",
       "to    0.252293\n",
       "we    0.179954\n",
       "it    0.172707\n",
       "of    0.151536\n",
       "that  0.129391\n",
       "not   0.122473\n",
       "for   0.121190"
      ]
     },
     "metadata": {},
     "output_type": "display_data"
    },
    {
     "name": "stdout",
     "output_type": "stream",
     "text": [
      "\n"
     ]
    }
   ],
   "source": [
    "#print the scores\n",
    "\n",
    "for rating in sorted(tf_idf_vectors.keys(),reverse=True):\n",
    "    df = pd.DataFrame(tf_idf_vectors[rating].T.todense(), index=tfidf_vectorizer.get_feature_names(), columns=[\"tfidf\"])\n",
    "    print(rating,\"rating\")\n",
    "    display(df.sort_values(by=[\"tfidf\"],ascending=False).head(10))\n",
    "    print(\"\")"
   ]
  },
  {
   "cell_type": "code",
   "execution_count": null,
   "metadata": {},
   "outputs": [],
   "source": []
  },
  {
   "cell_type": "code",
   "execution_count": null,
   "metadata": {},
   "outputs": [],
   "source": []
  },
  {
   "cell_type": "code",
   "execution_count": 6,
   "metadata": {},
   "outputs": [],
   "source": [
    "from data_queries import get_businesses_by_category\n",
    "from data_queries import get_reviews_by_category \n",
    "from data_queries import get_businesses_by_name\n",
    "from data_queries import get_reviews_for_businesses"
   ]
  },
  {
   "cell_type": "code",
   "execution_count": 9,
   "metadata": {},
   "outputs": [
    {
     "ename": "NameError",
     "evalue": "name 'business_info_df' is not defined",
     "output_type": "error",
     "traceback": [
      "\u001b[0;31m---------------------------------------------------------------------------\u001b[0m",
      "\u001b[0;31mNameError\u001b[0m                                 Traceback (most recent call last)",
      "\u001b[0;32m<ipython-input-9-021954feea61>\u001b[0m in \u001b[0;36m<module>\u001b[0;34m()\u001b[0m\n\u001b[0;32m----> 1\u001b[0;31m \u001b[0mget_reviews_by_category\u001b[0m\u001b[0;34m(\u001b[0m\u001b[0;34m'beer'\u001b[0m\u001b[0;34m)\u001b[0m\u001b[0;34m\u001b[0m\u001b[0m\n\u001b[0m",
      "\u001b[0;32m~/Flatiron/capstone/capstone_nlp_review_data/data_queries.py\u001b[0m in \u001b[0;36mget_reviews_by_category\u001b[0;34m(chosen_category)\u001b[0m\n\u001b[1;32m     31\u001b[0m     \"\"\"\n\u001b[1;32m     32\u001b[0m     \u001b[0;31m#Select businesses\u001b[0m\u001b[0;34m\u001b[0m\u001b[0;34m\u001b[0m\u001b[0m\n\u001b[0;32m---> 33\u001b[0;31m     \u001b[0mbiz_ids_for_category\u001b[0m \u001b[0;34m=\u001b[0m \u001b[0mget_businesses_by_category\u001b[0m\u001b[0;34m(\u001b[0m\u001b[0mchosen_category\u001b[0m\u001b[0;34m)\u001b[0m\u001b[0;34m[\u001b[0m\u001b[0;34m'biz_id'\u001b[0m\u001b[0;34m]\u001b[0m\u001b[0;34m\u001b[0m\u001b[0m\n\u001b[0m\u001b[1;32m     34\u001b[0m     \u001b[0;31m#Select Reviews for businesses\u001b[0m\u001b[0;34m\u001b[0m\u001b[0;34m\u001b[0m\u001b[0m\n\u001b[1;32m     35\u001b[0m     \u001b[0;32mreturn\u001b[0m \u001b[0mreviews_df\u001b[0m\u001b[0;34m[\u001b[0m\u001b[0;34m[\u001b[0m\u001b[0mbiz_id\u001b[0m \u001b[0;32min\u001b[0m \u001b[0mbiz_ids_for_category\u001b[0m\u001b[0;34m.\u001b[0m\u001b[0mvalues\u001b[0m \u001b[0;32mfor\u001b[0m \u001b[0mbiz_id\u001b[0m \u001b[0;32min\u001b[0m \u001b[0mreviews_df\u001b[0m\u001b[0;34m.\u001b[0m\u001b[0mbusiness_index\u001b[0m\u001b[0;34m.\u001b[0m\u001b[0mvalues\u001b[0m\u001b[0;34m]\u001b[0m\u001b[0;34m]\u001b[0m\u001b[0;34m\u001b[0m\u001b[0m\n",
      "\u001b[0;32m~/Flatiron/capstone/capstone_nlp_review_data/data_queries.py\u001b[0m in \u001b[0;36mget_businesses_by_category\u001b[0;34m(chosen_category)\u001b[0m\n\u001b[1;32m     17\u001b[0m     \u001b[0mchosen_category\u001b[0m \u001b[0;34m=\u001b[0m \u001b[0mchosen_category\u001b[0m\u001b[0;34m.\u001b[0m\u001b[0mlower\u001b[0m\u001b[0;34m(\u001b[0m\u001b[0;34m)\u001b[0m\u001b[0;34m\u001b[0m\u001b[0m\n\u001b[1;32m     18\u001b[0m     \u001b[0;31m#Check if it is a substring also\u001b[0m\u001b[0;34m\u001b[0m\u001b[0;34m\u001b[0m\u001b[0m\n\u001b[0;32m---> 19\u001b[0;31m     return business_info_df[ \n\u001b[0m\u001b[1;32m     20\u001b[0m         [True in [bool(re.search(chosen_category, category.lower())) for category in category_list] \n\u001b[1;32m     21\u001b[0m          for category_list in business_info_df.category] ]\n",
      "\u001b[0;31mNameError\u001b[0m: name 'business_info_df' is not defined"
     ]
    }
   ],
   "source": [
    "get_reviews_by_category('beer')"
   ]
  },
  {
   "cell_type": "code",
   "execution_count": null,
   "metadata": {},
   "outputs": [],
   "source": []
  }
 ],
 "metadata": {
  "kernelspec": {
   "display_name": "Python [conda env:learn-env] *",
   "language": "python",
   "name": "conda-env-learn-env-py"
  },
  "language_info": {
   "codemirror_mode": {
    "name": "ipython",
    "version": 3
   },
   "file_extension": ".py",
   "mimetype": "text/x-python",
   "name": "python",
   "nbconvert_exporter": "python",
   "pygments_lexer": "ipython3",
   "version": "3.6.6"
  }
 },
 "nbformat": 4,
 "nbformat_minor": 2
}
