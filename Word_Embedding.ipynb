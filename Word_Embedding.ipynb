{
 "cells": [
  {
   "cell_type": "code",
   "execution_count": 1,
   "metadata": {},
   "outputs": [],
   "source": [
    "# generate document vectors or word vectors (embeddings)\n",
    "# you'll need a word embeddings on all the data for modeling\n",
    "# then make word embeddings for each star category\n",
    "# these embeddings should be used to compare 'word' similarities \n",
    "# pass a word like 'beer' or 'fish and chips' or 'fish' or 'burger' and look at 'most_similar' or pass in ['good', 'burger']\n",
    "\n",
    "# make tfidf for each star rating and compare 'important' words across those ratings\n",
    "# then compare stop words\n",
    "\n",
    "# Question: How can we leverage yelp data to give us insights on our business? "
   ]
  },
  {
   "cell_type": "code",
   "execution_count": null,
   "metadata": {},
   "outputs": [],
   "source": []
  },
  {
   "cell_type": "code",
   "execution_count": 2,
   "metadata": {},
   "outputs": [],
   "source": [
    "import pandas as pd\n",
    "import numpy as np\n",
    "import matplotlib.pyplot as plt\n",
    "%matplotlib inline\n",
    "\n",
    "import nltk\n",
    "import re\n",
    "import gensim\n",
    "import string\n",
    "import time"
   ]
  },
  {
   "cell_type": "markdown",
   "metadata": {},
   "source": [
    "# Read Data Files"
   ]
  },
  {
   "cell_type": "markdown",
   "metadata": {},
   "source": [
    "### Import Business Info CSV file"
   ]
  },
  {
   "cell_type": "code",
   "execution_count": 3,
   "metadata": {
    "scrolled": false
   },
   "outputs": [
    {
     "name": "stdout",
     "output_type": "stream",
     "text": [
      "(1081, 9)\n"
     ]
    },
    {
     "data": {
      "text/html": [
       "<div>\n",
       "<style scoped>\n",
       "    .dataframe tbody tr th:only-of-type {\n",
       "        vertical-align: middle;\n",
       "    }\n",
       "\n",
       "    .dataframe tbody tr th {\n",
       "        vertical-align: top;\n",
       "    }\n",
       "\n",
       "    .dataframe thead th {\n",
       "        text-align: right;\n",
       "    }\n",
       "</style>\n",
       "<table border=\"1\" class=\"dataframe\">\n",
       "  <thead>\n",
       "    <tr style=\"text-align: right;\">\n",
       "      <th></th>\n",
       "      <th>address</th>\n",
       "      <th>biz_id</th>\n",
       "      <th>category</th>\n",
       "      <th>image_shown</th>\n",
       "      <th>name</th>\n",
       "      <th>num_reviews</th>\n",
       "      <th>price_range</th>\n",
       "      <th>star_rating</th>\n",
       "      <th>url</th>\n",
       "    </tr>\n",
       "  </thead>\n",
       "  <tbody>\n",
       "    <tr>\n",
       "      <th>0</th>\n",
       "      <td>234 Western Ave</td>\n",
       "      <td>the-cuckoos-nest-albany</td>\n",
       "      <td>['Southern', 'American New']</td>\n",
       "      <td>https://s3-media1.fl.yelpcdn.com/bphoto/6ZAVl7...</td>\n",
       "      <td>The CuckooÃ¢ÂÂs Nest</td>\n",
       "      <td>235.0</td>\n",
       "      <td>$$</td>\n",
       "      <td>4.5</td>\n",
       "      <td>https://www.yelp.com/biz/the-cuckoos-nest-alba...</td>\n",
       "    </tr>\n",
       "    <tr>\n",
       "      <th>1</th>\n",
       "      <td>79 N Pearl St</td>\n",
       "      <td>the-hollow-bar-and-kitchen-albany</td>\n",
       "      <td>['American New', 'Music Venues', 'Venues &amp; Eve...</td>\n",
       "      <td>https://s3-media4.fl.yelpcdn.com/bphoto/XjDwO1...</td>\n",
       "      <td>The Hollow Bar &amp; Kitchen</td>\n",
       "      <td>304.0</td>\n",
       "      <td>$$</td>\n",
       "      <td>4.0</td>\n",
       "      <td>https://www.yelp.com/biz/the-hollow-bar-and-ki...</td>\n",
       "    </tr>\n",
       "    <tr>\n",
       "      <th>2</th>\n",
       "      <td>182A Washington Ave</td>\n",
       "      <td>iron-gate-cafe-albany</td>\n",
       "      <td>['Cafes']</td>\n",
       "      <td>https://s3-media3.fl.yelpcdn.com/bphoto/A01kLn...</td>\n",
       "      <td>Iron Gate Cafe</td>\n",
       "      <td>474.0</td>\n",
       "      <td>$$</td>\n",
       "      <td>4.5</td>\n",
       "      <td>https://www.yelp.com/biz/iron-gate-cafe-albany...</td>\n",
       "    </tr>\n",
       "    <tr>\n",
       "      <th>3</th>\n",
       "      <td>281 New Scotland Ave</td>\n",
       "      <td>the-albany-ale-and-oyster-albany</td>\n",
       "      <td>['American Traditional', 'Beer Bar']</td>\n",
       "      <td>https://s3-media3.fl.yelpcdn.com/bphoto/H-GObC...</td>\n",
       "      <td>The Albany Ale &amp; Oyster</td>\n",
       "      <td>240.0</td>\n",
       "      <td>$$</td>\n",
       "      <td>4.5</td>\n",
       "      <td>https://www.yelp.com/biz/the-albany-ale-and-oy...</td>\n",
       "    </tr>\n",
       "    <tr>\n",
       "      <th>4</th>\n",
       "      <td>109 Wolf Rd</td>\n",
       "      <td>kuma-ani-albany-4</td>\n",
       "      <td>['Ramen']</td>\n",
       "      <td>https://s3-media2.fl.yelpcdn.com/bphoto/ZX6doy...</td>\n",
       "      <td>Kuma Ani</td>\n",
       "      <td>22.0</td>\n",
       "      <td>NaN</td>\n",
       "      <td>4.5</td>\n",
       "      <td>https://www.yelp.com/biz/kuma-ani-albany-4?osq...</td>\n",
       "    </tr>\n",
       "  </tbody>\n",
       "</table>\n",
       "</div>"
      ],
      "text/plain": [
       "                address                             biz_id  \\\n",
       "0       234 Western Ave            the-cuckoos-nest-albany   \n",
       "1         79 N Pearl St  the-hollow-bar-and-kitchen-albany   \n",
       "2   182A Washington Ave              iron-gate-cafe-albany   \n",
       "3  281 New Scotland Ave   the-albany-ale-and-oyster-albany   \n",
       "4           109 Wolf Rd                  kuma-ani-albany-4   \n",
       "\n",
       "                                            category  \\\n",
       "0                       ['Southern', 'American New']   \n",
       "1  ['American New', 'Music Venues', 'Venues & Eve...   \n",
       "2                                          ['Cafes']   \n",
       "3               ['American Traditional', 'Beer Bar']   \n",
       "4                                          ['Ramen']   \n",
       "\n",
       "                                         image_shown  \\\n",
       "0  https://s3-media1.fl.yelpcdn.com/bphoto/6ZAVl7...   \n",
       "1  https://s3-media4.fl.yelpcdn.com/bphoto/XjDwO1...   \n",
       "2  https://s3-media3.fl.yelpcdn.com/bphoto/A01kLn...   \n",
       "3  https://s3-media3.fl.yelpcdn.com/bphoto/H-GObC...   \n",
       "4  https://s3-media2.fl.yelpcdn.com/bphoto/ZX6doy...   \n",
       "\n",
       "                       name  num_reviews price_range  star_rating  \\\n",
       "0    The CuckooÃ¢ÂÂs Nest        235.0          $$          4.5   \n",
       "1  The Hollow Bar & Kitchen        304.0          $$          4.0   \n",
       "2            Iron Gate Cafe        474.0          $$          4.5   \n",
       "3   The Albany Ale & Oyster        240.0          $$          4.5   \n",
       "4                  Kuma Ani         22.0         NaN          4.5   \n",
       "\n",
       "                                                 url  \n",
       "0  https://www.yelp.com/biz/the-cuckoos-nest-alba...  \n",
       "1  https://www.yelp.com/biz/the-hollow-bar-and-ki...  \n",
       "2  https://www.yelp.com/biz/iron-gate-cafe-albany...  \n",
       "3  https://www.yelp.com/biz/the-albany-ale-and-oy...  \n",
       "4  https://www.yelp.com/biz/kuma-ani-albany-4?osq...  "
      ]
     },
     "execution_count": 3,
     "metadata": {},
     "output_type": "execute_result"
    }
   ],
   "source": [
    "business_info_df = pd.read_csv(\"business_info_all.csv\", encoding = \"ISO-8859-1\")\n",
    "print(business_info_df.shape)\n",
    "business_info_df.head()"
   ]
  },
  {
   "cell_type": "code",
   "execution_count": 4,
   "metadata": {
    "scrolled": false
   },
   "outputs": [
    {
     "name": "stdout",
     "output_type": "stream",
     "text": [
      "<class 'pandas.core.frame.DataFrame'>\n",
      "RangeIndex: 1081 entries, 0 to 1080\n",
      "Data columns (total 9 columns):\n",
      "address        1036 non-null object\n",
      "biz_id         1081 non-null object\n",
      "category       1081 non-null object\n",
      "image_shown    1081 non-null object\n",
      "name           1081 non-null object\n",
      "num_reviews    1081 non-null float64\n",
      "price_range    874 non-null object\n",
      "star_rating    1081 non-null float64\n",
      "url            1081 non-null object\n",
      "dtypes: float64(2), object(7)\n",
      "memory usage: 76.1+ KB\n"
     ]
    }
   ],
   "source": [
    "business_info_df.info()"
   ]
  },
  {
   "cell_type": "code",
   "execution_count": 5,
   "metadata": {},
   "outputs": [],
   "source": [
    "#Business categories are stores as one string. Need to convert to a list of strings.\n",
    "import ast\n",
    "business_info_df.category = business_info_df.category.map(ast.literal_eval)"
   ]
  },
  {
   "cell_type": "markdown",
   "metadata": {},
   "source": [
    "### Import All Reviews CSV file"
   ]
  },
  {
   "cell_type": "code",
   "execution_count": 6,
   "metadata": {
    "scrolled": true
   },
   "outputs": [
    {
     "name": "stdout",
     "output_type": "stream",
     "text": [
      "(59274, 8)\n"
     ]
    },
    {
     "data": {
      "text/html": [
       "<div>\n",
       "<style scoped>\n",
       "    .dataframe tbody tr th:only-of-type {\n",
       "        vertical-align: middle;\n",
       "    }\n",
       "\n",
       "    .dataframe tbody tr th {\n",
       "        vertical-align: top;\n",
       "    }\n",
       "\n",
       "    .dataframe thead th {\n",
       "        text-align: right;\n",
       "    }\n",
       "</style>\n",
       "<table border=\"1\" class=\"dataframe\">\n",
       "  <thead>\n",
       "    <tr style=\"text-align: right;\">\n",
       "      <th></th>\n",
       "      <th>business_index</th>\n",
       "      <th>business_name</th>\n",
       "      <th>date</th>\n",
       "      <th>pic_count</th>\n",
       "      <th>pic_urls</th>\n",
       "      <th>review</th>\n",
       "      <th>star_rating</th>\n",
       "      <th>user_id</th>\n",
       "    </tr>\n",
       "  </thead>\n",
       "  <tbody>\n",
       "    <tr>\n",
       "      <th>0</th>\n",
       "      <td>the-cuckoos-nest-albany</td>\n",
       "      <td>The Cuckoo’s Nest</td>\n",
       "      <td>2019-07-22</td>\n",
       "      <td>0</td>\n",
       "      <td>[]</td>\n",
       "      <td>#GRITS know best! So take it from this one, th...</td>\n",
       "      <td>5.0</td>\n",
       "      <td>NaN</td>\n",
       "    </tr>\n",
       "    <tr>\n",
       "      <th>1</th>\n",
       "      <td>the-cuckoos-nest-albany</td>\n",
       "      <td>The Cuckoo’s Nest</td>\n",
       "      <td>2019-08-13</td>\n",
       "      <td>0</td>\n",
       "      <td>[]</td>\n",
       "      <td>Brunch was enjoyable from the mimosa starter t...</td>\n",
       "      <td>4.0</td>\n",
       "      <td>NaN</td>\n",
       "    </tr>\n",
       "    <tr>\n",
       "      <th>2</th>\n",
       "      <td>the-cuckoos-nest-albany</td>\n",
       "      <td>The Cuckoo’s Nest</td>\n",
       "      <td>2019-06-28</td>\n",
       "      <td>3</td>\n",
       "      <td>['https://s3-media2.fl.yelpcdn.com/bphoto/Jiq3...</td>\n",
       "      <td>If you're looking for a delicious meal on a la...</td>\n",
       "      <td>5.0</td>\n",
       "      <td>JakQRw_9dW-j5kJchUf2OQ</td>\n",
       "    </tr>\n",
       "    <tr>\n",
       "      <th>3</th>\n",
       "      <td>the-cuckoos-nest-albany</td>\n",
       "      <td>The Cuckoo’s Nest</td>\n",
       "      <td>2019-04-26</td>\n",
       "      <td>3</td>\n",
       "      <td>['https://s3-media3.fl.yelpcdn.com/bphoto/11Wc...</td>\n",
       "      <td>The best way I can describe this place  is wit...</td>\n",
       "      <td>5.0</td>\n",
       "      <td>MVIlQinGxgwPH_XOUpoXrA</td>\n",
       "    </tr>\n",
       "    <tr>\n",
       "      <th>4</th>\n",
       "      <td>the-cuckoos-nest-albany</td>\n",
       "      <td>The Cuckoo’s Nest</td>\n",
       "      <td>2019-08-30</td>\n",
       "      <td>0</td>\n",
       "      <td>[]</td>\n",
       "      <td>Had dinner here last night and I'm still think...</td>\n",
       "      <td>5.0</td>\n",
       "      <td>NaN</td>\n",
       "    </tr>\n",
       "  </tbody>\n",
       "</table>\n",
       "</div>"
      ],
      "text/plain": [
       "            business_index      business_name       date  pic_count  \\\n",
       "0  the-cuckoos-nest-albany  The Cuckoo’s Nest 2019-07-22          0   \n",
       "1  the-cuckoos-nest-albany  The Cuckoo’s Nest 2019-08-13          0   \n",
       "2  the-cuckoos-nest-albany  The Cuckoo’s Nest 2019-06-28          3   \n",
       "3  the-cuckoos-nest-albany  The Cuckoo’s Nest 2019-04-26          3   \n",
       "4  the-cuckoos-nest-albany  The Cuckoo’s Nest 2019-08-30          0   \n",
       "\n",
       "                                            pic_urls  \\\n",
       "0                                                 []   \n",
       "1                                                 []   \n",
       "2  ['https://s3-media2.fl.yelpcdn.com/bphoto/Jiq3...   \n",
       "3  ['https://s3-media3.fl.yelpcdn.com/bphoto/11Wc...   \n",
       "4                                                 []   \n",
       "\n",
       "                                              review  star_rating  \\\n",
       "0  #GRITS know best! So take it from this one, th...          5.0   \n",
       "1  Brunch was enjoyable from the mimosa starter t...          4.0   \n",
       "2  If you're looking for a delicious meal on a la...          5.0   \n",
       "3  The best way I can describe this place  is wit...          5.0   \n",
       "4  Had dinner here last night and I'm still think...          5.0   \n",
       "\n",
       "                  user_id  \n",
       "0                     NaN  \n",
       "1                     NaN  \n",
       "2  JakQRw_9dW-j5kJchUf2OQ  \n",
       "3  MVIlQinGxgwPH_XOUpoXrA  \n",
       "4                     NaN  "
      ]
     },
     "execution_count": 6,
     "metadata": {},
     "output_type": "execute_result"
    }
   ],
   "source": [
    "reviews_df = pd.read_csv(\"reviews_all.csv\")\n",
    "reviews_df.date = pd.to_datetime(reviews_df.date)\n",
    "print(reviews_df.shape)\n",
    "reviews_df.head()"
   ]
  },
  {
   "cell_type": "markdown",
   "metadata": {},
   "source": [
    "Print a random review:"
   ]
  },
  {
   "cell_type": "code",
   "execution_count": 7,
   "metadata": {
    "scrolled": true
   },
   "outputs": [
    {
     "name": "stdout",
     "output_type": "stream",
     "text": [
      "NAME: T-Swirl Crepe\n",
      "RATING: 3.0 stars\n",
      "DATE: 2019-01-29\n",
      "Yelps 3 stars is \"A-OK\" and I think that sums T-Swirl up well. Everything you get is what they claim it will be. They didn't underperform. The shortfalls were more functional.The crepes are pretty small, so eating for a family isn't really a full meal, yet it still costs what a full meal does. The crepes, particularly if you get a savory one with veggies and meat, are very difficult to eat, it makes a total mess. The sweet crepe I got, banana Nutella, wasn't warm, which although they never said it would be, it feels like it should be. All that said, the crepes were flavorful and tasted great. I got an earl grey milk tea it was extremely good, however they kept forgetting about it and I had to go up and ask 3 times. We ate our whole meal and waited some more before my tea was ready. I think this would be a really fun place to take little kiddies for a snack or dessert, I would maybe skip it for dinner.\n"
     ]
    }
   ],
   "source": [
    "#Print random review:\n",
    "\n",
    "idx = np.random.randint(0,len(reviews_df))\n",
    "print(\"NAME:\",reviews_df.business_name[idx])\n",
    "print(\"RATING:\",reviews_df.star_rating[idx],\"stars\")\n",
    "print(\"DATE:\",reviews_df.date[idx].date())\n",
    "print(reviews_df.review[idx])"
   ]
  },
  {
   "cell_type": "code",
   "execution_count": 8,
   "metadata": {
    "scrolled": false
   },
   "outputs": [
    {
     "name": "stdout",
     "output_type": "stream",
     "text": [
      "<class 'pandas.core.frame.DataFrame'>\n",
      "RangeIndex: 59274 entries, 0 to 59273\n",
      "Data columns (total 8 columns):\n",
      "business_index    59274 non-null object\n",
      "business_name     59274 non-null object\n",
      "date              59274 non-null datetime64[ns]\n",
      "pic_count         59274 non-null int64\n",
      "pic_urls          59274 non-null object\n",
      "review            59274 non-null object\n",
      "star_rating       59274 non-null float64\n",
      "user_id           11699 non-null object\n",
      "dtypes: datetime64[ns](1), float64(1), int64(1), object(5)\n",
      "memory usage: 3.6+ MB\n"
     ]
    }
   ],
   "source": [
    "reviews_df.info()"
   ]
  },
  {
   "cell_type": "code",
   "execution_count": 9,
   "metadata": {
    "scrolled": true
   },
   "outputs": [
    {
     "data": {
      "text/plain": [
       "<matplotlib.axes._subplots.AxesSubplot at 0x1a202f58d0>"
      ]
     },
     "execution_count": 9,
     "metadata": {},
     "output_type": "execute_result"
    },
    {
     "data": {
      "image/png": "[encoded data removed]",
      "text/plain": [
       "<Figure size 432x288 with 1 Axes>"
      ]
     },
     "metadata": {
      "needs_background": "light"
     },
     "output_type": "display_data"
    }
   ],
   "source": [
    "reviews_df.star_rating.value_counts().plot(kind='bar')"
   ]
  },
  {
   "cell_type": "markdown",
   "metadata": {},
   "source": [
    "#### See all Categories represented"
   ]
  },
  {
   "cell_type": "code",
   "execution_count": 10,
   "metadata": {
    "scrolled": true
   },
   "outputs": [
    {
     "name": "stdout",
     "output_type": "stream",
     "text": [
      "157 unique categories\n"
     ]
    }
   ],
   "source": [
    "#categories = [item for sublist in l for item in sublist]\n",
    "flat_list = []\n",
    "for sublist in business_info_df.category:\n",
    "    for item in sublist:\n",
    "        flat_list.append(item)\n",
    "\n",
    "categories = list(set(flat_list))\n",
    "print(len(categories), \"unique categories\")"
   ]
  },
  {
   "cell_type": "markdown",
   "metadata": {},
   "source": [
    "### Import IDF CSV file"
   ]
  },
  {
   "cell_type": "code",
   "execution_count": 11,
   "metadata": {
    "scrolled": false
   },
   "outputs": [
    {
     "data": {
      "text/html": [
       "<div>\n",
       "<style scoped>\n",
       "    .dataframe tbody tr th:only-of-type {\n",
       "        vertical-align: middle;\n",
       "    }\n",
       "\n",
       "    .dataframe tbody tr th {\n",
       "        vertical-align: top;\n",
       "    }\n",
       "\n",
       "    .dataframe thead th {\n",
       "        text-align: right;\n",
       "    }\n",
       "</style>\n",
       "<table border=\"1\" class=\"dataframe\">\n",
       "  <thead>\n",
       "    <tr style=\"text-align: right;\">\n",
       "      <th></th>\n",
       "      <th>word</th>\n",
       "      <th>idf_weight</th>\n",
       "      <th>in_nltk_stopwds</th>\n",
       "    </tr>\n",
       "  </thead>\n",
       "  <tbody>\n",
       "    <tr>\n",
       "      <th>0</th>\n",
       "      <td>the</td>\n",
       "      <td>0.095746</td>\n",
       "      <td>True</td>\n",
       "    </tr>\n",
       "    <tr>\n",
       "      <th>1</th>\n",
       "      <td>and</td>\n",
       "      <td>0.113673</td>\n",
       "      <td>True</td>\n",
       "    </tr>\n",
       "    <tr>\n",
       "      <th>2</th>\n",
       "      <td>a</td>\n",
       "      <td>0.242181</td>\n",
       "      <td>True</td>\n",
       "    </tr>\n",
       "    <tr>\n",
       "      <th>3</th>\n",
       "      <td>to</td>\n",
       "      <td>0.339277</td>\n",
       "      <td>True</td>\n",
       "    </tr>\n",
       "    <tr>\n",
       "      <th>4</th>\n",
       "      <td>i</td>\n",
       "      <td>0.362738</td>\n",
       "      <td>True</td>\n",
       "    </tr>\n",
       "  </tbody>\n",
       "</table>\n",
       "</div>"
      ],
      "text/plain": [
       "  word  idf_weight  in_nltk_stopwds\n",
       "0  the    0.095746             True\n",
       "1  and    0.113673             True\n",
       "2    a    0.242181             True\n",
       "3   to    0.339277             True\n",
       "4    i    0.362738             True"
      ]
     },
     "execution_count": 11,
     "metadata": {},
     "output_type": "execute_result"
    }
   ],
   "source": [
    "idf_df = pd.read_csv(\"idf.csv\")\n",
    "idf_df.head()"
   ]
  },
  {
   "cell_type": "markdown",
   "metadata": {},
   "source": [
    "Store desired stopwords from IDF weighted words"
   ]
  },
  {
   "cell_type": "code",
   "execution_count": 12,
   "metadata": {},
   "outputs": [],
   "source": [
    "#Top n words in IDF\n",
    "n = 100\n",
    "\n",
    "idf_stopwords_list = list(idf_df.sort_values(by=['idf_weight'])[0:n]['word'])"
   ]
  },
  {
   "cell_type": "code",
   "execution_count": 13,
   "metadata": {
    "scrolled": true
   },
   "outputs": [
    {
     "name": "stdout",
     "output_type": "stream",
     "text": [
      "['the', 'and', 'a', 'to', 'i', 'of', 'was', 'for', 'is', 'in', 'it', 'food', 'but', 'with', 'this', 'my', 'on', 'good', 'that', 'they', 'had', 'not', 'have', 'place', 'were', 'we', 'you', 'are', 'great', 'be', 'so', 'at', 'very', 'service', 'here', 'as', 'there', 'out', 'if', 'all', 'like', 'just', 'back', 'time', 'from', 'one', 'go', 'or', 'when', 'get', 'their', 'an', 'which', 'would', 'our', 'will', \"it's\", 'me', 'up', 'ordered', 'been', 'also', 'really', 'some', 'delicious', 'about', 'more', 'what', 'restaurant', 'only', 'nice', 'chicken', 'menu', 'best', 'no', 'order', 'well', 'can', 'by', 'friendly', 'too', 'other', 'staff', 'got', \"don't\", 'has', 'even', \"i've\", 'try', 'because', 'came', 'your', 'little', 'than', 'always', 'us', \"i'm\", 'them', 'after', 'definitely']\n"
     ]
    }
   ],
   "source": [
    "print(idf_stopwords_list)"
   ]
  },
  {
   "cell_type": "markdown",
   "metadata": {},
   "source": [
    "Combine with NLTK English Stopwords"
   ]
  },
  {
   "cell_type": "code",
   "execution_count": 14,
   "metadata": {},
   "outputs": [],
   "source": [
    "stopwords = list(set(nltk.corpus.stopwords.words('english') + idf_stopwords_list))"
   ]
  },
  {
   "cell_type": "code",
   "execution_count": 15,
   "metadata": {},
   "outputs": [],
   "source": [
    "#Remove any stopwords using the list below\n",
    "stopwords_to_remove = [\"food\",\"chicken\",\"service\",\"friendly\",\"delicious\",\"restaurant\",\"menu\",\"best\",\n",
    "                       \"order\",\"staff\",\"good\",\"great\"]\n",
    "\n",
    "for remove in stopwords_to_remove:\n",
    "    stopwords.remove(remove)"
   ]
  },
  {
   "cell_type": "code",
   "execution_count": 16,
   "metadata": {
    "scrolled": true
   },
   "outputs": [
    {
     "name": "stdout",
     "output_type": "stream",
     "text": [
      "['about', 'our', 'ma', 'will', 'to', 'from', 'one', 'off', 'down', 'who', \"wouldn't\", 't', \"needn't\", 'my', 'it', 'other', \"you've\", 'don', 'didn', 'himself', 'yourself', 'hadn', 'shan', 'have', 'during', 'also', 'only', 'under', 'the', 'back', 'shouldn', 'ours', 'through', 'been', 'couldn', 'ordered', 'few', \"haven't\", 'both', 'her', 'does', 'herself', 'ourselves', 'isn', \"i'm\", 'such', 'now', 'as', 'until', 'those', 'if', 'am', 'yours', 'what', 'why', 'each', 'mustn', 're', \"didn't\", 'won', 'or', 'you', 'aren', 'more', 'no', 'needn', 'he', 'like', 'got', 'is', 'y', 'a', 'than', 'very', 'them', 'over', \"wasn't\", 'they', 'me', \"shan't\", 'us', 'doesn', \"you'd\", 'because', 'do', 'of', 'then', 'these', 'in', \"won't\", 'go', 'but', 'she', 'd', \"mustn't\", 'yourselves', 'before', 'any', \"shouldn't\", 'wasn', 'i', 'above', 'while', 'so', 'and', 'up', \"aren't\", 'great', 'its', 'with', 'hers', 'an', 'were', 'wouldn', 'all', 'doing', 'which', 'nor', 'when', \"hasn't\", 'get', 'again', 'just', 'weren', 'be', 'we', 'his', 'too', 'hasn', 'even', 'mightn', 'm', 'really', \"you're\", 'are', 'same', 'should', 'good', 'theirs', 'most', 'was', 'here', \"that'll\", 'for', 'nice', \"don't\", 'some', 'll', 'on', 'well', 'him', \"isn't\", 'myself', 'haven', 'at', 'between', 'came', 'little', 'definitely', 'ain', 'would', 'your', 'by', 'further', \"should've\", 'out', 'has', 'against', \"i've\", \"couldn't\", 'try', \"you'll\", 's', 've', 'where', 'that', 'having', 'not', 'time', \"doesn't\", 'itself', 'can', 'below', \"mightn't\", 'did', 'there', \"hadn't\", 'how', 'place', 'after', 'into', 'o', 'always', \"it's\", 'whom', 'had', 'own', 'themselves', \"weren't\", 'this', 'once', 'being', \"she's\", 'their']\n"
     ]
    }
   ],
   "source": [
    "print(stopwords)"
   ]
  },
  {
   "cell_type": "code",
   "execution_count": 58,
   "metadata": {},
   "outputs": [
    {
     "data": {
      "text/plain": [
       "True"
      ]
     },
     "execution_count": 58,
     "metadata": {},
     "output_type": "execute_result"
    }
   ],
   "source": [
    "\"more\" in stopwords"
   ]
  },
  {
   "cell_type": "markdown",
   "metadata": {},
   "source": [
    "## Define helper functions for selecting data from dataframes\n",
    "\n",
    "- get_businesses_by_category(chosen_category)\n",
    "- get_reviews_by_category(chosen_category)\n",
    "- get_reviews_for_businesses(biz_id_list)"
   ]
  },
  {
   "cell_type": "code",
   "execution_count": 17,
   "metadata": {},
   "outputs": [],
   "source": [
    "import re\n",
    "\n",
    "def get_businesses_by_category(chosen_category):\n",
    "    \"\"\"\n",
    "    This function returns all businesses in business_info_df for a particular category.\n",
    "    Substrings of categories will also find the selected category.\n",
    "    INPUTS:\n",
    "    chosen_category = text string to match against category list in business_info_df category feature.\n",
    "    OUTPUT:\n",
    "    business_info_df selection based on chosen category.\n",
    "    \"\"\"\n",
    "    chosen_category = chosen_category.lower()\n",
    "    #Check if it is a substring also\n",
    "    return business_info_df[ \n",
    "        [True in [bool(re.search(chosen_category, category.lower())) for category in category_list] \n",
    "         for category_list in business_info_df.category] ]\n",
    "    #return business_info_df[[chosen_category in category for category in business_info_df.category]]\n",
    "\n",
    "def get_reviews_by_category(chosen_category):\n",
    "    \"\"\"\n",
    "    This function returns all reviews for a particular category.\n",
    "    INPUTS:\n",
    "    chosen_category = text string to match against category list in business_info_df category feature.\n",
    "    OUTPUT:\n",
    "    reviews_df selection based on chosen category.\n",
    "    \"\"\"\n",
    "    #Select businesses\n",
    "    biz_ids_for_category = get_businesses_by_category(chosen_category)['biz_id']\n",
    "    #Select Reviews for businesses\n",
    "    return reviews_df[[biz_id in biz_ids_for_category.values for biz_id in reviews_df.business_index.values]]"
   ]
  },
  {
   "cell_type": "code",
   "execution_count": 18,
   "metadata": {},
   "outputs": [],
   "source": [
    "def get_businesses_by_name(search_name):\n",
    "    \"\"\"\n",
    "    This function returns all businesses in business_info_df for a business name.\n",
    "    Substrings of business name will also find the selected businesses.\n",
    "    INPUTS:\n",
    "    search_name = text string to match against business name in business_info_df.\n",
    "    OUTPUT:\n",
    "    business_info_df selection based on chosen search name.    \n",
    "    \"\"\"\n",
    "    search_name = search_name.lower()\n",
    "    #Check if it is a substring also\n",
    "    return business_info_df[ \n",
    "        [bool(re.search(search_name, biz_name.lower())) for biz_name in business_info_df.name] ] "
   ]
  },
  {
   "cell_type": "code",
   "execution_count": 19,
   "metadata": {},
   "outputs": [],
   "source": [
    "def get_reviews_for_businesses(biz_id_list):\n",
    "    \"\"\"\n",
    "    This function returns all reviews for a list of business_index's.\n",
    "    INPUTS:\n",
    "    biz_id_list = list of text strings representing business indexes to select reviews on.\n",
    "    OUTPUT:\n",
    "    reviews_df selection based on chosen businesses.\n",
    "    \"\"\"\n",
    "    return reviews_df[[biz_id in biz_id_list for biz_id in reviews_df.business_index.values]]"
   ]
  },
  {
   "cell_type": "markdown",
   "metadata": {},
   "source": [
    "Downselecting categories based on number of businesses and number of reviews"
   ]
  },
  {
   "cell_type": "code",
   "execution_count": 20,
   "metadata": {
    "scrolled": false
   },
   "outputs": [
    {
     "name": "stdout",
     "output_type": "stream",
     "text": [
      "Pizza \t\t 145 places,\t 6039 reviews\n",
      "Cafes \t\t 47 places,\t 2313 reviews\n",
      "Salad \t\t 62 places,\t 3289 reviews\n",
      "Sandwiches \t 127 places,\t 5393 reviews\n",
      "Steakhouses \t 21 places,\t 2146 reviews\n",
      "Barbeque \t 21 places,\t 1685 reviews\n",
      "Asian Fusion \t 20 places,\t 1689 reviews\n",
      "Burgers \t 124 places,\t 5478 reviews\n",
      "Coffee & Tea \t 53 places,\t 1891 reviews\n",
      "Sushi Bars \t 37 places,\t 3304 reviews\n",
      "Pubs \t\t 53 places,\t 4409 reviews\n",
      "Mexican \t 37 places,\t 2684 reviews\n",
      "Bars \t\t 156 places,\t 11303 reviews\n",
      "Italian \t 97 places,\t 6212 reviews\n",
      "Mediterranean \t 17 places,\t 1589 reviews\n",
      "Chicken Wings \t 44 places,\t 1676 reviews\n",
      "Thai \t\t 25 places,\t 1876 reviews\n",
      "American Traditional \t 172 places,\t 10495 reviews\n",
      "Fast Food \t 92 places,\t 2088 reviews\n",
      "Indian \t\t 26 places,\t 1873 reviews\n",
      "Delis \t\t 64 places,\t 1891 reviews\n",
      "Breakfast & Brunch \t 103 places,\t 6032 reviews\n",
      "American New \t 75 places,\t 5754 reviews\n",
      "Seafood \t 38 places,\t 3769 reviews\n",
      "Cocktail Bars \t 18 places,\t 1538 reviews\n",
      "Diners \t\t 36 places,\t 2054 reviews\n",
      "Japanese \t 35 places,\t 2988 reviews\n",
      "942 unique businesses represented in these categories.\n",
      "52637 unique reviews represented in these categories.\n"
     ]
    }
   ],
   "source": [
    "min_businesses = 5\n",
    "min_reviews = 1500\n",
    "\n",
    "category_list = []\n",
    "biz_list = []\n",
    "\n",
    "for category in categories:\n",
    "    businesses = get_businesses_by_category(category)['biz_id'].values\n",
    "    num_businesses = len(businesses)\n",
    "    num_reviews = len(get_reviews_by_category(category))\n",
    "    if num_businesses > min_businesses and num_reviews > min_reviews:\n",
    "        tabs = \"\\t\"\n",
    "        if (len(category) < 7):\n",
    "            tabs = \"\\t\\t\"\n",
    "        print(category, tabs, num_businesses, \"places,\\t\", num_reviews,\"reviews\")\n",
    "        category_list.append(category)\n",
    "        biz_list.extend(businesses)\n",
    "        \n",
    "biz_list = list(set(biz_list))\n",
    "print(len(biz_list),\"unique businesses represented in these categories.\")\n",
    "print(len(get_reviews_for_businesses(biz_list)),\"unique reviews represented in these categories.\")"
   ]
  },
  {
   "cell_type": "code",
   "execution_count": 21,
   "metadata": {},
   "outputs": [
    {
     "name": "stdout",
     "output_type": "stream",
     "text": [
      "wine \t 15 places,\t 837 reviews\n"
     ]
    }
   ],
   "source": [
    "category = 'wine'\n",
    "num_businesses = len(get_businesses_by_category(category))\n",
    "num_reviews = len(get_reviews_by_category(category))\n",
    "print(category, \"\\t\", num_businesses, \"places,\\t\", num_reviews,\"reviews\")"
   ]
  },
  {
   "cell_type": "code",
   "execution_count": 22,
   "metadata": {
    "scrolled": true
   },
   "outputs": [
    {
     "data": {
      "text/html": [
       "<div>\n",
       "<style scoped>\n",
       "    .dataframe tbody tr th:only-of-type {\n",
       "        vertical-align: middle;\n",
       "    }\n",
       "\n",
       "    .dataframe tbody tr th {\n",
       "        vertical-align: top;\n",
       "    }\n",
       "\n",
       "    .dataframe thead th {\n",
       "        text-align: right;\n",
       "    }\n",
       "</style>\n",
       "<table border=\"1\" class=\"dataframe\">\n",
       "  <thead>\n",
       "    <tr style=\"text-align: right;\">\n",
       "      <th></th>\n",
       "      <th>address</th>\n",
       "      <th>biz_id</th>\n",
       "      <th>category</th>\n",
       "      <th>image_shown</th>\n",
       "      <th>name</th>\n",
       "      <th>num_reviews</th>\n",
       "      <th>price_range</th>\n",
       "      <th>star_rating</th>\n",
       "      <th>url</th>\n",
       "    </tr>\n",
       "  </thead>\n",
       "  <tbody>\n",
       "    <tr>\n",
       "      <th>13</th>\n",
       "      <td>200 Lark St</td>\n",
       "      <td>p%C5%8Dst-albany</td>\n",
       "      <td>[Tapas/Small Plates, Wine Bars]</td>\n",
       "      <td>https://s3-media2.fl.yelpcdn.com/bphoto/IDmb8D...</td>\n",
       "      <td>PÃ",
       "Âst</td>\n",
       "      <td>26.0</td>\n",
       "      <td>NaN</td>\n",
       "      <td>4.5</td>\n",
       "      <td>https://www.yelp.com/biz/p%C5%8Dst-albany?osq=...</td>\n",
       "    </tr>\n",
       "    <tr>\n",
       "      <th>25</th>\n",
       "      <td>288 Lark St</td>\n",
       "      <td>288-lark-wine-and-tap-albany</td>\n",
       "      <td>[Italian, Wine Bars]</td>\n",
       "      <td>https://s3-media1.fl.yelpcdn.com/bphoto/V9UQKq...</td>\n",
       "      <td>288 Lark Wine &amp; Tap</td>\n",
       "      <td>10.0</td>\n",
       "      <td>NaN</td>\n",
       "      <td>4.5</td>\n",
       "      <td>https://www.yelp.com/biz/288-lark-wine-and-tap...</td>\n",
       "    </tr>\n",
       "    <tr>\n",
       "      <th>38</th>\n",
       "      <td>540 Delaware Ave</td>\n",
       "      <td>the-cheese-traveler-albany</td>\n",
       "      <td>[Cheese Shops, Sandwiches, Beer, Wine &amp; Spirits]</td>\n",
       "      <td>https://s3-media4.fl.yelpcdn.com/bphoto/4yxn6B...</td>\n",
       "      <td>The Cheese Traveler</td>\n",
       "      <td>153.0</td>\n",
       "      <td>$$</td>\n",
       "      <td>5.0</td>\n",
       "      <td>https://www.yelp.com/biz/the-cheese-traveler-a...</td>\n",
       "    </tr>\n",
       "    <tr>\n",
       "      <th>47</th>\n",
       "      <td>897 Broadway</td>\n",
       "      <td>vintage-house-albany-3</td>\n",
       "      <td>[Tapas/Small Plates, Wine Bars]</td>\n",
       "      <td>https://s3-media4.fl.yelpcdn.com/bphoto/YAkHnL...</td>\n",
       "      <td>Vintage House</td>\n",
       "      <td>59.0</td>\n",
       "      <td>$$</td>\n",
       "      <td>4.0</td>\n",
       "      <td>https://www.yelp.com/biz/vintage-house-albany-...</td>\n",
       "    </tr>\n",
       "    <tr>\n",
       "      <th>153</th>\n",
       "      <td>NaN</td>\n",
       "      <td>provence-restaurant-and-wine-bar-albany</td>\n",
       "      <td>[French, Mediterranean, Wine Bars]</td>\n",
       "      <td>https://s3-media4.fl.yelpcdn.com/bphoto/D7K6AT...</td>\n",
       "      <td>Provence Restaurant &amp; Wine Bar</td>\n",
       "      <td>115.0</td>\n",
       "      <td>$$$</td>\n",
       "      <td>3.0</td>\n",
       "      <td>https://www.yelp.com/biz/provence-restaurant-a...</td>\n",
       "    </tr>\n",
       "  </tbody>\n",
       "</table>\n",
       "</div>"
      ],
      "text/plain": [
       "              address                                   biz_id  \\\n",
       "13        200 Lark St                         p%C5%8Dst-albany   \n",
       "25        288 Lark St             288-lark-wine-and-tap-albany   \n",
       "38   540 Delaware Ave               the-cheese-traveler-albany   \n",
       "47       897 Broadway                   vintage-house-albany-3   \n",
       "153               NaN  provence-restaurant-and-wine-bar-albany   \n",
       "\n",
       "                                             category  \\\n",
       "13                    [Tapas/Small Plates, Wine Bars]   \n",
       "25                               [Italian, Wine Bars]   \n",
       "38   [Cheese Shops, Sandwiches, Beer, Wine & Spirits]   \n",
       "47                    [Tapas/Small Plates, Wine Bars]   \n",
       "153                [French, Mediterranean, Wine Bars]   \n",
       "\n",
       "                                           image_shown  \\\n",
       "13   https://s3-media2.fl.yelpcdn.com/bphoto/IDmb8D...   \n",
       "25   https://s3-media1.fl.yelpcdn.com/bphoto/V9UQKq...   \n",
       "38   https://s3-media4.fl.yelpcdn.com/bphoto/4yxn6B...   \n",
       "47   https://s3-media4.fl.yelpcdn.com/bphoto/YAkHnL...   \n",
       "153  https://s3-media4.fl.yelpcdn.com/bphoto/D7K6AT...   \n",
       "\n",
       "                               name  num_reviews price_range  star_rating  \\\n",
       "13                          PÃ\n",
       "Âst         26.0         NaN          4.5   \n",
       "25              288 Lark Wine & Tap         10.0         NaN          4.5   \n",
       "38              The Cheese Traveler        153.0          $$          5.0   \n",
       "47                    Vintage House         59.0          $$          4.0   \n",
       "153  Provence Restaurant & Wine Bar        115.0         $$$          3.0   \n",
       "\n",
       "                                                   url  \n",
       "13   https://www.yelp.com/biz/p%C5%8Dst-albany?osq=...  \n",
       "25   https://www.yelp.com/biz/288-lark-wine-and-tap...  \n",
       "38   https://www.yelp.com/biz/the-cheese-traveler-a...  \n",
       "47   https://www.yelp.com/biz/vintage-house-albany-...  \n",
       "153  https://www.yelp.com/biz/provence-restaurant-a...  "
      ]
     },
     "execution_count": 22,
     "metadata": {},
     "output_type": "execute_result"
    }
   ],
   "source": [
    "get_businesses_by_category('wine')[0:5]"
   ]
  },
  {
   "cell_type": "markdown",
   "metadata": {},
   "source": [
    "# Clean Text Function\n",
    "Define function to clean text blocks."
   ]
  },
  {
   "cell_type": "code",
   "execution_count": 23,
   "metadata": {},
   "outputs": [],
   "source": [
    "# string.punctuation contains '!\"#$%&\\'()*+,-./:;<=>?@[\\\\]^_`{|}~'\n",
    "\n",
    "def clean_text(text_block):\n",
    "    \"\"\"\n",
    "    This function cleans a block of text.\n",
    "    INPUT:\n",
    "    text_block = The block of text to clean.\n",
    "    OUTPUT:\n",
    "    A block of text stripped of punctuation and made lowercase.\n",
    "    \"\"\"\n",
    "    #Some reviews forget to have a space after a period. I want to force a space.\n",
    "    #text_block = text_block.replace(\".\",\" \")\n",
    "    #This represents a non-breaking space in the text block that needs to be removed.\n",
    "    text_block = text_block.replace(u'\\xa0', u' ')\n",
    "    text_block = text_block.replace('&',' and ')\n",
    "    text_block = text_block.replace('%',' percent ')\n",
    "    #for symbol in \",.?!''\\n\":\n",
    "    for symbol in '!\"#$()*+,-./:;<=>?@[\\\\]^_`{|}~':\n",
    "        text_block = text_block.replace(symbol, ' ').lower()\n",
    "    text_block = re.sub(' +', ' ', text_block)\n",
    "    return text_block"
   ]
  },
  {
   "cell_type": "code",
   "execution_count": 24,
   "metadata": {
    "scrolled": false
   },
   "outputs": [
    {
     "data": {
      "text/plain": [
       "\" grits know best so take it from this one this is some delicious southern food i ordered the fried chicken with corn bread and mac cheese for my fixins yes i said it fixins just like their menu says the cornbread was huge and buttery the fried very well seasoned with a hit of lemon which i loved the mac cheese wasn't the best i have ever had but best i have had in this area so far just wished i had a few burnt edges lol my friend had the blackened catfish and it was equally delicious their services was quite friendly our waitress wasn't as efficient and was a bit slow but the hostess made up for it her friendliness over compensated and made it a very pleasant experience the only criticism i have would be with the drinks as it seemed they packed the cups with ice before filling with the liquid that tends to annoy me a bit as it will water down your drink as the ice melts so i proceeded to take out all the ice and the hostess noticed and filled up the cup kudosoverall it was quite a nice experience i'll be back oh and the hostess gave me their homemade biscuits to try delicious ordered a plate you won't be sorry \""
      ]
     },
     "execution_count": 24,
     "metadata": {},
     "output_type": "execute_result"
    }
   ],
   "source": [
    "clean_text(reviews_df.review[0])"
   ]
  },
  {
   "cell_type": "code",
   "execution_count": 25,
   "metadata": {
    "scrolled": false
   },
   "outputs": [
    {
     "data": {
      "text/plain": [
       "'#GRITS know best! So take it from this one, this is some delicious Southern food! I ordered the fried chicken with corn bread and mac/cheese for my fixins! Yes! I said it \"fixins\" just like their menu says. The cornbread was HUGE and buttery. The fried very well seasoned with a hit of lemon which I LOVED. The mac/cheese wasn\\'t the best I have ever had but best I have had in this area so far, just wished I had a few burnt edges lol My friend had the blackened catfish and it was equally delicious! Their services was quite friendly! Our waitress wasn\\'t as efficient and was a bit slow but the hostess made up for it! Her friendliness over compensated and made it a very pleasant experience. The only criticism I have would be with the drinks as it seemed they packed the cups with ice before filling with the liquid. That tends to annoy me a bit as it will water down your drink as the ice melts. So I proceeded to take out all the ice and the hostess noticed and filled up the cup! #kudosOverall, it was quite a nice experience! I\\'ll be back! Oh and the hostess gave me their homemade biscuits to try. #delicious Ordered a plate you won\\'t be sorry!'"
      ]
     },
     "execution_count": 25,
     "metadata": {},
     "output_type": "execute_result"
    }
   ],
   "source": [
    "reviews_df.review[0]"
   ]
  },
  {
   "cell_type": "markdown",
   "metadata": {},
   "source": [
    "# Tokenize Text Function\n",
    "Define function to tokenize text blocks."
   ]
  },
  {
   "cell_type": "code",
   "execution_count": 26,
   "metadata": {},
   "outputs": [],
   "source": [
    "#Declare default tokenizer method and stopwords list that will be used in the my_tokenizer() method.\n",
    "default_tokenizer = nltk.tokenize.TweetTokenizer(preserve_case=False).tokenize\n",
    "\n",
    "def my_tokenizer(text_block,  \n",
    "                 tokenizer=default_tokenizer):\n",
    "    \"\"\"\n",
    "    This function cleans a block of text using the clean_text() function and then\n",
    "    tokenizes the cleaned block of text.\n",
    "    \n",
    "    INPUTS:\n",
    "    text_block = The text string to be tokenized.\n",
    "    tokenizer  = The tokenizer method to use for splitting the text string into tokens. \n",
    "                 Default is default_tokenizer defined outside of this function.\n",
    "    OUTPUT:\n",
    "    List of words in the text block.\n",
    "    \"\"\"\n",
    "    tokens = tokenizer(clean_text(text_block))\n",
    "    return tokens"
   ]
  },
  {
   "cell_type": "markdown",
   "metadata": {},
   "source": [
    "# Remove Stopwords Function\n",
    "Define function to remove stopwords."
   ]
  },
  {
   "cell_type": "code",
   "execution_count": 27,
   "metadata": {},
   "outputs": [],
   "source": [
    "def remove_stopwords(text, stopwords=stopwords):\n",
    "    \n",
    "    #If text is a list, assume tokenized.\n",
    "    if type(text) is list:\n",
    "        return [token for token in text if token not in stopwords]\n",
    "    \n",
    "    #If type is string, not tokenized.\n",
    "    elif type(text) is str:\n",
    "        words = text.split()\n",
    "        resultwords  = [word for word in words if word.lower() not in stopwords]\n",
    "        result = ' '.join(resultwords)\n",
    "        return result\n",
    "    \n",
    "    #Print error message\n",
    "    print(\"BAD FORMAT\")\n",
    "    return"
   ]
  },
  {
   "cell_type": "markdown",
   "metadata": {},
   "source": [
    "Testing below"
   ]
  },
  {
   "cell_type": "code",
   "execution_count": 28,
   "metadata": {},
   "outputs": [
    {
     "name": "stdout",
     "output_type": "stream",
     "text": [
      "grits know best take delicious southern food fried chicken corn bread mac cheese fixins yes said fixins menu says cornbread huge buttery fried seasoned hit lemon loved mac cheese best ever best area far wished burnt edges lol friend blackened catfish equally delicious services quite friendly waitress efficient bit slow hostess made friendliness compensated made pleasant experience criticism drinks seemed packed cups ice filling liquid tends annoy bit water drink ice melts proceeded take ice hostess noticed filled cup kudosoverall quite experience i'll oh hostess gave homemade biscuits delicious plate sorry\n"
     ]
    }
   ],
   "source": [
    "cleaned = clean_text(reviews_df.review[0])\n",
    "print(remove_stopwords(cleaned))"
   ]
  },
  {
   "cell_type": "code",
   "execution_count": 29,
   "metadata": {},
   "outputs": [
    {
     "name": "stdout",
     "output_type": "stream",
     "text": [
      "['grits', 'know', 'best', 'take', 'delicious', 'southern', 'food', 'fried', 'chicken', 'corn', 'bread', 'mac', 'cheese', 'fixins', 'yes', 'said', 'fixins', 'menu', 'says', 'cornbread', 'huge', 'buttery', 'fried', 'seasoned', 'hit', 'lemon', 'loved', 'mac', 'cheese', 'best', 'ever', 'best', 'area', 'far', 'wished', 'burnt', 'edges', 'lol', 'friend', 'blackened', 'catfish', 'equally', 'delicious', 'services', 'quite', 'friendly', 'waitress', 'efficient', 'bit', 'slow', 'hostess', 'made', 'friendliness', 'compensated', 'made', 'pleasant', 'experience', 'criticism', 'drinks', 'seemed', 'packed', 'cups', 'ice', 'filling', 'liquid', 'tends', 'annoy', 'bit', 'water', 'drink', 'ice', 'melts', 'proceeded', 'take', 'ice', 'hostess', 'noticed', 'filled', 'cup', 'kudosoverall', 'quite', 'experience', \"i'll\", 'oh', 'hostess', 'gave', 'homemade', 'biscuits', 'delicious', 'plate', 'sorry']\n"
     ]
    }
   ],
   "source": [
    "tokenized = my_tokenizer(reviews_df.review[0])\n",
    "print(remove_stopwords(tokenized))"
   ]
  },
  {
   "cell_type": "code",
   "execution_count": null,
   "metadata": {},
   "outputs": [],
   "source": []
  },
  {
   "cell_type": "code",
   "execution_count": null,
   "metadata": {},
   "outputs": [],
   "source": []
  },
  {
   "cell_type": "markdown",
   "metadata": {},
   "source": [
    "# Word Embedding"
   ]
  },
  {
   "cell_type": "code",
   "execution_count": 30,
   "metadata": {},
   "outputs": [],
   "source": [
    "import nltk\n",
    "import gensim\n",
    "import string\n",
    "import time"
   ]
  },
  {
   "cell_type": "markdown",
   "metadata": {},
   "source": [
    "#### Tokenize each review"
   ]
  },
  {
   "cell_type": "code",
   "execution_count": 31,
   "metadata": {},
   "outputs": [
    {
     "name": "stdout",
     "output_type": "stream",
     "text": [
      "Tokenizing Reviews: 31.0\n"
     ]
    }
   ],
   "source": [
    "print(\"Tokenizing Reviews: \", end='')\n",
    "start = time.time()\n",
    "\n",
    "data_tokenized = reviews_df.review.map(my_tokenizer).values\n",
    "\n",
    "end = time.time()\n",
    "print(round(end-start,2))"
   ]
  },
  {
   "cell_type": "markdown",
   "metadata": {},
   "source": [
    "#### Remove Stopwords"
   ]
  },
  {
   "cell_type": "code",
   "execution_count": 32,
   "metadata": {},
   "outputs": [
    {
     "name": "stdout",
     "output_type": "stream",
     "text": [
      "Removing Stopwords: 13.04\n"
     ]
    }
   ],
   "source": [
    "print(\"Removing Stopwords: \", end='')\n",
    "start = time.time()\n",
    "\n",
    "data_stopped = list(map(remove_stopwords, data_tokenized))\n",
    "\n",
    "end = time.time()\n",
    "print(round(end-start,2))"
   ]
  },
  {
   "cell_type": "code",
   "execution_count": 33,
   "metadata": {},
   "outputs": [
    {
     "name": "stdout",
     "output_type": "stream",
     "text": [
      "#GRITS know best! So take it from this one, this is some delicious Southern food! I ordered the fried chicken with corn bread and mac/cheese for my fixins! Yes! I said it \"fixins\" just like their menu says. The cornbread was HUGE and buttery. The fried very well seasoned with a hit of lemon which I LOVED. The mac/cheese wasn't the best I have ever had but best I have had in this area so far, just wished I had a few burnt edges lol My friend had the blackened catfish and it was equally delicious! Their services was quite friendly! Our waitress wasn't as efficient and was a bit slow but the hostess made up for it! Her friendliness over compensated and made it a very pleasant experience. The only criticism I have would be with the drinks as it seemed they packed the cups with ice before filling with the liquid. That tends to annoy me a bit as it will water down your drink as the ice melts. So I proceeded to take out all the ice and the hostess noticed and filled up the cup! #kudosOverall, it was quite a nice experience! I'll be back! Oh and the hostess gave me their homemade biscuits to try. #delicious Ordered a plate you won't be sorry!\n",
      "\n",
      "['grits', 'know', 'best', 'take', 'delicious', 'southern', 'food', 'fried', 'chicken', 'corn', 'bread', 'mac', 'cheese', 'fixins', 'yes', 'said', 'fixins', 'menu', 'says', 'cornbread', 'huge', 'buttery', 'fried', 'seasoned', 'hit', 'lemon', 'loved', 'mac', 'cheese', 'best', 'ever', 'best', 'area', 'far', 'wished', 'burnt', 'edges', 'lol', 'friend', 'blackened', 'catfish', 'equally', 'delicious', 'services', 'quite', 'friendly', 'waitress', 'efficient', 'bit', 'slow', 'hostess', 'made', 'friendliness', 'compensated', 'made', 'pleasant', 'experience', 'criticism', 'drinks', 'seemed', 'packed', 'cups', 'ice', 'filling', 'liquid', 'tends', 'annoy', 'bit', 'water', 'drink', 'ice', 'melts', 'proceeded', 'take', 'ice', 'hostess', 'noticed', 'filled', 'cup', 'kudosoverall', 'quite', 'experience', \"i'll\", 'oh', 'hostess', 'gave', 'homemade', 'biscuits', 'delicious', 'plate', 'sorry']\n"
     ]
    }
   ],
   "source": [
    "idx = 0\n",
    "print(reviews_df.review[idx])\n",
    "print(\"\")\n",
    "print(data_stopped[idx])"
   ]
  },
  {
   "cell_type": "markdown",
   "metadata": {},
   "source": [
    "#### Gensim Phrasing"
   ]
  },
  {
   "cell_type": "code",
   "execution_count": 34,
   "metadata": {},
   "outputs": [],
   "source": [
    "from gensim.models import Phrases\n",
    "from gensim.models.phrases import Phraser"
   ]
  },
  {
   "cell_type": "code",
   "execution_count": 35,
   "metadata": {},
   "outputs": [],
   "source": [
    "#Choose to implement phraser before or after removing stopwords\n",
    "\n",
    "#IF FALSE, text is phrased and then stopped\n",
    "#IF TRUE, text is stopped and then phrased\n",
    "phrase_after_stopping = True"
   ]
  },
  {
   "cell_type": "code",
   "execution_count": 36,
   "metadata": {
    "scrolled": false
   },
   "outputs": [
    {
     "name": "stdout",
     "output_type": "stream",
     "text": [
      "Bigram Phraser:     24.5\n",
      "Bigram Tokenizing:  8.79\n",
      "Trigram Phraser:    27.47\n",
      "Trigram Tokenizing: 8.67\n"
     ]
    }
   ],
   "source": [
    "#Set appropriate version of data to be phrased - stopped or not yet stopped\n",
    "if phrase_after_stopping:\n",
    "    data_to_phrase = data_stopped\n",
    "else:\n",
    "    data_to_phrase = data_tokenized\n",
    "\n",
    "#Run through phrasing\n",
    "print(\"Bigram Phraser:     \", end='')\n",
    "start = time.time()\n",
    "bigram = Phrases(sentences=data_tokenized, min_count=5, threshold=10)\n",
    "bigram_phraser = Phraser(bigram)\n",
    "end = time.time()\n",
    "print(round(end-start,2))\n",
    "\n",
    "print(\"Bigram Tokenizing:  \", end='')\n",
    "start = time.time()\n",
    "bigram_tokenized = [bigram_phraser[review] for review in data_to_phrase]\n",
    "end = time.time()\n",
    "print(round(end-start,2))\n",
    "\n",
    "print(\"Trigram Phraser:    \", end='')\n",
    "start = time.time()\n",
    "trigram = Phrases(sentences=bigram_tokenized, min_count=5, threshold=10)\n",
    "trigram_phraser = Phraser(trigram)\n",
    "end = time.time()\n",
    "print(round(end-start,2))\n",
    "\n",
    "print(\"Trigram Tokenizing: \", end='')\n",
    "start = time.time()\n",
    "data = [trigram_phraser[review] for review in bigram_tokenized]\n",
    "end = time.time()\n",
    "print(round(end-start,2))\n",
    "\n",
    "if phrase_after_stopping == False:\n",
    "    data = list(map(remove_stopwords, data))"
   ]
  },
  {
   "cell_type": "code",
   "execution_count": 37,
   "metadata": {},
   "outputs": [],
   "source": [
    "#Store tokenized reviews in the reviews_df\n",
    "reviews_df['review_tokenized'] = data\n",
    "\n",
    "#Save tokenized data back to csv file\n",
    "reviews_df.to_csv('reviews_all_tokenized.csv',index=False)"
   ]
  },
  {
   "cell_type": "code",
   "execution_count": 38,
   "metadata": {
    "scrolled": true
   },
   "outputs": [
    {
     "name": "stdout",
     "output_type": "stream",
     "text": [
      "['service', 'delicious', 'cocktails', 'albeit_bit', 'overpriced', 'opinion', 'others', 'said', 'biggest', 'bang_buck', \"cuckoo's_nest\", 'makes', 'environment', 'excellent', 'service', 'menu', 'indulge', 'biscuits', 'honey', 'small', 'delicious', 'deviled_eggs', 'tasty', 'start', 'fried_chicken', 'reason_giving', '5_star_review', 'picky', 'fried_chicken', 'though', 'necessarily', 'recommend', 'people', 'specifically', 'fried_chicken', 'worth_visit']\n"
     ]
    }
   ],
   "source": [
    "#Viewing output of phraser for an example review\n",
    "print(data[39])"
   ]
  },
  {
   "cell_type": "code",
   "execution_count": 39,
   "metadata": {
    "scrolled": true
   },
   "outputs": [
    {
     "name": "stdout",
     "output_type": "stream",
     "text": [
      "new_world_bistro\n",
      "['brunch', 'enjoyable', 'mimosa', 'starter', 'eggs_benedict', 'coffee', 'service_prompt', 'direct', 'outside_seating', 'sunny_day', 'ghetto', 'elements', 'deal', 'beaker', 'ghetto', 'roamers', 'feel_need', 'broadcast', 'conversations', 'streetside', 'yelling', 'others', 'public', 'intrusive', 'enjoying', 'summer_day', 'crowd_young', 'professional', 'set', 'sprinkled', 'families', 'college_students', 'paying', \"can't_comment\", 'price', 'nearby', 'madison_cafe', 'new_world_bistro', 'brunch', \"let's\", 'see', \"they're\", 'consistent'] \n",
      "\n",
      "sat_outside_patio\n",
      "served_piping_hot\n",
      "['looking', 'delicious', 'meal', 'lazy', 'sunday_morning', \"cuckoo's_nest\", 'covered', 'brief', 'glimpse', 'interior', 'restaurant', 'intimate', 'cozy', 'space', 'exactly_want', 'brunch', 'friends', 'day', 'went', 'weather', 'outside', 'balmy', '75', 'boyfriend', 'friend', 'sat_outside_patio', 'charming', 'welcoming', 'bright', 'spring', 'flowers', 'organized', 'sufficient', 'room', 'adjacent', 'tables', 'boyfriend', \"calvin's\", 'benedict', 'friend', 'omelet', 'based', 'fact', 'cleaned_plates', 'assume', 'happy', 'meal', 'cuckoo', 'sandwich', 'decadent', 'breakfast_sandwich', 'fried_perfection', 'chicken', 'despite', 'fried', 'moist_inside', 'perfectly_poached', 'egg', 'sausage_gravy', 'top', 'accompanying', 'fries', 'crisp', 'served_piping_hot', 'fries', 'waitress', 'warm', 'attentive', 'exactly_expect', 'southern', 'restaurant', 'regret', 'regular_menu', 'sounds', 'amazing', 'mimosa', 'morning', 'quite', 'unusual', 'selection', 'drinks', 'oh', \"guess_i'll\"] \n",
      "\n",
      "sweet_potato_mash\n",
      "['best', 'way_describe', 'shabby_chic', 'interior', 'serving', 'elevated', 'comfort_food', 'cozy', 'food', 'delicious', 'ben', 'decided', 'bring', 'date_night', 'disappointed', 'interior', 'charming', 'space', 'intimate', 'food', 'disappoint', 'pork', 'dinner', 'stuffed', 'prosciutto', 'topped', 'fried', 'sage', 'leaves', 'sage', 'strong', 'dish', 'imo', 'overall', 'dish', 'balanced', 'sweet_potato_mash', 'underneath', \"ben's\", 'fried_chicken', 'dish', 'heavy', 'maybe', 'sides', 'season', 'chicken', 'coating', 'shared', 'sweet_potato', 'spot', 'lunch', 'date', 'friends', 'couples', 'night', \"can't_wait\"] \n",
      "\n",
      "dinner_last_night\n",
      "6_year_old\n",
      "['dinner_last_night', 'still', 'thinking', 'next_morning', 'service', 'restaurant', 'kid_friendly', '3', '6_year_old', 'nieces', 'enjoyed', 'food', 'almost', 'much', 'adults', 'four_adults', 'table', 'split', 'deviled_eggs', 'biscuits', 'lamb', 'dumplings', 'beet_salad', 'appetizers', 'delicious', 'easily', 'shareable', 'half', 'chicken', 'dinner', 'two_sides', 'five', 'pieces', 'chicken', 'huge_portion', 'yay', 'leftovers', 'honey', 'hot_sauce', 'makes', 'wonderful', 'dipping_sauce', 'chicken', 'dessert', 'shared', 'pecan_pie', 'whipped_cream', 'topped', 'birthday', 'candle', 'surprise', 'gesture', 'gotten_takeout', 'past', 'eating', 'restaurant', 'way', \"can't_beat\", 'fresh', 'fried_chicken', 'enjoy'] \n",
      "\n",
      "biscuits_honey_butter\n",
      "['excellent', 'restaurant', 'went', 'work', 'trip', 'food', 'delicious', 'biscuits_honey_butter', 'savory_sweet', 'chicken', 'cooked_perfectly', 'sides', 'atmosphere', 'cool', 'relaxed', 'parking', 'right', 'behind_building', 'bonus'] \n",
      "\n",
      "bourbon_pecan_pie\n",
      "['know', 'took_long', 'gem', 'western_ave', 'deco', 'service', 'food', 'drinks', 'point', 'cocktail', 'snobs', 'tried', '3', 'bourbon', 'mixes', 'amazing', 'negroni', 'probably', 'favorite', 'excellent', 'blend', 'campari', 'sweet', 'bitters', 'pear', 'thyme', 'bourbon', 'cocktail', 'refreshing', 'goes', 'almost', 'anything', 'starters', 'watermelon_salad', 'loved', 'cumin', 'vingeritte', 'arugula', 'pecans', 'pickled', 'watermelon', 'rinds', 'watermelon', 'entrees', 'famous', 'cuckoo', 'burger', 'brussel_sprouts', 'fried_egg', 'sausage_gravy', 'sorts', 'yummy', 'egg', 'runny', 'perfect', 'gravy', 'messy', 'lovely', 'bite', 'tried', 'cornmeal', 'catfish', 'perfectly_breaded', 'fish', 'fresh', 'flaky', 'dessert', 'bourbon_pecan_pie', 'whipped_cream', 'sinful', 'bite', 'packed', 'chocolate', 'pieces', 'could', 'done', 'without', 'wish', 'heated', 'pie', 'served', 'alamode', 'cold', 'whipped_cream', 'justice', 'overall', 'amazing', 'dining_experience', 'without', 'frills', 'affordable_prices'] \n",
      "\n",
      "fried_green_tomatoes\n",
      "biscuits_honey_butter\n",
      "chocolate_bourbon_pecan\n",
      "['delicious', 'crunchy', 'fried_chicken', 'waffles', 'served', 'fixins', 'apps', 'selection', 'fried_green_tomatoes', 'glazed', 'pork_belly', 'deviled_eggs', 'highlights', 'biscuits_honey_butter', 'scrumptious', 'chocolate_bourbon_pecan', 'pie', 'yes', 'friendly', 'service', 'cute', 'characteristic', 'southern', 'decor', 'love', 'return'] \n",
      "\n",
      "best_he's_ever\n",
      "fried_chicken_breast\n",
      "['cute', 'southern_style', 'eatery', 'western_avenue', 'menu', 'simple', 'sure', 'food', 'specialize', 'fried_chicken', 'disappoint', 'chicken_moist', 'juicy', 'husband', 'opted', 'fried_chicken', 'basket', 'side', 'collard_greens', 'cornbread', 'said', 'collard_greens', \"best_he's_ever\", 'cornbread', 'delicious', 'made', 'hint', 'honey', 'caesar_salad', 'fried_chicken_breast', 'sat_outside', 'lovely', 'inside', 'waiter', 'personable_attentive', 'highly_recommend', 'crave', 'fried_chicken'] \n",
      "\n",
      "mac_n_cheese\n",
      "['close', 'flawless', 'return', 'food', 'service', 'aatmosphere', 'aprice', 'portions_plentiful', 'reasonable', 'cuckoos_nest', 'brunch', 'hit', 'many', 'highlights', 'coffee', 'grit_tots', 'delicious', 'want', 'sausage_gravy', 'ever', 'end', 'could', 'eat', 'entire_meal', 'order', 'eggs_benedict', 'wherever', 'brunch', 'cuckoo', 'benedict', 'top', '5', 'oysters', 'collards', 'cooked_perfection', 'flavor', 'fantastic', 'combined', 'egg', 'hollandaise', 'hot_sauce', 'biscuit', 'combination', 'mashup', 'flavors', 'complimented', 'individual', 'component', 'portion', 'plentiful', 'home_fries', 'flavorful', 'browned', 'dining_companions', 'fried_chicken', 'although', 'tad_greasy', 'cooked', 'tasted', 'accompanying', 'mac_n_cheese', 'cornbread', 'return', 'highly_recommend'] \n",
      "\n",
      "biscuits_honey_butter\n",
      "red_velvet_cake\n",
      "can't_wait_come\n",
      "['way', \"son's\", 'twenty', 'first', 'birthday', 'first', 'choice', 'sure', 'glad', 'chose', 'delectable', 'made_reservation', 'six', '6_00', 'saturday_night', 'comfortably', 'crowded', 'round', 'table', 'right_near', 'kitchen', 'door', 'interfere', 'enjoyment', 'decor', 'eclectic', 'charming', 'service', 'professional', 'friendly', 'word', 'forthe', 'food', 'delicious', 'started', 'two', 'orders', '4', 'biscuits_honey_butter', 'light', 'yet', 'crispy', 'perfect', 'touch', 'buttery', 'goodness', 'spread', 'honey_butter', 'birthday', 'boy', 'brothers', 'devoured', 'extra', 'two', 'biscuits', 'appetizer', 'grit_tots', 'covered', 'spicy', 'sausage_gravy', 'tasty', 'tot', 'two', 'included', 'southerner', 'fried_chicken', 'sandwich', 'pimentos', 'pickled', 'green_tomatoes', 'bacon_ranch', 'along', 'star', 'fried_chicken', 'made', 'tangy', 'juicy', 'slightly', 'hot', 'unami', 'sandwich', 'complaint', 'bun', 'average', 'supermarket', 'hamburger_roll', 'hold', 'quality_ingredients', 'chose', 'macaroni_salad', 'side', 'instead', 'fries', 'tasted', 'homemade', 'supposed', 'coleslaw', 'must_forgotten', 'husband', 'cuckoo', 'sandwich', 'featuring', 'chicken', 'sausage_gravy', 'cheddar_cheese', 'fried_egg', 'skipped', 'fried', 'brussel_sprouts', 'crime', 'supposed', 'come', 'finished', 'flat', 'tangy', 'tasty', 'coleslaw', 'two', 'others', \"devin's\", 'fried_chicken', 'half', 'chicken', 'two_sides', 'youngest', 'son', 'mac_cheese', 'fries', 'mac_cheese', 'qualities', 'variety', 'cheesy', 'thick', 'al_dente', 'shells', 'oldest', 'chose', 'collard_greens', 'wow', 'oh', 'wow', 'want', 'greens', 'cooked', 'chew', 'deep_rich', 'bacon', 'flecked', 'sauce', 'pot', 'liquor', 'boys', 'enjoyed', 'crispy', 'brined', 'juicy', 'greasy', 'chicken', 'mom', 'chose', 'house_salad', 'winning', 'fried_chicken', 'full', 'dessert', 'spite', 'tasty_sounding', 'offerings', 'waiter', 'wind', 'fact', \"son's_birthday\", 'brought', 'piece', 'red_velvet_cake', 'touch', 'service', 'previously_mentioned', 'polite', 'pleased', 'prices_reasonable', 'expensive', 'depending', \"can't_wait_come\", 'perhaps', 'brunch', 'lunch', 'non', 'chicken', 'offerings'] \n",
      "\n",
      "5_star_review\n",
      "['probably_best', 'chicken_sandwich', 'ever_life', 'quality_ingredients', 'phenomenal', 'chicken', 'pickles', 'roll', 'served', 'service', 'amazing', 'food', 'casey', 'server', 'went_beyond', 'take_care', 'regulars', 'shocked', 'line', 'around_block', 'undisputed', 'brainer', '5_star_review'] \n",
      "\n",
      "fried_green_tomato\n",
      "['cute', 'restaurant', 'right', 'popular', 'scenic', 'park', 'street_parking', 'fried_green_tomato', 'sliders', 'appetizer', 'pretty', 'awesome', 'toppings', 'together', 'smoked_wings', 'appetizer', 'delicious', 'sauce', 'bread', 'wings', 'win_book', 'love', 'ranch', 'underneath', 'wings', 'instead', 'side', 'deviled_egg', '3', '1', 'strong', 'horseradish', 'flavor', 'worth', 'sure', 'order', 'service', 'attentive'] \n",
      "\n",
      "friday_night_packed\n",
      "['friday_night_packed', 'seated_promptly', 'drinks', 'enthusiastic', 'waiter', 'explaining', 'specials', 'went', 'ahead', 'loaded_fries', 'appetizers', 'delicious', 'chicken', 'best_ever', 'chicken', 'different', 'makes', 'better', 'seem', 'load', 'salt', 'feel', 'hell', 'afterwards', 'dry', 'crispy_outside', 'chicken', 'soaked', 'remains', 'incredibly', 'moist', 'breast', 'pieces', 'hot_sauce', 'separately', 'plenty', 'alternative', 'items_menu', 'fried_chicken', 'may', 'fans', 'dietary_restrictions', 'friends', 'salmon', 'going', 'order', 'non', 'chicken', 'dishes', 'proper', 'restaurant', 'full', 'menu', 'parking', 'chicken', 'joint'] \n",
      "\n",
      "seated_right_away\n",
      "['liked', \"cuckoo's_nest\", 'brunch', 'food', 'wait_staff', 'terrific', 'seated_right_away', 'however', 'ginger_man', 'replaced', 'course', 'meant', 'thought', 'portions_smaller', 'dishes', 'bit_pricier', 'thought', 'old', 'decor', 'warmth', 'take', 'bit', 'getting', 'use', 'still', 'brunch', 'option', 'capital_region'] \n",
      "\n",
      "biscuits_honey_butter\n",
      "['brunch', 'friends', 'loved', 'former', 'home', 'gingerman', 'rip', 'classic', 'albany', 'spot', 'closed', 'sold', 'owners', \"cuckoo's_nest\", \"they've\", 'updated', 'interior', 'bit', 'looks', 'cozy_inviting', 'kind', 'antique', 'charm', 'gingerman', 'service', 'accommodating', 'friend', 'arrived', 'table', '4', 'actually', '5', 'asked', 'could', 'add', 'another', 'chair', 'table', 'heck', 'yea', 'cocktails', 'apple', 'champagne', 'thing', 'company', 'mimosas', 'bloody_mary', 'drink', 'pretty', 'option', 'something', 'mimosa', 'brunch', 'say', 'apple', 'flavor', 'tasted', 'artificial', 'biscuits_honey_butter', 'share', 'dope', 'could', 'eat', 'honey_butter', 'spoon', 'gross', 'judge', 'short_rib', 'hash', 'asked', 'egg', 'easy', 'def', 'hard', 'meh', 'let', 'gotta', 'choose', 'battles', 'bae', 'chicken_waffles', 'liked', 'friends', 'chicken', 'sandwiches', 'raved', \"i'd\", 'love', 'come', 'dinner', 'see', 'regular_rotation', 'welcome_addition', 'albany', 'restaurant', 'scene'] \n",
      "\n",
      "biscuits_honey_butter\n",
      "['unexpectedly', 'amazing', 'area', 'albany', 'never', 'venture', 'saw', 'year', 'celebration', 'friend', 'went', 'give', 'inside', 'restaurant', 'cute', 'decorated', 'split', 'order', 'biscuits_honey_butter', 'classic', 'plate', 'usually', 'biggest', 'biscuit', 'fan', 'however', 'amazing', 'probably_best', 'biscuits', 'ever', 'easy_eggs', 'cooked_perfection', 'sourdough_bread', 'comes', 'full', 'bar', 'apple_cider', 'mimosa', 'delicious', 'highly_recommend', 'bill', 'tip', 'suggestion', 'added', 'starting', '18_percent', 'option', 'write'] \n",
      "\n",
      "perfectly_poached_eggs\n",
      "chocolate_bourbon_pecan\n",
      "['officially', 'favorite', 'brunch', 'albany', 'space', 'food', 'cute', 'photogenic', 'service', 'attentive', 'crabcake', 'chicken_waffles', 'eggs_benedict', 'normal', 'crabcake', 'standout', 'meal', 'big', 'crabcake', 'assorted', 'beans', 'veggies', 'sort', 'aioli', 'sauce', 'everything', 'went', 'together', 'perfectly', 'chicken_waffles', 'pretty', 'though', 'chicken', 'tasted', 'healthy', 'skin_crispy', 'inside', 'seemed', 'baked', 'chicken', 'boyfriend', 'enjoy', 'much', 'thought', 'eggs_benedict', 'perfectly_poached_eggs', 'nicely_spiced', 'home_fries', 'side', 'ham', 'typical', 'canadian_bacon', 'thick', 'slice', 'coldcut', 'ham', 'sandwiches', 'still', 'enjoyed', 'lot', 'come', 'crabcake', 'chocolate_bourbon_pecan', 'pie', 'next', 'iron_gate', 'madison_cafe', 'compare', 'wish', 'buttermilk_pancakes'] \n",
      "\n",
      "fried_green_tomatoes\n",
      "can't_say_anything\n",
      "['loved', 'moment_walked', 'welcomed', 'greeted_smile', 'cute', 'ambiance', 'dim_lighting', 'bird', 'decorations', 'simple', 'clean', 'decor', 'manager', 'rachel', 'provided', 'outstanding', 'customer_service', 'lovely', 'fried_green_tomatoes', 'awesome', 'never', 'amazing', 'deviled_eggs', 'tasty', 'egg', 'cut_half', 'two_pieces', 'poblano', 'pepper', 'super', 'huge', 'serving', 'delicious', 'queso', 'around', 'yummy', 'shrimp_grits', 'outstanding', 'grits', 'creamy', 'delicate', 'clouds', 'deliciousness', \"can't_say_anything\", 'negative', 'plates', 'old_school', 'pretty', 'flowers', 'service', 'cool', 'selection', 'drinks', 'beer_selection', 'especially', 'enjoyed', 'strawberry', 'prosecco', 'drink', 'overall', 'take', 'family_friends', 'recommend'] \n",
      "\n",
      "country_fried_chicken\n",
      "['6', 'option', '6_stars', '5', 'places', 'fair', 'charleston', 'savannah', 'ate', 'best', 'southern', 'restaurants', 'country_fried_chicken', 'chicken_sandwich', 'blows_water', 'literally', 'drive', 'three_hours', 'long_island', 'weekend', 'saratoga', 'chicken', 'far', 'top', 'three', 'dishes', 'ever', 'ate', 'life', 'cost', '5x', 'less', 'others', 'must_stop', 'area'] \n",
      "\n",
      "5_star_review\n",
      "['service', 'delicious', 'cocktails', 'albeit_bit', 'overpriced', 'opinion', 'others', 'said', 'biggest', 'bang_buck', \"cuckoo's_nest\", 'makes', 'environment', 'excellent', 'service', 'menu', 'indulge', 'biscuits', 'honey', 'small', 'delicious', 'deviled_eggs', 'tasty', 'start', 'fried_chicken', 'reason_giving', '5_star_review', 'picky', 'fried_chicken', 'though', 'necessarily', 'recommend', 'people', 'specifically', 'fried_chicken', 'worth_visit'] \n",
      "\n",
      "grilled_chicken_salad\n",
      "['grilled_chicken_salad', 'delicious', 'deviled_eggs', 'impressed', 'bit', 'vinaigrette', 'taste', 'say', 'unique', 'blend', 'southern_style', 'foods', 'focus', 'fried_chicken', 'sandwiches', 'seem', 'main', 'focus', 'overall', 'small_cozy', 'feel', 'bar', 'hang'] \n",
      "\n",
      "service_top_notch\n",
      "there's_nothing_else\n",
      "can't_wait_come\n",
      "[\"i'd\", 'wanting', 'come', \"cuckoo's_nest\", 'since', 'preview', 'sampling', 'crave', 'yelp_event', 'finally', 'made', 'sunday_brunch', 'everything', 'food', 'decor', 'service', 'fantastic', 'first', 'service_top_notch', 'casual', 'necessarily', 'expect', 'much', 'truly', 'impressed', 'every', 'staffperson', 'encountered', 'host', 'drink', 'order', 'right_away', 'saw', 'server', 'busy', 'least', 'four', 'people', 'total', 'served', 'capacity', 'checked', 'everyone', 'genuinely', 'warm', 'friendly_chatty', 'offered', 'fresh', 'silverware', 'appetizers', 'wow', 'cleaned', 'splash', 'gravy', 'table', 'entrees', 'coffees', 'refilled', 'half_empty', 'yes_please', 'deviled_eggs', 'grit_tots', 'start', 'followed', 'cuckoo', 'bennies', 'steak_eggs', 'entrees', 'depth_flavor', 'unique_combinations', 'every_bite', 'dish', 'left', 'saying', 'mmmm', 'honestly', 'moaning', 'hand', 'wanted', 'dessert', 'room', 'much', 'goodness', 'uploaded', 'photos', 'brunch', 'menu', 'find', 'info', 'either', 'yelp', 'restaurant', 'website', 'see', 'typical_diner', 'level', 'brunch', 'menu', 'traditional', 'brunch', 'meets', 'southern', 'food', 'modern', 'flare', 'superb', 'meal', 'example', 'eggs_benedict', 'fried_oysters', 'collard_greens', 'hot_sauce', 'hollandaise', 'awesome', 'drink', 'menu', 'fun', 'unique', 'come', 'come_often', 'promise', \"there's_nothing_else\", 'area', \"can't_wait_come\", 'dinner'] \n",
      "\n",
      "biscuits_sausage_gravy\n",
      "order_something_else\n",
      "checked_make_sure\n",
      "another_staff_member\n",
      "['ever', 'mood', 'torture', 'particularly', 'eating', 'terribly', 'exciting', 'homemade', 'lunch', 'check', 'photos', \"cuckoo's_nest\", 'posts', 'online', 'food', 'took', 'entirely', 'long', 'partially', 'decide', 'going', 'lunch_dinner', 'service', 'partially', 'realize', 'parking_lot', 'behind', 'restaurant', 'deal', 'street_parking', 'wound', 'choosing', 'dinner', 'service', 'making', 'dinner', 'reservation', 'days', 'ahead', 'saturday_night', 'though', 'next_morning', 'posted', 'photo', 'pecan_encrusted', 'french_toast', 'bourbon_maple', 'syrup', 'peach', 'compote', 'butter', 'mind_blown', 'obviously', 'need', 'return', 'brunch', 'asap', 'seated_immediately', 'decided_share', 'fried', 'grit_tots', 'biscuits_sausage_gravy', 'whole', 'fried_chicken', 'collard_greens', 'brussels_sprouts', 'initially', 'decided', 'need', 'extra', 'side', 'sausage_gravy', 'fried_chicken', 'waitress', 'asked', 'grit_tots', 'biscuits', 'hands_best', 'sausage_gravy', 'ever_tasted', 'three', 'agreed', 'asked', 'side', 'come', 'chicken', 'fried_chicken', 'perfection', 'kind', 'never', 'thought', 'possible', 'find', 'outside', 'south', 'collard_greens', 'preparation', 'world', 'thing', 'home_run', 'brussels_sprouts', 'fine', 'anything', 'quite', 'special', 'everything_else', \"i'd\", 'order_something_else', 'next', 'side', 'notice', 'many', 'local_beers', 'available', 'list', 'common_roots', 'sour', 'may', 'local', 'choice', 'service', 'fantastic', 'right_amount', 'attentive', 'informative', 'appreciated', 'server', 'checked_make_sure', 'pork', 'used', 'collard', 'green', 'preparation', 'okay', 'appreciated', 'another_staff_member', 'coming', 'make_sure', 'meal', 'appreciated', 'bill', 'provided', 'three', 'check', 'boxes', 'tips', 'calculated', 'totaled', 'math', 'necessary', 'custom', 'tip', 'option', 'math', 'required', 'sometimes', 'things', 'end_meal', 'math', 'wonderful', 'next', 'return_visit', 'brunch', 'hopefully', 'soon', 'dinner', 'around', '70', 'tax_tip', '3', 'people', 'fried_chicken', 'leftover'] \n",
      "\n",
      "5_star_rating\n",
      "chocolate_bourbon_pecan\n",
      "music_playing_background\n",
      "['food', 'service', 'atmosphere', 'heck', 'yes', '5_star_rating', 'right', 'sunday', 'mass', 'several', 'days', 'bleak', 'bone', 'chilling', 'weather', 'desperate_need', 'fried', 'comfort_food', 'yelp', 'recommended', \"cuckoo's_nest\", 'glad', 'despite', 'walking', 'without_reservations', 'middle', 'sunday_brunch', 'rush_hour', 'brightly', 'welcomed', 'quickly_seated', 'pineapple', 'mimosa', 'grit_tots', 'fried_chicken', 'sandwich', 'coleslaw', 'slide', 'chocolate_bourbon_pecan', 'pie', 'dessert', 'yes', 'hangry', 'oh', 'gurd', 'everything', 'delicious', 'exactly', 'doctor', 'happy', \"there's\", 'finally', 'local', 'albany', 'serves', 'awesome', 'fried_chicken', 'longer', 'drive_troy', 'saratoga', 'book', 'flight', 'visit', 'friends', 'south', 'fulfill', 'cravings', 'hot', 'juicy', 'crispy', 'fried_chicken', 'thank', \"cuckoo's_nest\", 'big', 'platter', 'took', 'savoring', 'total', '32', 'including_tip', 'rachel', 'server', 'friendly', 'gave', 'tips', 'figure', 'wanted', 'eat', 'farmhouse', 'shabby_chic', 'style', 'exposed_brick', 'lettered', 'signs', 'lots', 'sunshine', 'man', 'music', 'playlist', 'often', 'pay_attention', 'music_playing_background', 'whatever', 'spotify', 'pandora', 'playlist', 'lip', 'syncing', 'dancing', 'seat', 'today', 'mimosa', 'may', 'loosened', 'bit', 'still', 'fun', 'sunday_afternoon', 'spent', 'somewhere', 'positive', 'bright', 'happy', 'yummy', 'mimosas', 'fried', 'comfort_food', 'hit', 'right', 'spots', 'love', \"cuckoo's_nest\"] \n",
      "\n",
      "took_10_minutes\n",
      "['accommodating', 'personalizing', 'dish', 'waned', 'eggs_benny', 'vegetarian', 'combo', 'two_types', 'offered', 'tots', 'sausage', 'side', 'vegetarian', 'heard', 'delicious', 'however', 'service_slow', 'took_10_minutes', 'someone', 'serve', 'water', 'mainly', 'took', 'reservations', 'brunch', 'sunday_brunch', 'took_long', 'due', 'staff', 'busy', 'food', 'make_sure', 'give', 'come'] \n",
      "\n",
      "5_star_rating\n",
      "biscuits_honey_butter\n",
      "['first', 'two', 'times', \"cuckoo's_nest\", 'doubt', 'received', '5_star_rating', 'unfortunately', 'opinion', 'fell', 'third', 'first', 'went', 'dinner', 'huge_selection', 'food', 'type', 'bean', 'dish', \"can't_remember\", 'exact_name', 'fiancé', 'chicken_waffles', 'biscuits', 'deviled_eggs', 'appetizers', 'incredible', 'highly_recommend', 'biscuits', 'particular', 'served', 'delicious', 'honey_butter', 'cocktail', 'visit', 'pretty', 'bit_pricy', 'visit', 'eager', 'family', 'visit', 'california', 'took', 'sunday_brunch', \"family's\", 'dishes', 'visit', 'loved', \"cuckoo's_nest\", 'much', 'decided', 'birthday', 'lunch', 'following', 'week', 'unfortunately', 'love', \"cuckoo's_nest\", 'dimmed', 'bit', 'went', 'lunch', 'exactly', 'opened', '11', 'disappointed', 'see', 'usual', 'brunch', 'dinner', 'dishes', 'several_types', 'sandwiches', 'none', 'sounded', 'asked', 'chicken_waffles', 'told', 'lunch', 'week', 'disappointed', 'thought', 'least', 'biscuits_honey_butter', 'tried', 'order', 'told', 'biscuits', 'lunch', 'pretty', 'upset', 'point', 'contemplated', 'walking', \"madison's\", 'cafe', 'unfortunately', 'much', 'settled', 'curry_chicken', 'sandwich', 'decent', 'overpriced', 'fiancé', 'fish_chips', 'enjoy', 'said', 'fish', 'flavor', 'ate_half', 'loved', \"cuckoo's_nest\", 'bit', 'hesitant', 'return'] \n",
      "\n",
      "easy_street_parking\n",
      "['lunch', 'omg', 'chicken_sandwich', 'biscuit', 'sauce', 'pickles', 'collard_greens', 'side', 'best', 'sandwich', 'beautiful', 'easy_street_parking', 'rachel', 'hostess', 'guided', 'food', 'choices', 'catered', 'top'] \n",
      "\n",
      "wait_staff_friendly\n",
      "fried_green_tomatoes\n",
      "chocolate_chip_cookies\n",
      "['family', 'visited', 'friday_night', 'parking', 'problem', 'ample_parking', 'behind', 'restaurant', 'reservation', 'table', 'waiting', 'arrived', 'wait_staff_friendly', 'accommodating', 'needs', 'wine', 'beer_selection', 'waiter', 'let_sample', 'couple_beers', 'ask', 'started', 'fried_green_tomatoes', 'dino_bbq', 'decided', 'cuckoos_nest', 'better', 'ones', 'sorry', 'dino', 'ily', 'main_course', 'small', 'shrimp_grits', 'delicious', 'shrimp', 'large', 'sauce', 'creamy', 'amazing', 'others', 'lobster', 'special', 'tasty', 'extremely', 'small', \"devin's\", 'fried_chicken', 'person', 'leftovers', 'apple', 'smoked', 'double', 'cut', 'pork_chop', 'grilled', 'ribeye_steak', 'two', 'desserts', 'pecan_pie', 'chocolate_chip_cookies', 'tasty', 'small', 'nothing_special', 'dinner', 'agreed', 'special_occasions', 'bit_pricy', 'portions_smaller', 'side', 'reference', 'beer_wine', '1', 'app', '5', 'entrees', '2', 'desserts', 'around', '250', 'tip', 'insane', 'spend', 'usual', 'night'] \n",
      "\n",
      "went_friday_night\n",
      "biscuits_honey_butter\n",
      "['went_friday_night', 'blown_away', 'starters', 'make', 'lemonade', 'best', \"kaytrin's\", 'biscuits_honey_butter', 'unbelievably', 'delicious', 'waitress', 'said', 'take', 'minutes', 'made', 'order', '100_percent', 'worth_wait', 'dinner', 'fried_chicken', 'grits', 'mac_cheese', 'corn_bread', 'give', 'amount', 'food', 'plenty', 'take_home', 'later', 'everything', 'tasty', 'warm', 'fresh', 'waitress', 'friendly', 'excited', 'found', 'new', 'amazing', 'food', 'wait'] \n",
      "\n",
      "fried_green_tomatoes\n",
      "['service', 'food', 'love', 'vibe', 'decor', 'fried_green_tomatoes', 'bbq_wings', 'mac_cheese'] \n",
      "\n",
      "fries_cole_slaw\n",
      "100_percent_recommend\n",
      "['food', 'fgot', 'fried', '1_2', 'chicken', 'fries_cole_slaw', 'grit_tots', 'honey_butter', 'biscuits', 'collard_greens', 'chocolate_cake', 'dessert', 'fried_chicken', 'amazingly', 'crisp', 'crunchy', \"could've_done\", 'slightly', 'seasoning', 'spice', 'cole_slaw', 'collard_greens', 'nothing', 'super', 'special', 'grit_tots', 'delicious', 'never', 'grit_tots', 'honestly', 'grits', 'tdf', 'honey_butter', 'biscuits', 'soooo', 'totally', 'must', 'course', 'chocolate_cake', 'decadent', 'p', 'fries', 'insanely', 'atmosphere', 'live_music', 'cute_cozy', 'inside', 'live_music', 'icing_cake', 'overall', \"cuckoo's\", 'stop', 'live', 'around', 'albany', 'road_trip', '100_percent_recommend'] \n",
      "\n",
      "busy_friday_night\n",
      "30_minute_wait\n",
      "within_10_minutes\n",
      "['dined', \"cuckoo's\", 'busy_friday_night', '30_minute_wait', 'table', 'walked', 'bar', 'completely', 'filled', 'drinks', 'variety', 'beers', 'including', 'craft', 'macro', 'options', 'two', 'dozen', 'taps', 'opted', 'scotch', 'highland', 'park', '12', 'deep', 'oaky', 'flavor', 'selection', 'bourbons', 'scotches', 'able', 'seats_bar', 'within_10_minutes', 'hanging_around', 'half', 'chicken', 'collard_greens', 'creamy', 'grits', 'highly_recommend', 'fried_chicken', 'big_portion', '5', 'pieces', 'crispy', 'breading', 'chicken', 'juicy', 'liked', 'lemon', 'flavor', 'highly_recommend', 'collard_greens', \"they're\", 'extremely_flavorful', 'seemed', 'bacon', 'chunks', 'grits', 'buttery', 'staff_friendly', 'attentive', 'accommodating', \"cuckoo's\", 'spot', 'dine', 'albany'] \n",
      "\n",
      "sausage_gravy_biscuits\n",
      "['busy', 'sunday_brunch', 'almost', 'wait_hour', 'half', 'table', 'fit', 'bar', 'yay', 'literally', 'typed', 'sausage_gravy_biscuits', 'google_maps', 'craving', 'needed', 'satisfied', 'morning', 'worked', 'food', 'delicious', '3_50', 'weak', 'coffee', 'cool', 'made', 'price', 'meal', 'overall', 'feel', 'bit', 'extravagant'] \n",
      "\n",
      "salad_grilled_chicken\n",
      "nothing_write_home\n",
      "['service', 'mediocre', 'food', 'small', 'apps', 'highlight', 'honey_butter', 'biscuits', 'salad_grilled_chicken', 'substitution', 'green', 'goddess', 'dressing', '16', 'underwhelmed', 'small', 'dry', 'chicken', 'ton', 'veggies', 'friends', 'fried_chicken', 'decent', 'nothing_write_home', '20', 'breading', 'much', 'flavor', 'fried', 'long', 'enough', 'stick', 'least', '4', 'people', 'ask', 'throughout_night', 'meal', 'probably', 'said', 'something', 'want', 'distract', 'dinner_rush', 'may', 'dinner'] \n",
      "\n",
      "went_sunday_brunch\n",
      "biscuits_honey_butter\n",
      "['went_sunday_brunch', 'made_reservations', 'seated_immediately', 'instantly', 'impressed', 'brunch', 'menu', 'many_options', 'choose', 'different', 'portion_sizes', 'price_points', 'basket', 'biscuits_honey_butter', 'everything', 'chicken_waffles', 'cooked_perfection', 'honey', 'hot_sauce', 'accompanied', 'superb', 'staff_attentive', 'friendly', \"can't_wait\", 'brunch', 'items', 'dinner'] \n",
      "\n",
      "4_5_stars\n",
      "spicy_tomato_sauce\n",
      "['evaluating', 'cheesy', 'grit_tots', 'gravy', 'solid_4', '4_5_stars', 'catfish', 'grits', 'tomato_sauce', 'sauce', 'simple', 'spicy_tomato_sauce', 'freshness', 'greens', 'added', 'top', 'catfish', 'though', 'catfish', 'may', 'bulls', 'fish', 'call', 'basa', 'dish', 'catfish', 'sold', '3_stars', 'flavor', 'fish'] \n",
      "\n",
      "much_higher_quality\n",
      "restaurants_albany_area\n",
      "['late', 'review', 'pretty', 'soon', 'opened', 'excellent', 'tator', 'tot', 'appetizer', 'expected', \"that's\", 'bad', 'thing', 'expecting', 'tator', 'tot', 'version', 'pub', 'tator', 'tot', 'app', 'much_higher_quality', 'worth', 'ordering', 'food', 'quality', 'execution', 'high_level', 'better', 'restaurants_albany_area', 'right'] \n",
      "\n",
      "new_year's_eve\n",
      "fried_green_tomatoes\n",
      "braised_short_ribs\n",
      "5_10_minutes\n",
      "['wonderful', '3', 'course', \"new_year's_eve\", 'meal', 'last_evening', 'started', 'fried_green_tomatoes', 'everything', 'dish', 'breading', 'super', 'crunchy', 'tomatoes', 'wonderful', 'sauces', 'excellent', 'tart', 'creamy', 'spicy', 'highly_recommend', 'next', 'course', 'spicy', 'boneless', 'fried_chicken', 'slider', 'buttermilk', 'biscuit', 'another', 'hit', 'chicken_breast', 'cooked_perfectly', 'appeared', 'brined', 'biscuit', 'braised_short_ribs', '3rd', 'course', 'absolutely', 'flawless', 'bit', 'misstep', 'beverage', 'order', 'bill', 'resolved', 'quickly', 'service', 'fine', 'bit', 'rushed', 'could_used', '5_10_minutes', 'courses'] \n",
      "\n",
      "fried_green_tomato\n",
      "['incredible', 'promise', 'stopped', 'impromptu', 'lunch', 'phenomenal', 'biscuit', 'memorable', 'bite', 'fried_green_tomato', 'sliders', \"let's\", 'call', 'sliders', 'bun', 'delicious', 'crab_cake', 'could_used', 'hit', 'fruit', 'citrus', 'overall', 'better', 'capital_region', 'areas', 'improvement', 'fake_flowers', 'dumb', 'class', 'ambiance', 'beer_list', 'sad', 'looked', 'improving', 'coming', 'weeks', 'super_excited', 'come', 'flow', 'things'] \n",
      "\n",
      "tomato_bacon_ranch\n",
      "fried_green_tomato\n",
      "['tried', 'fried', 'southern', 'chicken_sandwich', 'pimento', 'lettuce', 'pickled', 'green', 'tomato_bacon_ranch', '12_50', 'fglt', 'fried_green', 'lettuce_tomato', 'fried_green_tomato', 'bacon', 'red', 'tomato_lettuce', 'green', 'goddess', 'aioli', '12', 'choice', 'cole_slaw', 'macaroni_salad', 'french_fries', 'fries', 'entrees', 'macaroni_salad', 'sides', 'amazing', 'french_fries', 'crispy_outside', 'soft_inside', 'way', 'crunchy', 'shell', 'macaroni_salad', 'perfectly_seasoned', 'moist', 'mushy', 'dry', 'celery', 'added', 'freshness', 'fried_chicken', 'sandwich', 'burger', 'brioche_bun', 'chicken', 'huge', 'dry', 'pickled', 'green', 'tomato', 'delicious', 'something', 'never_seen', 'done', 'green_tomatoes', 'seen', 'fried', 'fglt', 'sandwich', 'delicious', 'crispy_crunchy', 'bread', 'outside', 'indoor_outdoor', 'dining_options', 'inside', 'option', 'eat', 'bar', 'tons', 'delicious', 'cocktail', 'options', 'loved', 'interior_decor', \"there's\", 'exposed_brick', 'iron', 'tables', 'white', 'washed', 'tops', 'pearlescent', 'plates', 'vintage', 'china', 'lots', 'birds', 'nest', \"cuckoo's_nest\", 'theme', 'fake_flowers', 'table', 'vestibule', 'bright_yellow', 'flowered', 'wreath', 'prices_fair', 'food', 'delicious'] \n",
      "\n",
      "biscuits_honey_butter\n",
      "mac_n_cheese\n",
      "[\"cuckoo's_nest\", 'list', 'husband', 'snagged', 'friday_night', 'reservation', 'decor', 'set', 'restaurant', 'cozy', 'fun', 'inviting', 'hostess', 'server', 'incredibly', 'kind', 'checked', 'throughout_evening', 'start', 'tried', 'biscuits_honey_butter', 'grit_tots', 'since', 'neither', 'eat', 'pork', 'happy', 'sub', 'chicken', 'gravy', 'love', 'offer', 'chicken', 'gravy', '4', 'biscuits', 'glad', 'b_c', 'apiece', 'suffice', 'biscuits', 'light', 'tender', 'flaky', 'could', 'probably', 'eat', 'four', 'honey_butter', 'think', 'star_show', 'grit_tots', 'wonderful', 'fried_chicken', 'half', 'bird', 'brussel_sprouts', 'mac_n_cheese', 'loved', 'fried_chicken', 'kind', 'regretted_getting', 'fried_chicken', 'since', 'half', 'order', 'big_enough', 'two', 'husband', 'thought', 'fried_chicken', 'tad', 'salty', 'side', 'thought', 'right_next', \"i'll_likely\", 'order', 'chicken', 'beef', 'rib', 'spied', \"neighbor's\", 'plate'] \n",
      "\n",
      "ever_entire_life\n",
      "can't_wait_come\n",
      "['amazing', 'restaurant', 'happy', 'picked', 'albany', 'deviled_eggs', 'amazing', 'biscuits', 'best', 'biscuits', 'ever_entire_life', 'main_meal', 'fried_chicken', 'mac_cheese', 'brussels', 'holy', 'jesus', 'amazing', 'oh', 'fresh', 'made', 'lemonade', 'die', \"can't_wait_come\", 'albany', 'come'] \n",
      "\n",
      "biscuits_honey_butter\n",
      "['fiancé', 'went', 'tonight', 'first', 'birthday_dinner', 'agreed', 'end_meal', 'new_favorite', 'restaurant', 'everything', 'delicious', 'deviled_egg', 'biscuits_honey_butter', 'starters', 'could', 'eaten', 'butter', 'appetizer', 'delicious', 'chicken_sandwich', 'dinner', 'pimento_cheese', 'bacon', 'mine', 'pickles', 'spicy_mayo', 'amazingly_delicious', 'grits', 'side', 'holy_moly', 'could', 'eaten', 'entire_meal', 'creamy_flavorful', 'decor', 'staff', 'food', 'want', 'come'] \n",
      "\n"
     ]
    }
   ],
   "source": [
    "for review in data[0:100]:\n",
    "    has_trigram = False\n",
    "    for word in review:\n",
    "        if word.count('_')>=2:\n",
    "            has_trigram = True\n",
    "            print(word)\n",
    "    if has_trigram:\n",
    "        print(review, \"\\n\")"
   ]
  },
  {
   "cell_type": "code",
   "execution_count": null,
   "metadata": {},
   "outputs": [],
   "source": []
  },
  {
   "cell_type": "code",
   "execution_count": null,
   "metadata": {},
   "outputs": [],
   "source": []
  },
  {
   "cell_type": "code",
   "execution_count": 40,
   "metadata": {
    "scrolled": true
   },
   "outputs": [
    {
     "name": "stdout",
     "output_type": "stream",
     "text": [
      "There are 64422 unique tokens in the dataset.\n"
     ]
    }
   ],
   "source": [
    "total_vocabulary = set(word for review in data for word in review)\n",
    "print(\"There are {} unique tokens in the dataset.\".format(len(total_vocabulary)))"
   ]
  },
  {
   "cell_type": "markdown",
   "metadata": {},
   "source": [
    "## Generate Word Embeddings"
   ]
  },
  {
   "cell_type": "code",
   "execution_count": 41,
   "metadata": {},
   "outputs": [
    {
     "name": "stdout",
     "output_type": "stream",
     "text": [
      "Generate Word Vectors: 39.41 seconds\n"
     ]
    }
   ],
   "source": [
    "print(\"Generate Word Vectors: \", end='')\n",
    "start = time.time()\n",
    "model = gensim.models.Word2Vec(data,size=100,window=5,min_count=1,workers=4)\n",
    "model.train(data,total_examples=model.corpus_count,epochs=10)\n",
    "end = time.time()\n",
    "print(round(end-start,2),\"seconds\")"
   ]
  },
  {
   "cell_type": "code",
   "execution_count": 42,
   "metadata": {
    "scrolled": true
   },
   "outputs": [
    {
     "name": "stdout",
     "output_type": "stream",
     "text": [
      "Corpus Count: 59274\n"
     ]
    }
   ],
   "source": [
    "#Save embedded word vector space\n",
    "wv = model.wv\n",
    "print(\"Corpus Count:\",model.corpus_count)"
   ]
  },
  {
   "cell_type": "code",
   "execution_count": 43,
   "metadata": {
    "scrolled": false
   },
   "outputs": [
    {
     "data": {
      "text/plain": [
       "[('veggie_burger', 0.6146519780158997),\n",
       " ('sliders', 0.5585982203483582),\n",
       " ('slider', 0.5571416020393372),\n",
       " ('burgers', 0.5485298037528992),\n",
       " ('turkey_burger', 0.5326671600341797),\n",
       " ('tempeh', 0.5229963064193726),\n",
       " ('burger_fries', 0.5070376992225647),\n",
       " ('bun', 0.5058655738830566),\n",
       " ('red_meat', 0.4739683270454407),\n",
       " ('pescatarian', 0.4613233804702759)]"
      ]
     },
     "execution_count": 43,
     "metadata": {},
     "output_type": "execute_result"
    }
   ],
   "source": [
    "#Explore the word vector space\n",
    "wv.most_similar(positive=['vegetarian','burger'],negative=['italian'])"
   ]
  },
  {
   "cell_type": "code",
   "execution_count": null,
   "metadata": {},
   "outputs": [],
   "source": []
  },
  {
   "cell_type": "code",
   "execution_count": null,
   "metadata": {},
   "outputs": [],
   "source": []
  },
  {
   "cell_type": "code",
   "execution_count": null,
   "metadata": {},
   "outputs": [],
   "source": []
  },
  {
   "cell_type": "markdown",
   "metadata": {},
   "source": [
    "# Dividing Reviews based on Star Rating\n",
    "\n",
    "Create a dictionary `reviews` containing the reviews with the star ratings as keys.\n",
    "\n",
    "create a dictionary `models` containing word embedding models for each star rating."
   ]
  },
  {
   "cell_type": "code",
   "execution_count": 44,
   "metadata": {},
   "outputs": [
    {
     "name": "stdout",
     "output_type": "stream",
     "text": [
      "Modeling 5.0 rating: 12.22\n",
      "Modeling 4.0 rating: 11.52\n",
      "Modeling 1.0 rating: 5.25\n",
      "Modeling 3.0 rating: 7.12\n",
      "Modeling 2.0 rating: 4.91\n"
     ]
    }
   ],
   "source": [
    "ratings = reviews_df.star_rating.unique()\n",
    "reviews = {}\n",
    "models = {}\n",
    "\n",
    "for rating in ratings:\n",
    "    print(f\"Modeling {rating} rating: \", end='')\n",
    "    start = time.time()\n",
    "    reviews[rating] = reviews_df.review_tokenized[reviews_df.star_rating==rating]\n",
    "    models[rating] = gensim.models.Word2Vec(reviews[rating],size=100,window=5,min_count=1,workers=4)\n",
    "    models[rating].train(reviews[rating],total_examples=models[rating].corpus_count,epochs=10)\n",
    "    end = time.time()\n",
    "    print(round(end-start,2))"
   ]
  },
  {
   "cell_type": "code",
   "execution_count": 45,
   "metadata": {},
   "outputs": [
    {
     "name": "stdout",
     "output_type": "stream",
     "text": [
      "5.0 rating ['samplers', 'kirin', 'singha', 'habanaro', 'served_ice_cold', 'pupu']\n",
      "4.0 rating ['pretzels', 'tequila', 'hoppy', 'chalula', 'margarita', 'lemon_pepper_garlic']\n",
      "3.0 rating ['safer', 'demands', 'cheese_pretzels', 'dew', 'poor_excuse', 'advocado']\n",
      "2.0 rating ['typical_pub_fare', 'noisey', 'fits_bill', 'bacardi', 'bacon_wrapped_filet', 'miso_soup_salad']\n",
      "1.0 rating ['cosmo', 'selection', 'minimalfood', 'limited_menu', 'refreshing', 'unshaken']\n"
     ]
    }
   ],
   "source": [
    "#See outputs for a specific word\n",
    "positive = ['tasty', 'beer']\n",
    "negative = []\n",
    "n_words = 6\n",
    "for key in sorted(models, reverse=True):\n",
    "    try:\n",
    "        print(key,\"rating\",[w[0] for w in models[key].wv.most_similar(\n",
    "            positive=positive, negative=negative, topn=n_words)])\n",
    "    except:\n",
    "        pass"
   ]
  },
  {
   "cell_type": "code",
   "execution_count": null,
   "metadata": {},
   "outputs": [],
   "source": []
  },
  {
   "cell_type": "code",
   "execution_count": null,
   "metadata": {},
   "outputs": [],
   "source": []
  },
  {
   "cell_type": "markdown",
   "metadata": {},
   "source": [
    "# Dividing Reviews based on Category\n",
    "\n",
    "Create a dictionary `category_models` containing word embedding models for each category."
   ]
  },
  {
   "cell_type": "code",
   "execution_count": 46,
   "metadata": {
    "scrolled": false
   },
   "outputs": [
    {
     "name": "stdout",
     "output_type": "stream",
     "text": [
      "Modeling:\n",
      "Pizza\t(6039) reviews, 5.0*(2100) 3.0*(798) 2.0*(624) 4.0*(1567) 1.0*(950) \n",
      "Cafes\t(2313) reviews, 5.0*(1138) 4.0*(632) 3.0*(242) 2.0*(145) 1.0*(156) \n",
      "Salad\t(3289) reviews, 5.0*(1344) 4.0*(928) 1.0*(337) 3.0*(392) 2.0*(288) \n",
      "Sandwiches\t(5393) reviews, 5.0*(2402) 4.0*(1366) 1.0*(497) 3.0*(666) 2.0*(462) \n",
      "Steakhouses\t(2146) reviews, 5.0*(715) 4.0*(561) 2.0*(284) 3.0*(346) 1.0*(240) \n",
      "Barbeque\t(1685) reviews, 4.0*(447) 5.0*(588) 3.0*(256) 1.0*(193) 2.0*(201) \n",
      "Asian Fusion\t(1689) reviews, 5.0*(722) 3.0*(210) 4.0*(471) 2.0*(148) 1.0*(138) \n",
      "Burgers\t(5478) reviews, 5.0*(1716) 4.0*(1324) 2.0*(645) 3.0*(805) 1.0*(988) \n",
      "Coffee & Tea\t(1891) reviews, 5.0*(629) 3.0*(236) 2.0*(209) 4.0*(484) 1.0*(333) \n",
      "Sushi Bars\t(3304) reviews, 5.0*(1332) 4.0*(929) 3.0*(437) 2.0*(287) 1.0*(319) \n",
      "Pubs\t(4409) reviews, 5.0*(1592) 4.0*(1394) 1.0*(442) 3.0*(599) 2.0*(382) \n",
      "Mexican\t(2684) reviews, 4.0*(675) 5.0*(668) 1.0*(488) 3.0*(436) 2.0*(417) \n",
      "Bars\t(11303) reviews, 5.0*(4244) 4.0*(3049) 1.0*(1244) 3.0*(1630) 2.0*(1136) \n",
      "Italian\t(6212) reviews, 5.0*(2609) 4.0*(1643) 3.0*(721) 1.0*(662) 2.0*(577) \n",
      "Mediterranean\t(1589) reviews, 5.0*(795) 3.0*(169) 4.0*(446) 2.0*(99) 1.0*(80) \n",
      "Chicken Wings\t(1676) reviews, 3.0*(230) 2.0*(166) 1.0*(253) 4.0*(435) 5.0*(592) \n",
      "Thai\t(1876) reviews, 5.0*(1043) 3.0*(147) 4.0*(495) 2.0*(88) 1.0*(103) \n",
      "American Traditional\t(10495) reviews, 5.0*(2933) 3.0*(1779) 4.0*(2806) 1.0*(1680) 2.0*(1297) \n",
      "Fast Food\t(2088) reviews, 4.0*(434) 1.0*(602) 2.0*(249) 3.0*(274) 5.0*(529) \n",
      "Indian\t(1873) reviews, 5.0*(900) 1.0*(170) 4.0*(498) 2.0*(124) 3.0*(181) \n",
      "Delis\t(1891) reviews, 5.0*(1012) 1.0*(139) 4.0*(454) 3.0*(176) 2.0*(110) \n",
      "Breakfast & Brunch\t(6032) reviews, 5.0*(2359) 4.0*(1639) 1.0*(670) 3.0*(805) 2.0*(559) \n",
      "American New\t(5754) reviews, 5.0*(2455) 4.0*(1567) 1.0*(462) 3.0*(751) 2.0*(519) \n",
      "Seafood\t(3769) reviews, 5.0*(1437) 3.0*(533) 4.0*(1028) 1.0*(357) 2.0*(414) \n",
      "Cocktail Bars\t(1538) reviews, 5.0*(708) 4.0*(352) 3.0*(203) 1.0*(122) 2.0*(153) \n",
      "Diners\t(2054) reviews, 5.0*(618) 4.0*(583) 3.0*(346) 1.0*(307) 2.0*(200) \n",
      "Japanese\t(2988) reviews, 5.0*(1210) 3.0*(390) 4.0*(806) 1.0*(320) 2.0*(262) \n",
      "103.42 seconds\n"
     ]
    }
   ],
   "source": [
    "#Dictionary of category keys. Each item is a dictionary of models by star rating.\n",
    "category_models = {}\n",
    "\n",
    "print(\"Modeling:\")\n",
    "start = time.time()\n",
    "\n",
    "for category in category_list:\n",
    "    reviews = get_reviews_by_category(category)\n",
    "    print(f\"{category}\\t({len(reviews)}) reviews,\", end=' ')\n",
    "    #reviews_df.review_tokenized[reviews_df.star_rating==rating]\n",
    "    ratings = reviews.star_rating.unique()\n",
    "    rating_models = {}\n",
    "    for rating in ratings:\n",
    "        selected_reviews = reviews.review_tokenized[reviews.star_rating==rating]\n",
    "        print(f\"{rating}*({len(selected_reviews)})\", end=' ')\n",
    "        rating_models[rating] = gensim.models.Word2Vec(selected_reviews,size=100,window=5,min_count=1,workers=4)\n",
    "        rating_models[rating].train(selected_reviews,total_examples=rating_models[rating].corpus_count,epochs=10)\n",
    "    #category_models[category] = gensim.models.Word2Vec(reviews['review_tokenized'],size=100,window=5,min_count=1,workers=4)\n",
    "    #category_models[category].train(reviews['review_tokenized'],total_examples=category_models[category].corpus_count,epochs=10)\n",
    "    category_models[category] = rating_models\n",
    "    print(\"\")\n",
    "end = time.time()\n",
    "print(f\"{round(end-start,2)} seconds\")"
   ]
  },
  {
   "cell_type": "code",
   "execution_count": 47,
   "metadata": {
    "scrolled": false
   },
   "outputs": [
    {
     "name": "stdout",
     "output_type": "stream",
     "text": [
      "Salad\n",
      "5.0 rating ['clean', 'attentive', 'fantastic', 'wonderful', 'outstanding', 'staff']\n",
      "4.0 rating ['staff', 'quality', 'atmosphere', 'prices', 'excellent', 'amazing']\n",
      "3.0 rating ['though', 'menu', 'restaurant', 'bit', 'pretty', 'pizza']\n",
      "2.0 rating ['menu', 'chicken', 'pizza', 'make', 'ramen', 'salad']\n",
      "1.0 rating ['make', 'thing', 'restaurant', 'chicken', 'left', 'walked']\n",
      "\n",
      "Japanese\n",
      "5.0 rating ['fantastic', 'amazing', 'presentation', 'clean', 'attentive', 'outstanding']\n",
      "4.0 rating ['delicious', 'everything', 'though', 'prepared', 'clean', 'wasabi']\n",
      "3.0 rating ['thing', 'restaurant', 'pretty', 'flavor', 'though', 'small']\n",
      "2.0 rating ['around', 'quality', 'lunch', 'pretty', 'make', 'restaurant']\n",
      "1.0 rating ['waiter', 'around', 'walked', 'make', 'thing', '5']\n",
      "\n",
      "Breakfast & Brunch\n",
      "5.0 rating ['quick', 'prices', 'fast', 'staff', 'amazing', 'quality']\n",
      "4.0 rating ['excellent', 'fast', 'prices_reasonable', 'reasonable_prices', 'pretty', 'quick']\n",
      "3.0 rating ['pretty', 'atmosphere', 'overall', 'though', 'quality', 'average']\n",
      "2.0 rating ['pretty', 'thing', 'though', 'hot', 'staff', 'however']\n",
      "1.0 rating ['thing', 'pretty', 'around', 'staff', 'enough', 'restaurant']\n",
      "\n",
      "Barbeque\n",
      "5.0 rating ['menu', 'awesome', 'though', 'make', 'flavor', 'bbq']\n",
      "4.0 rating ['pretty', 'menu', 'bbq', 'restaurant', 'delicious', 'awesome']\n",
      "3.0 rating ['bbq', 'pulled_pork', 'ribs', 'menu', 'pretty', 'way']\n",
      "2.0 rating ['bbq', 'pulled_pork', 'menu', 'way', 'flavor', 'ribs']\n",
      "\n",
      "Italian\n",
      "5.0 rating ['fantastic', 'amazing', 'outstanding', 'ultra', 'deliciously', 'chicken_alfredo']\n",
      "4.0 rating ['linguine_clam_sauce', 'amazing', 'warm', 'fast_friendly', 'fantastic', 'comped']\n",
      "3.0 rating ['pretty', 'price', 'portions', 'quality', 'meals', 'italian_restaurant']\n",
      "2.0 rating ['restaurant', 'atmosphere', 'staff', 'friendly', 'though', 'best']\n",
      "1.0 rating ['thing', 'disappointed', 'staff', 'every', 'friends', 'family']\n",
      "\n",
      "Pubs\n",
      "5.0 rating ['awesome', 'excellent', 'amazing', 'beer_selection', 'staff', 'vibe']\n",
      "4.0 rating ['excellent', 'beer', 'decent', 'awesome', 'beer_selection', 'friendly_staff']\n",
      "3.0 rating ['menu', 'beer', 'seems', 'since', 'beer_selection', 'pretty']\n",
      "2.0 rating ['menu', 'pretty', 'make', 'probably', 'drinks', 'restaurant']\n",
      "1.0 rating ['early', 'ingredients', 'adding', 'especially', 'mean', 'start']\n",
      "\n"
     ]
    }
   ],
   "source": [
    "#See outputs for a specific word and category\n",
    "positive = ['tasty','food']\n",
    "negative = []\n",
    "category_list = ['Salad', 'Japanese', 'Breakfast & Brunch', 'Barbeque', 'Italian', 'Pubs']\n",
    "n_words = 6\n",
    "for cat in category_list:\n",
    "    print(cat)\n",
    "    for key in sorted(category_models[cat].keys(), reverse=True):\n",
    "        try:\n",
    "            print(key,\"rating\",[w[0] for w in category_models[cat][key].wv.most_similar(\n",
    "                positive=positive, negative=negative, topn=n_words)])\n",
    "        except:\n",
    "            pass\n",
    "    print(\"\")"
   ]
  },
  {
   "cell_type": "code",
   "execution_count": 48,
   "metadata": {
    "scrolled": false
   },
   "outputs": [
    {
     "data": {
      "text/plain": [
       "[('coming_soon', 0.969476580619812),\n",
       " ('thrown', 0.9689041376113892),\n",
       " ('corny', 0.968858003616333),\n",
       " ('connoisseur', 0.968674898147583),\n",
       " ('months_ago', 0.9685667753219604),\n",
       " ('friday_saturday_nights', 0.968563437461853),\n",
       " ('amid', 0.9685077667236328),\n",
       " ('gravy', 0.9683533906936646),\n",
       " ('wisdom', 0.9683493375778198),\n",
       " ('impression', 0.9682658910751343)]"
      ]
     },
     "execution_count": 48,
     "metadata": {},
     "output_type": "execute_result"
    }
   ],
   "source": [
    "category_models['Burgers'][5.0].wv.most_similar('buffalo_wing')"
   ]
  },
  {
   "cell_type": "code",
   "execution_count": null,
   "metadata": {},
   "outputs": [],
   "source": []
  },
  {
   "cell_type": "markdown",
   "metadata": {},
   "source": [
    "## Create Model based on Search Term"
   ]
  },
  {
   "cell_type": "code",
   "execution_count": 49,
   "metadata": {
    "scrolled": true
   },
   "outputs": [
    {
     "name": "stdout",
     "output_type": "stream",
     "text": [
      "Modeling italian\n",
      "6212 reviews, 5.0*(2609) 4.0*(1643) 3.0*(721) 2.0*(577) 1.0*(662) \n",
      "5.51 seconds\n"
     ]
    }
   ],
   "source": [
    "#CREATE MODEL BASED ON SEARCH TERM\n",
    "search_term = \"italian\"\n",
    "\n",
    "print(\"Modeling\", search_term)\n",
    "start = time.time()\n",
    "\n",
    "reviews = get_reviews_by_category(search_term)\n",
    "print(len(reviews), \"reviews,\", end=' ')\n",
    "ratings = sorted(reviews.star_rating.unique(),reverse=True)\n",
    "models = {}\n",
    "for rating in ratings:\n",
    "    selected_reviews = reviews.review_tokenized[reviews.star_rating==rating]\n",
    "    print(f\"{rating}*({len(selected_reviews)})\", end=' ')\n",
    "    models[rating] = gensim.models.Word2Vec(selected_reviews,size=100,window=5,min_count=1,workers=4)\n",
    "    models[rating].train(selected_reviews,total_examples=models[rating].corpus_count,epochs=10)\n",
    "end = time.time()\n",
    "print(\"\")\n",
    "print(round(end-start,2),\"seconds\")"
   ]
  },
  {
   "cell_type": "code",
   "execution_count": 50,
   "metadata": {},
   "outputs": [
    {
     "name": "stdout",
     "output_type": "stream",
     "text": [
      "5.0 rating ['red_sauce', 'garlic_bread', 'salads', 'lemon', 'marinara_sauce', 'abundant']\n",
      "4.0 rating ['eggplant', 'seafood', 'mushrooms', 'perfect', 'al_dente', 'chicken_parm']\n",
      "3.0 rating ['almost', 'tasted', 'special', 'plate', 'veal', 'served']\n",
      "2.0 rating ['hard', 'unfortunately', 'felt', 'half', 'bit', 'meat']\n",
      "1.0 rating ['shrimp', 'old', 'soggy', 'special', 'much', 'top']\n"
     ]
    }
   ],
   "source": [
    "#See outputs for a specific word and category\n",
    "positive = ['parm','meatballs','pasta','wine']\n",
    "#positive = ['burger']\n",
    "negative = []\n",
    "\n",
    "for key in sorted(models.keys(), reverse=True):\n",
    "    try:\n",
    "        print(key,\"rating\",[w[0] for w in models[key].wv.most_similar(\n",
    "            positive=positive, negative=negative, topn=n_words)])\n",
    "    except:\n",
    "        pass"
   ]
  },
  {
   "cell_type": "code",
   "execution_count": 51,
   "metadata": {},
   "outputs": [],
   "source": [
    "#import pickle\n",
    "#with open ('models.pickle','wb') as f:\n",
    "#    pickle.dump(category_models,f,pickle.HIGHEST_PROTOCOL)"
   ]
  },
  {
   "cell_type": "markdown",
   "metadata": {},
   "source": [
    "### TextBlob"
   ]
  },
  {
   "cell_type": "code",
   "execution_count": 52,
   "metadata": {},
   "outputs": [],
   "source": [
    "#!pip install -U textblob\n",
    "from textblob import TextBlob"
   ]
  },
  {
   "cell_type": "code",
   "execution_count": 53,
   "metadata": {},
   "outputs": [
    {
     "ename": "KeyError",
     "evalue": "0",
     "output_type": "error",
     "traceback": [
      "\u001b[0;31m---------------------------------------------------------------------------\u001b[0m",
      "\u001b[0;31mKeyError\u001b[0m                                  Traceback (most recent call last)",
      "\u001b[0;32m<ipython-input-53-e9c45b0f6314>\u001b[0m in \u001b[0;36m<module>\u001b[0;34m()\u001b[0m\n\u001b[0;32m----> 1\u001b[0;31m \u001b[0mtext\u001b[0m \u001b[0;34m=\u001b[0m \u001b[0mclean_text\u001b[0m\u001b[0;34m(\u001b[0m\u001b[0mreviews\u001b[0m\u001b[0;34m.\u001b[0m\u001b[0mreview\u001b[0m\u001b[0;34m[\u001b[0m\u001b[0;36m0\u001b[0m\u001b[0;34m]\u001b[0m\u001b[0;34m)\u001b[0m\u001b[0;34m\u001b[0m\u001b[0m\n\u001b[0m\u001b[1;32m      2\u001b[0m \u001b[0mTextBlob\u001b[0m\u001b[0;34m(\u001b[0m\u001b[0mtext\u001b[0m\u001b[0;34m)\u001b[0m\u001b[0;34m.\u001b[0m\u001b[0msentiment\u001b[0m\u001b[0;34m.\u001b[0m\u001b[0mpolarity\u001b[0m\u001b[0;34m\u001b[0m\u001b[0m\n",
      "\u001b[0;32m~/anaconda3/envs/learn-env/lib/python3.6/site-packages/pandas/core/series.py\u001b[0m in \u001b[0;36m__getitem__\u001b[0;34m(self, key)\u001b[0m\n\u001b[1;32m    765\u001b[0m         \u001b[0mkey\u001b[0m \u001b[0;34m=\u001b[0m \u001b[0mcom\u001b[0m\u001b[0;34m.\u001b[0m\u001b[0m_apply_if_callable\u001b[0m\u001b[0;34m(\u001b[0m\u001b[0mkey\u001b[0m\u001b[0;34m,\u001b[0m \u001b[0mself\u001b[0m\u001b[0;34m)\u001b[0m\u001b[0;34m\u001b[0m\u001b[0m\n\u001b[1;32m    766\u001b[0m         \u001b[0;32mtry\u001b[0m\u001b[0;34m:\u001b[0m\u001b[0;34m\u001b[0m\u001b[0m\n\u001b[0;32m--> 767\u001b[0;31m             \u001b[0mresult\u001b[0m \u001b[0;34m=\u001b[0m \u001b[0mself\u001b[0m\u001b[0;34m.\u001b[0m\u001b[0mindex\u001b[0m\u001b[0;34m.\u001b[0m\u001b[0mget_value\u001b[0m\u001b[0;34m(\u001b[0m\u001b[0mself\u001b[0m\u001b[0;34m,\u001b[0m \u001b[0mkey\u001b[0m\u001b[0;34m)\u001b[0m\u001b[0;34m\u001b[0m\u001b[0m\n\u001b[0m\u001b[1;32m    768\u001b[0m \u001b[0;34m\u001b[0m\u001b[0m\n\u001b[1;32m    769\u001b[0m             \u001b[0;32mif\u001b[0m \u001b[0;32mnot\u001b[0m \u001b[0mis_scalar\u001b[0m\u001b[0;34m(\u001b[0m\u001b[0mresult\u001b[0m\u001b[0;34m)\u001b[0m\u001b[0;34m:\u001b[0m\u001b[0;34m\u001b[0m\u001b[0m\n",
      "\u001b[0;32m~/anaconda3/envs/learn-env/lib/python3.6/site-packages/pandas/core/indexes/base.py\u001b[0m in \u001b[0;36mget_value\u001b[0;34m(self, series, key)\u001b[0m\n\u001b[1;32m   3116\u001b[0m         \u001b[0;32mtry\u001b[0m\u001b[0;34m:\u001b[0m\u001b[0;34m\u001b[0m\u001b[0m\n\u001b[1;32m   3117\u001b[0m             return self._engine.get_value(s, k,\n\u001b[0;32m-> 3118\u001b[0;31m                                           tz=getattr(series.dtype, 'tz', None))\n\u001b[0m\u001b[1;32m   3119\u001b[0m         \u001b[0;32mexcept\u001b[0m \u001b[0mKeyError\u001b[0m \u001b[0;32mas\u001b[0m \u001b[0me1\u001b[0m\u001b[0;34m:\u001b[0m\u001b[0;34m\u001b[0m\u001b[0m\n\u001b[1;32m   3120\u001b[0m             \u001b[0;32mif\u001b[0m \u001b[0mlen\u001b[0m\u001b[0;34m(\u001b[0m\u001b[0mself\u001b[0m\u001b[0;34m)\u001b[0m \u001b[0;34m>\u001b[0m \u001b[0;36m0\u001b[0m \u001b[0;32mand\u001b[0m \u001b[0mself\u001b[0m\u001b[0;34m.\u001b[0m\u001b[0minferred_type\u001b[0m \u001b[0;32min\u001b[0m \u001b[0;34m[\u001b[0m\u001b[0;34m'integer'\u001b[0m\u001b[0;34m,\u001b[0m \u001b[0;34m'boolean'\u001b[0m\u001b[0;34m]\u001b[0m\u001b[0;34m:\u001b[0m\u001b[0;34m\u001b[0m\u001b[0m\n",
      "\u001b[0;32mpandas/_libs/index.pyx\u001b[0m in \u001b[0;36mpandas._libs.index.IndexEngine.get_value\u001b[0;34m()\u001b[0m\n",
      "\u001b[0;32mpandas/_libs/index.pyx\u001b[0m in \u001b[0;36mpandas._libs.index.IndexEngine.get_value\u001b[0;34m()\u001b[0m\n",
      "\u001b[0;32mpandas/_libs/index.pyx\u001b[0m in \u001b[0;36mpandas._libs.index.IndexEngine.get_loc\u001b[0;34m()\u001b[0m\n",
      "\u001b[0;32mpandas/_libs/hashtable_class_helper.pxi\u001b[0m in \u001b[0;36mpandas._libs.hashtable.Int64HashTable.get_item\u001b[0;34m()\u001b[0m\n",
      "\u001b[0;32mpandas/_libs/hashtable_class_helper.pxi\u001b[0m in \u001b[0;36mpandas._libs.hashtable.Int64HashTable.get_item\u001b[0;34m()\u001b[0m\n",
      "\u001b[0;31mKeyError\u001b[0m: 0"
     ]
    }
   ],
   "source": [
    "text = clean_text(reviews.review[0])\n",
    "TextBlob(text).sentiment.polarity"
   ]
  },
  {
   "cell_type": "code",
   "execution_count": null,
   "metadata": {},
   "outputs": [],
   "source": [
    "print(\"Assigning Polarity: \", end='')\n",
    "start = time.time()\n",
    "\n",
    "reviews_df['polarity'] = reviews_df.review.map(clean_text).map(lambda text: TextBlob(text).sentiment.polarity)\n",
    "\n",
    "end = time.time()\n",
    "print(round(end-start,2),\"seconds\")"
   ]
  },
  {
   "cell_type": "code",
   "execution_count": null,
   "metadata": {
    "scrolled": false
   },
   "outputs": [],
   "source": [
    "import seaborn as sns\n",
    "\n",
    "search_term = 'american'\n",
    "reviews = get_reviews_by_category(search_term)\n",
    "\n",
    "ratings = sorted(reviews.star_rating.unique(),reverse=True)\n",
    "plt.figure(figsize=(20,8))\n",
    "for rating in ratings:\n",
    "    sns.distplot(reviews.polarity[reviews.star_rating==rating], kde=True, label=rating)\n",
    "plt.legend()\n",
    "plt.xlim((-0.75,1))\n",
    "plt.xlabel('Sentiment Polarity');\n",
    "plt.title('Distribution of Review Sentiment by Star Rating');"
   ]
  },
  {
   "cell_type": "code",
   "execution_count": null,
   "metadata": {},
   "outputs": [],
   "source": []
  },
  {
   "cell_type": "code",
   "execution_count": null,
   "metadata": {},
   "outputs": [],
   "source": [
    "business_query = 'caffe italia'\n",
    "biz_id = get_businesses_by_name(business_query)['biz_id'].values\n",
    "biz_id"
   ]
  },
  {
   "cell_type": "code",
   "execution_count": null,
   "metadata": {},
   "outputs": [],
   "source": [
    "selected_reviews = get_reviews_for_businesses(biz_id)"
   ]
  },
  {
   "cell_type": "code",
   "execution_count": null,
   "metadata": {},
   "outputs": [],
   "source": [
    "window = 180 #90 days\n",
    "\n",
    "current_date = selected_reviews.date.min()\n",
    "end_date = selected_reviews.date.max()\n",
    "\n",
    "dates = []\n",
    "polarity_average = []\n",
    "\n",
    "window_start = current_date - pd.Timedelta(int(window/2),unit='D')\n",
    "window_end = current_date + pd.Timedelta(int(window/2),unit='D')\n",
    "\n",
    "time_delta = pd.Timedelta(30,unit='D') #How often to calculate average\n",
    "\n",
    "while current_date < end_date:\n",
    "    polarity_average.append(\n",
    "        selected_reviews.polarity[\n",
    "            (selected_reviews.date<window_end) & (selected_reviews.date>window_start)\n",
    "        ].mean() )\n",
    "    dates.append(current_date)\n",
    "    window_start += time_delta\n",
    "    window_end   += time_delta\n",
    "    current_date += time_delta"
   ]
  },
  {
   "cell_type": "code",
   "execution_count": null,
   "metadata": {
    "scrolled": false
   },
   "outputs": [],
   "source": [
    "plt.figure(figsize=(20,8))\n",
    "sns.lineplot(x='date',y='polarity',data=selected_reviews,alpha=0.5)\n",
    "sns.lineplot(x=dates,y=polarity_average,label='moving average')\n",
    "plt.title(biz_id);"
   ]
  },
  {
   "cell_type": "code",
   "execution_count": null,
   "metadata": {},
   "outputs": [],
   "source": []
  },
  {
   "cell_type": "code",
   "execution_count": null,
   "metadata": {},
   "outputs": [],
   "source": []
  },
  {
   "cell_type": "code",
   "execution_count": null,
   "metadata": {},
   "outputs": [],
   "source": []
  },
  {
   "cell_type": "markdown",
   "metadata": {},
   "source": [
    "### Compare Cuisine Types"
   ]
  },
  {
   "cell_type": "code",
   "execution_count": null,
   "metadata": {},
   "outputs": [],
   "source": [
    "cuisine_types = ['mexican', 'vietnamese', 'italian']"
   ]
  },
  {
   "cell_type": "code",
   "execution_count": null,
   "metadata": {},
   "outputs": [],
   "source": [
    "plt.figure(figsize=(20,8))\n",
    "for cuisine in cuisine_types:\n",
    "    sns.distplot(get_reviews_by_category(cuisine).polarity, kde=True, label=cuisine)\n",
    "plt.legend()\n",
    "#plt.xlim((-0.75,1))\n",
    "plt.xlabel('Sentiment Polarity');\n",
    "plt.title('Distribution of Review Sentiment by Cuisine Types');"
   ]
  },
  {
   "cell_type": "code",
   "execution_count": null,
   "metadata": {},
   "outputs": [],
   "source": []
  },
  {
   "cell_type": "markdown",
   "metadata": {},
   "source": [
    "### Users who post pics"
   ]
  },
  {
   "cell_type": "code",
   "execution_count": null,
   "metadata": {},
   "outputs": [],
   "source": [
    "reviews_df.pic_count.unique()"
   ]
  },
  {
   "cell_type": "code",
   "execution_count": null,
   "metadata": {},
   "outputs": [],
   "source": [
    "plt.figure(figsize=(20,8))\n",
    "for pic_count in sorted(reviews_df.pic_count.unique()):\n",
    "    sns.distplot(reviews_df.polarity[reviews_df.pic_count==pic_count],kde=True, label=pic_count)\n",
    "plt.legend()\n",
    "#plt.xlim((-0.75,1))\n",
    "plt.xlabel('Sentiment Polarity');\n",
    "plt.title('Distribution of Review Sentiment by Pic Count');"
   ]
  },
  {
   "cell_type": "markdown",
   "metadata": {},
   "source": [
    "Length of reviews by pic count"
   ]
  },
  {
   "cell_type": "code",
   "execution_count": null,
   "metadata": {
    "scrolled": false
   },
   "outputs": [],
   "source": [
    "plt.figure(figsize=(20,8))\n",
    "sns.boxplot(reviews_df.pic_count, reviews_df.review.map(len))\n",
    "plt.xlabel('Num Pics Posted to Review');\n",
    "plt.ylabel('Review Length')\n",
    "plt.title('Distribution of Review Length by Pic Count');"
   ]
  },
  {
   "cell_type": "markdown",
   "metadata": {},
   "source": [
    "Length of reviews by star rating"
   ]
  },
  {
   "cell_type": "code",
   "execution_count": null,
   "metadata": {},
   "outputs": [],
   "source": [
    "plt.figure(figsize=(20,8))\n",
    "sns.boxplot(reviews_df.star_rating, reviews_df.review.map(len))\n",
    "plt.xlabel('Star Rating');\n",
    "plt.ylabel('Review Length')\n",
    "plt.title('Distribution of Review Length by Pic Count');"
   ]
  },
  {
   "cell_type": "code",
   "execution_count": null,
   "metadata": {},
   "outputs": [],
   "source": []
  },
  {
   "cell_type": "code",
   "execution_count": null,
   "metadata": {},
   "outputs": [],
   "source": []
  },
  {
   "cell_type": "code",
   "execution_count": null,
   "metadata": {},
   "outputs": [],
   "source": []
  },
  {
   "cell_type": "markdown",
   "metadata": {},
   "source": [
    "IDF on selected reviews after cleaning and stopping?"
   ]
  },
  {
   "cell_type": "code",
   "execution_count": null,
   "metadata": {},
   "outputs": [],
   "source": []
  }
 ],
 "metadata": {
  "kernelspec": {
   "display_name": "Python [conda env:learn-env] *",
   "language": "python",
   "name": "conda-env-learn-env-py"
  },
  "language_info": {
   "codemirror_mode": {
    "name": "ipython",
    "version": 3
   },
   "file_extension": ".py",
   "mimetype": "text/x-python",
   "name": "python",
   "nbconvert_exporter": "python",
   "pygments_lexer": "ipython3",
   "version": "3.6.6"
  }
 },
 "nbformat": 4,
 "nbformat_minor": 2
}
