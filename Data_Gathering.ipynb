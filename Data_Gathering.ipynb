{
 "cells": [
  {
   "cell_type": "code",
   "execution_count": null,
   "metadata": {},
   "outputs": [],
   "source": []
  },
  {
   "cell_type": "code",
   "execution_count": null,
   "metadata": {},
   "outputs": [],
   "source": []
  },
  {
   "cell_type": "code",
   "execution_count": null,
   "metadata": {},
   "outputs": [],
   "source": []
  },
  {
   "cell_type": "code",
   "execution_count": null,
   "metadata": {},
   "outputs": [],
   "source": []
  },
  {
   "cell_type": "code",
   "execution_count": 1,
   "metadata": {},
   "outputs": [],
   "source": [
    "import pandas as pd\n",
    "import json\n",
    "import requests\n",
    "import re\n",
    "from bs4 import BeautifulSoup"
   ]
  },
  {
   "cell_type": "markdown",
   "metadata": {},
   "source": [
    "## Search city and food type\n",
    "Get a list of businesses and their info:\n",
    "- Name\n",
    "- Address\n",
    "- Star Rating\n",
    "- Price Range\n",
    "- Number of Reviews\n",
    "- URL for business Yelp review page\n",
    "- URL for image used as business icon"
   ]
  },
  {
   "cell_type": "code",
   "execution_count": 344,
   "metadata": {},
   "outputs": [],
   "source": [
    "#ENTER SEARCH TERMS BELOW:\n",
    "cuisine_type = \"Gastropubs\"\n",
    "location = \"Albany, NY\"\n",
    "\n",
    "#Generate URL based on search terms\n",
    "base_url = \"https://www.yelp.com\"\n",
    "search_url = f\"{base_url}/search?find_desc={cuisine_type}&find_loc={location}\""
   ]
  },
  {
   "cell_type": "code",
   "execution_count": 345,
   "metadata": {},
   "outputs": [],
   "source": [
    "#Search Term: beer\n",
    "#Filters: Breweries, Pubs, Beergardens, Gastropubs, Brewpubs, Beerbar\n",
    "search_url = \"https://www.yelp.com/search?find_desc=beer&find_loc=Albany%2C%20NY&cflt=breweries%2Cpubs%2Cbeergardens%2Cgastropubs%2Cbrewpubs%2Cbeerbar\""
   ]
  },
  {
   "cell_type": "code",
   "execution_count": 261,
   "metadata": {},
   "outputs": [],
   "source": [
    "#request = requests.get(search_url)\n",
    "#soup = BeautifulSoup(request.content,'html.parser')"
   ]
  },
  {
   "cell_type": "code",
   "execution_count": 346,
   "metadata": {},
   "outputs": [],
   "source": [
    "star_container_class = \"lemon--div__373c0__1mboc attribute__373c0__1hPI_ display--inline-block__373c0__2de_K u-space-r1 border-color--default__373c0__2oFDT\"\n",
    "price_range_class = \"lemon--span__373c0__3997G text__373c0__2pB8f priceRange__373c0__2DY87 text-color--normal__373c0__K_MKN text-align--left__373c0__2pnx_ text-bullet--after__373c0__1ZHaA\"\n",
    "review_count_class = \"lemon--span__373c0__3997G text__373c0__2pB8f reviewCount__373c0__2r4xT text-color--mid__373c0__3G312 text-align--left__373c0__2pnx_\"\n",
    "next_page_class = \"lemon--a__373c0__IEZFH link__373c0__29943 next-link navigation-button__373c0__1D3Ug link-color--blue-dark__373c0__1mhJo link-size--default__373c0__1skgq\"\n",
    "search_result_class = \"lemon--div__373c0__1mboc searchResult__373c0__1yggB border-color--default__373c0__2oFDT\""
   ]
  },
  {
   "cell_type": "code",
   "execution_count": 349,
   "metadata": {},
   "outputs": [
    {
     "name": "stdout",
     "output_type": "stream",
     "text": [
      "Page 1, 30 results\n",
      "Page 2, 30 results\n",
      "Page 3, 30 results\n",
      "Page 4, 1 results\n"
     ]
    },
    {
     "data": {
      "text/plain": [
       "91"
      ]
     },
     "execution_count": 349,
     "metadata": {},
     "output_type": "execute_result"
    }
   ],
   "source": [
    "next_page_url = search_url\n",
    "page_counter = 1\n",
    "business_list = []\n",
    "\n",
    "while next_page_url:\n",
    "    request = requests.get(next_page_url)\n",
    "    soup = BeautifulSoup(request.content,'html.parser')\n",
    "    search_results = soup.findAll(class_=search_result_class)\n",
    "    print(f\"Page {page_counter}, {len(search_results)-1} results\")\n",
    "    result_counter = 1\n",
    "    for search_result in search_results:\n",
    "        business_info = {}\n",
    "        try:\n",
    "            business_name_url = search_result.findAll('a', href=True)[1]\n",
    "            business_info['url'] = f\"https://www.yelp.com{business_name_url['href']}\"\n",
    "            business_info['name'] = business_name_url['name']\n",
    "            business_info['biz_id'] = business_name_url['href'].split('/biz/')[1].split('?')[0]\n",
    "        except:\n",
    "            continue\n",
    "            \n",
    "        try:\n",
    "            business_info['address'] = search_result.find('address').text\n",
    "        except:\n",
    "            pass\n",
    "        try:\n",
    "            business_info['category'] = [category.text for category in search_result.findAll(\"a\",attrs={\"role\":\"link\"})]\n",
    "        except:\n",
    "            pass\n",
    "        try:\n",
    "            business_info['star_rating'] = float(re.findall(r\"[-+]?\\d*\\.\\d+|\\d+\", \n",
    "                                                      search_result.find(\n",
    "                                                          class_=star_container_class).find('div')['aria-label'] )[0] )\n",
    "        except:\n",
    "            pass\n",
    "        try:\n",
    "            business_info['price_range'] = search_result.find(class_=price_range_class).text\n",
    "        except:\n",
    "            pass\n",
    "        try:\n",
    "            business_info['num_reviews'] = int(re.findall(r\"[-+]?\\d*\\.\\d+|\\d+\",\n",
    "                                                      search_result.find(\n",
    "                                                          class_=review_count_class).text )[0] )\n",
    "        except:\n",
    "            pass\n",
    "        try:\n",
    "            business_info['image_shown'] = search_result.find('img')['src']\n",
    "        except:\n",
    "            pass\n",
    "            \n",
    "        if business_info:\n",
    "            business_list.append(business_info)\n",
    "            \n",
    "        result_counter+=1\n",
    "            \n",
    "    if soup.find(class_=next_page_class):\n",
    "        next_page_url = base_url + soup.find(class_=next_page_class)['href']\n",
    "        page_counter+=1\n",
    "    else:\n",
    "        break\n",
    "\n",
    "len(business_list)"
   ]
  },
  {
   "cell_type": "code",
   "execution_count": 350,
   "metadata": {
    "scrolled": false
   },
   "outputs": [
    {
     "name": "stdout",
     "output_type": "stream",
     "text": [
      "89\n"
     ]
    },
    {
     "data": {
      "text/html": [
       "<div>\n",
       "<style scoped>\n",
       "    .dataframe tbody tr th:only-of-type {\n",
       "        vertical-align: middle;\n",
       "    }\n",
       "\n",
       "    .dataframe tbody tr th {\n",
       "        vertical-align: top;\n",
       "    }\n",
       "\n",
       "    .dataframe thead th {\n",
       "        text-align: right;\n",
       "    }\n",
       "</style>\n",
       "<table border=\"1\" class=\"dataframe\">\n",
       "  <thead>\n",
       "    <tr style=\"text-align: right;\">\n",
       "      <th></th>\n",
       "      <th>address</th>\n",
       "      <th>biz_id</th>\n",
       "      <th>category</th>\n",
       "      <th>image_shown</th>\n",
       "      <th>name</th>\n",
       "      <th>num_reviews</th>\n",
       "      <th>price_range</th>\n",
       "      <th>star_rating</th>\n",
       "      <th>url</th>\n",
       "    </tr>\n",
       "  </thead>\n",
       "  <tbody>\n",
       "    <tr>\n",
       "      <th>0</th>\n",
       "      <td>281 New Scotland Ave</td>\n",
       "      <td>the-albany-ale-and-oyster-albany</td>\n",
       "      <td>[American (Traditional), Beer Bar]</td>\n",
       "      <td>https://s3-media3.fl.yelpcdn.com/bphoto/H-GObC...</td>\n",
       "      <td>The Albany Ale &amp; Oyster</td>\n",
       "      <td>240.0</td>\n",
       "      <td>$$</td>\n",
       "      <td>4.5</td>\n",
       "      <td>https://www.yelp.com/biz/the-albany-ale-and-oy...</td>\n",
       "    </tr>\n",
       "    <tr>\n",
       "      <th>1</th>\n",
       "      <td>42 Howard St</td>\n",
       "      <td>the-city-beer-hall-albany</td>\n",
       "      <td>[Bars, American (Traditional), Gastropubs]</td>\n",
       "      <td>https://s3-media2.fl.yelpcdn.com/bphoto/rBAD9u...</td>\n",
       "      <td>The City Beer Hall</td>\n",
       "      <td>489.0</td>\n",
       "      <td>$$</td>\n",
       "      <td>4.0</td>\n",
       "      <td>https://www.yelp.com/biz/the-city-beer-hall-al...</td>\n",
       "    </tr>\n",
       "    <tr>\n",
       "      <th>2</th>\n",
       "      <td>292 Delaware Ave</td>\n",
       "      <td>delaware-supply-albany</td>\n",
       "      <td>[Beer Bar]</td>\n",
       "      <td>https://s3-media1.fl.yelpcdn.com/bphoto/vNnnpz...</td>\n",
       "      <td>Delaware Supply</td>\n",
       "      <td>24.0</td>\n",
       "      <td>$$</td>\n",
       "      <td>5.0</td>\n",
       "      <td>https://www.yelp.com/biz/delaware-supply-alban...</td>\n",
       "    </tr>\n",
       "    <tr>\n",
       "      <th>3</th>\n",
       "      <td>1053 Broadway</td>\n",
       "      <td>druthers-brewing-company-albany</td>\n",
       "      <td>[Burgers, Brewpubs]</td>\n",
       "      <td>https://s3-media4.fl.yelpcdn.com/bphoto/wTLrpT...</td>\n",
       "      <td>Druthers Brewing Company</td>\n",
       "      <td>374.0</td>\n",
       "      <td>$$</td>\n",
       "      <td>4.0</td>\n",
       "      <td>https://www.yelp.com/biz/druthers-brewing-comp...</td>\n",
       "    </tr>\n",
       "    <tr>\n",
       "      <th>4</th>\n",
       "      <td>1100 Madison Ave</td>\n",
       "      <td>madison-pour-house-albany</td>\n",
       "      <td>[American (New), Pubs]</td>\n",
       "      <td>https://s3-media3.fl.yelpcdn.com/bphoto/_q42sc...</td>\n",
       "      <td>Madison Pour House</td>\n",
       "      <td>125.0</td>\n",
       "      <td>$$</td>\n",
       "      <td>4.5</td>\n",
       "      <td>https://www.yelp.com/biz/madison-pour-house-al...</td>\n",
       "    </tr>\n",
       "  </tbody>\n",
       "</table>\n",
       "</div>"
      ],
      "text/plain": [
       "                address                            biz_id  \\\n",
       "0  281 New Scotland Ave  the-albany-ale-and-oyster-albany   \n",
       "1          42 Howard St         the-city-beer-hall-albany   \n",
       "2      292 Delaware Ave            delaware-supply-albany   \n",
       "3         1053 Broadway   druthers-brewing-company-albany   \n",
       "4      1100 Madison Ave         madison-pour-house-albany   \n",
       "\n",
       "                                     category  \\\n",
       "0          [American (Traditional), Beer Bar]   \n",
       "1  [Bars, American (Traditional), Gastropubs]   \n",
       "2                                  [Beer Bar]   \n",
       "3                         [Burgers, Brewpubs]   \n",
       "4                      [American (New), Pubs]   \n",
       "\n",
       "                                         image_shown  \\\n",
       "0  https://s3-media3.fl.yelpcdn.com/bphoto/H-GObC...   \n",
       "1  https://s3-media2.fl.yelpcdn.com/bphoto/rBAD9u...   \n",
       "2  https://s3-media1.fl.yelpcdn.com/bphoto/vNnnpz...   \n",
       "3  https://s3-media4.fl.yelpcdn.com/bphoto/wTLrpT...   \n",
       "4  https://s3-media3.fl.yelpcdn.com/bphoto/_q42sc...   \n",
       "\n",
       "                       name  num_reviews price_range  star_rating  \\\n",
       "0   The Albany Ale & Oyster        240.0          $$          4.5   \n",
       "1        The City Beer Hall        489.0          $$          4.0   \n",
       "2           Delaware Supply         24.0          $$          5.0   \n",
       "3  Druthers Brewing Company        374.0          $$          4.0   \n",
       "4        Madison Pour House        125.0          $$          4.5   \n",
       "\n",
       "                                                 url  \n",
       "0  https://www.yelp.com/biz/the-albany-ale-and-oy...  \n",
       "1  https://www.yelp.com/biz/the-city-beer-hall-al...  \n",
       "2  https://www.yelp.com/biz/delaware-supply-alban...  \n",
       "3  https://www.yelp.com/biz/druthers-brewing-comp...  \n",
       "4  https://www.yelp.com/biz/madison-pour-house-al...  "
      ]
     },
     "execution_count": 350,
     "metadata": {},
     "output_type": "execute_result"
    }
   ],
   "source": [
    "business_info_df = pd.DataFrame(business_list)\n",
    "business_info_df.dropna(subset=['num_reviews'], inplace=True)\n",
    "print(len(business_info_df))\n",
    "business_info_df.head()"
   ]
  },
  {
   "cell_type": "code",
   "execution_count": 351,
   "metadata": {},
   "outputs": [],
   "source": [
    "import matplotlib.pyplot as plt"
   ]
  },
  {
   "cell_type": "code",
   "execution_count": 352,
   "metadata": {},
   "outputs": [
    {
     "data": {
      "image/png": "[encoded data removed]",
      "text/plain": [
       "<Figure size 720x720 with 1 Axes>"
      ]
     },
     "metadata": {
      "needs_background": "light"
     },
     "output_type": "display_data"
    }
   ],
   "source": [
    "plt.figure(figsize=(10, 10))\n",
    "plt.bar(business_info_df.star_rating.value_counts().index, business_info_df.star_rating.value_counts().values)\n",
    "plt.show()"
   ]
  },
  {
   "cell_type": "code",
   "execution_count": 28,
   "metadata": {},
   "outputs": [],
   "source": [
    "# generate document vectors or word vectors (embeddings)\n",
    "\n",
    "# you'll need a word embeddings on all the data for modeling\n",
    "\n",
    "# then make word embeddings for each star category\n",
    "\n",
    "# tese embeddings should be used to compare 'word' similarities \n",
    "\n",
    "# pass a word like 'beer' or 'fish and chips' or 'fish' or 'burger' and look at 'most_similar' or pass in ['good', 'burger']\n",
    "\n",
    "\n",
    "\n",
    "# make tfidf for each star rating and compare 'important' words across those ratings\n",
    "# then compare stop words\n",
    "\n",
    "\n",
    "# Question: How can we leverage yelp data to give us insights on our business? "
   ]
  },
  {
   "cell_type": "code",
   "execution_count": 117,
   "metadata": {},
   "outputs": [
    {
     "data": {
      "text/plain": [
       "6583"
      ]
     },
     "execution_count": 117,
     "metadata": {},
     "output_type": "execute_result"
    }
   ],
   "source": [
    "business_info_df.num_reviews.astype(int).sum()"
   ]
  },
  {
   "cell_type": "code",
   "execution_count": 118,
   "metadata": {},
   "outputs": [],
   "source": [
    "search_query_list = ['gastropub']*business_info_df.shape[0]"
   ]
  },
  {
   "cell_type": "code",
   "execution_count": 123,
   "metadata": {
    "scrolled": false
   },
   "outputs": [
    {
     "data": {
      "text/html": [
       "<div>\n",
       "<style scoped>\n",
       "    .dataframe tbody tr th:only-of-type {\n",
       "        vertical-align: middle;\n",
       "    }\n",
       "\n",
       "    .dataframe tbody tr th {\n",
       "        vertical-align: top;\n",
       "    }\n",
       "\n",
       "    .dataframe thead th {\n",
       "        text-align: right;\n",
       "    }\n",
       "</style>\n",
       "<table border=\"1\" class=\"dataframe\">\n",
       "  <thead>\n",
       "    <tr style=\"text-align: right;\">\n",
       "      <th></th>\n",
       "      <th>address</th>\n",
       "      <th>category</th>\n",
       "      <th>image_shown</th>\n",
       "      <th>name</th>\n",
       "      <th>num_reviews</th>\n",
       "      <th>price_range</th>\n",
       "      <th>star_rating</th>\n",
       "      <th>url</th>\n",
       "      <th>search_query</th>\n",
       "    </tr>\n",
       "  </thead>\n",
       "  <tbody>\n",
       "    <tr>\n",
       "      <th>1</th>\n",
       "      <td>281 New Scotland Ave</td>\n",
       "      <td>[American (Traditional), Beer Bar]</td>\n",
       "      <td>https://s3-media3.fl.yelpcdn.com/bphoto/H-GObC...</td>\n",
       "      <td>The Albany Ale &amp; Oyster</td>\n",
       "      <td>240.0</td>\n",
       "      <td>$$</td>\n",
       "      <td>4.5</td>\n",
       "      <td>https://www.yelp.com/biz/the-albany-ale-and-oy...</td>\n",
       "      <td>gastropub</td>\n",
       "    </tr>\n",
       "    <tr>\n",
       "      <th>2</th>\n",
       "      <td>42 Howard St</td>\n",
       "      <td>[Bars, American (Traditional), Gastropubs]</td>\n",
       "      <td>https://s3-media2.fl.yelpcdn.com/bphoto/rBAD9u...</td>\n",
       "      <td>The City Beer Hall</td>\n",
       "      <td>489.0</td>\n",
       "      <td>$$</td>\n",
       "      <td>4.0</td>\n",
       "      <td>https://www.yelp.com/biz/the-city-beer-hall-al...</td>\n",
       "      <td>gastropub</td>\n",
       "    </tr>\n",
       "    <tr>\n",
       "      <th>3</th>\n",
       "      <td>292 Delaware Ave</td>\n",
       "      <td>[Beer Bar]</td>\n",
       "      <td>https://s3-media1.fl.yelpcdn.com/bphoto/vNnnpz...</td>\n",
       "      <td>Delaware Supply</td>\n",
       "      <td>24.0</td>\n",
       "      <td>$$</td>\n",
       "      <td>5.0</td>\n",
       "      <td>https://www.yelp.com/biz/delaware-supply-alban...</td>\n",
       "      <td>gastropub</td>\n",
       "    </tr>\n",
       "    <tr>\n",
       "      <th>4</th>\n",
       "      <td>1100 Madison Ave</td>\n",
       "      <td>[American (New), Pubs]</td>\n",
       "      <td>https://s3-media3.fl.yelpcdn.com/bphoto/_q42sc...</td>\n",
       "      <td>Madison Pour House</td>\n",
       "      <td>125.0</td>\n",
       "      <td>$$</td>\n",
       "      <td>4.5</td>\n",
       "      <td>https://www.yelp.com/biz/madison-pour-house-al...</td>\n",
       "      <td>gastropub</td>\n",
       "    </tr>\n",
       "    <tr>\n",
       "      <th>5</th>\n",
       "      <td>1053 Broadway</td>\n",
       "      <td>[Burgers, Brewpubs]</td>\n",
       "      <td>https://s3-media4.fl.yelpcdn.com/bphoto/wTLrpT...</td>\n",
       "      <td>Druthers Brewing Company</td>\n",
       "      <td>374.0</td>\n",
       "      <td>$$</td>\n",
       "      <td>4.0</td>\n",
       "      <td>https://www.yelp.com/biz/druthers-brewing-comp...</td>\n",
       "      <td>gastropub</td>\n",
       "    </tr>\n",
       "  </tbody>\n",
       "</table>\n",
       "</div>"
      ],
      "text/plain": [
       "                address                                    category  \\\n",
       "1  281 New Scotland Ave          [American (Traditional), Beer Bar]   \n",
       "2          42 Howard St  [Bars, American (Traditional), Gastropubs]   \n",
       "3      292 Delaware Ave                                  [Beer Bar]   \n",
       "4      1100 Madison Ave                      [American (New), Pubs]   \n",
       "5         1053 Broadway                         [Burgers, Brewpubs]   \n",
       "\n",
       "                                         image_shown  \\\n",
       "1  https://s3-media3.fl.yelpcdn.com/bphoto/H-GObC...   \n",
       "2  https://s3-media2.fl.yelpcdn.com/bphoto/rBAD9u...   \n",
       "3  https://s3-media1.fl.yelpcdn.com/bphoto/vNnnpz...   \n",
       "4  https://s3-media3.fl.yelpcdn.com/bphoto/_q42sc...   \n",
       "5  https://s3-media4.fl.yelpcdn.com/bphoto/wTLrpT...   \n",
       "\n",
       "                       name  num_reviews price_range  star_rating  \\\n",
       "1   The Albany Ale & Oyster        240.0          $$          4.5   \n",
       "2        The City Beer Hall        489.0          $$          4.0   \n",
       "3           Delaware Supply         24.0          $$          5.0   \n",
       "4        Madison Pour House        125.0          $$          4.5   \n",
       "5  Druthers Brewing Company        374.0          $$          4.0   \n",
       "\n",
       "                                                 url search_query  \n",
       "1  https://www.yelp.com/biz/the-albany-ale-and-oy...    gastropub  \n",
       "2  https://www.yelp.com/biz/the-city-beer-hall-al...    gastropub  \n",
       "3  https://www.yelp.com/biz/delaware-supply-alban...    gastropub  \n",
       "4  https://www.yelp.com/biz/madison-pour-house-al...    gastropub  \n",
       "5  https://www.yelp.com/biz/druthers-brewing-comp...    gastropub  "
      ]
     },
     "execution_count": 123,
     "metadata": {},
     "output_type": "execute_result"
    }
   ],
   "source": [
    "business_info_df['search_query'] = search_query_list\n",
    "\n",
    "business_info_df.head()"
   ]
  },
  {
   "cell_type": "markdown",
   "metadata": {},
   "source": [
    "## Get reviews for an individual business"
   ]
  },
  {
   "cell_type": "code",
   "execution_count": 353,
   "metadata": {},
   "outputs": [],
   "source": [
    "def get_reviews(business_name, business_index, yelp_business_url, verbose=False):\n",
    "    #THIS BLOCK OF CODE GATHERS ALL OF THE REVIEWS FOR A PARTICULAR BUSINESS\n",
    "    \n",
    "    #Class names used in Yelp Review pages.\n",
    "    #There are two flavors of page design that yelp uses\n",
    "    search_result_class_v1 = \"lemon--li__373c0__1r9wz u-space-b3 u-padding-b3 border--bottom__373c0__uPbXS border-color--default__373c0__2oFDT\"\n",
    "    search_result_class_v2 = \"review review--with-sidebar\"\n",
    "    \n",
    "    #Set starting page (first page of reviews)\n",
    "    next_page_url = yelp_business_url\n",
    "\n",
    "    reviews_list = []\n",
    "    page_counter=1\n",
    "\n",
    "    #Continue to loop through review pages until there is no longer a \"next\" link at the bottom.\n",
    "    while next_page_url:\n",
    "        if verbose:\n",
    "            #Print the page url being parsed\n",
    "            print(f\"Page {page_counter}, {next_page_url}\")\n",
    "\n",
    "        #Request html for page and load into BeautifulSoup object.\n",
    "        request = requests.get(next_page_url)\n",
    "        soup = BeautifulSoup(request.content,'html.parser')\n",
    "        \n",
    "        if len(soup.findAll(class_=search_result_class_v1))!=0:\n",
    "            reviews_list.extend(get_reviews_page_v1(soup,business_name,business_index,verbose))\n",
    "        elif len(soup.findAll(class_=search_result_class_v2))!=0:\n",
    "            reviews_list.extend(get_reviews_page_v2(soup,business_name,business_index,verbose))\n",
    "        else:\n",
    "            print(\"Could not parse page: \", next_page_url)\n",
    "        \n",
    "        #Check for \"next\" page link - update next_page_url if found.\n",
    "        #Break from while loop if there is no next page.\n",
    "        if soup.find(\"link\", attrs={'rel':'next'}):\n",
    "            next_page_url = soup.find(\"link\", attrs={'rel':'next'})['href']\n",
    "            page_counter+=1\n",
    "        else:\n",
    "            break\n",
    "    \n",
    "    return reviews_list"
   ]
  },
  {
   "cell_type": "code",
   "execution_count": 354,
   "metadata": {},
   "outputs": [],
   "source": [
    "def get_reviews_page_v1(soup, business_name, business_index, verbose=False):\n",
    "    search_result_class = \"lemon--li__373c0__1r9wz u-space-b3 u-padding-b3 border--bottom__373c0__uPbXS border-color--default__373c0__2oFDT\"\n",
    "    star_container_class = \"lemon--div__373c0__1mboc arrange-unit__373c0__1piwO border-color--default__373c0__2oFDT\"\n",
    "    date_class = \"lemon--span__373c0__3997G text__373c0__2pB8f text-color--mid__373c0__3G312 text-align--left__373c0__2pnx_\"\n",
    "    pic_class = \"lemon--span__373c0__3997G photo-box-grid-item__373c0__2kFqV display--inline__373c0__1DbOG u-space-r2 u-space-b2 border-color--default__373c0__2oFDT\"\n",
    "    pic_url_class = \"lemon--img__373c0__3GQUb photo-box-img__373c0__O0tbt\"\n",
    "    \n",
    "    #Get each review block\n",
    "    reviews = soup.findAll(class_=search_result_class)\n",
    "    reviews_list=[]\n",
    "    skipped_review_counter=0\n",
    "    #Loop through each review and pull out pertinent information. Put into list of dictionaries.\n",
    "    for review in reviews:\n",
    "        try:\n",
    "            review_info = {}\n",
    "            review_info[\"business_name\"] = business_name\n",
    "            review_info[\"business_index\"] = business_index\n",
    "            review_info[\"date\"] = review.find(class_=date_class).text.strip()\n",
    "            #review_info[\"review\"] = review.find(\"span\", attrs={\"class\": \"lemon--span__373c0__3997G\", \"lang\": \"en\"}).text\n",
    "            review_info[\"review\"] = review.find(attrs={\"lang\": \"en\"}).text\n",
    "            review_info['star_rating'] = float(re.findall(r\"[-+]?\\d*\\.\\d+|\\d+\", \n",
    "                           review.find(class_=star_container_class).find('div')['aria-label'] )[0] )\n",
    "            review_info[\"pic_count\"] = len(review.find_all(class_=pic_class))\n",
    "            review_info[\"pic_urls\"] = [obj['src'] for obj in review.findAll(class_=pic_url_class)]\n",
    "\n",
    "            #Sometimes the user id is not being found\n",
    "            try:\n",
    "                review_info[\"user_id\"] = review.find('a')['href'].split('userid=')[1]\n",
    "            except:\n",
    "                None\n",
    "\n",
    "            reviews_list.append(review_info)\n",
    "        except:\n",
    "            skipped_review_counter+=1\n",
    "            \n",
    "    if verbose:\n",
    "        if skipped_review_counter!=0:\n",
    "            print(f\"Skipped {skipped_review_counter} reviews\")\n",
    "\n",
    "    return(reviews_list)"
   ]
  },
  {
   "cell_type": "code",
   "execution_count": 355,
   "metadata": {},
   "outputs": [],
   "source": [
    "def get_reviews_page_v2(soup, business_name, business_index, verbose=False):\n",
    "    search_result_class = \"review review--with-sidebar\"\n",
    "    star_container_class = \"biz-rating__stars\"\n",
    "    date_class = \"rating-qualifier\"\n",
    "    review_photo_box_class = \"photo-box-grid clearfix js-content-expandable lightbox-media-parent\"\n",
    "    \n",
    "    #Get each review block\n",
    "    reviews = soup.findAll(class_=search_result_class)\n",
    "    reviews_list=[]\n",
    "    skipped_review_counter=0\n",
    "    #Loop through each review and pull out pertinent information. Put into list of dictionaries.\n",
    "    for review in reviews:\n",
    "        try:\n",
    "            review_info = {}\n",
    "            review_info[\"business_name\"] = business_name\n",
    "            review_info[\"business_index\"] = business_index\n",
    "            review_info[\"date\"] = review.find(class_=date_class).text.strip()\n",
    "            review_info[\"review\"] = review.find(attrs={\"lang\": \"en\"}).text\n",
    "            review_info['star_rating'] = float(re.findall(r\"[-+]?\\d*\\.\\d+|\\d+\", \n",
    "                           review.find(class_=star_container_class).find('div')['title'])[0] )\n",
    "            try:\n",
    "                pic_line_items = review.find(class_=review_photo_box_class).findAll('li')\n",
    "                review_info[\"pic_count\"] = len(pic_line_items)\n",
    "                review_info[\"pic_urls\"] = [obj.find('img')['src'] for obj in pic_line_items]\n",
    "            except:\n",
    "                review_info[\"pic_count\"] = 0\n",
    "                review_info[\"pic_urls\"] = []\n",
    "\n",
    "            #Sometimes the user id is not being found\n",
    "            try:\n",
    "                review_info[\"user_id\"] = review.find('a')['href'].split('userid=')[1]\n",
    "            except:\n",
    "                None\n",
    "\n",
    "            reviews_list.append(review_info)\n",
    "        except:\n",
    "            skipped_review_counter+=1\n",
    "\n",
    "    if verbose:\n",
    "        if skipped_review_counter!=0:\n",
    "            print(f\"Skipped {skipped_review_counter} reviews\")\n",
    "            \n",
    "    return(reviews_list)"
   ]
  },
  {
   "cell_type": "code",
   "execution_count": 356,
   "metadata": {},
   "outputs": [
    {
     "name": "stdout",
     "output_type": "stream",
     "text": [
      "Madison Pour House\n",
      "https://www.yelp.com/biz/madison-pour-house-albany?osq=beer\n"
     ]
    }
   ],
   "source": [
    "index_num = 4\n",
    "business_url = business_info_df.url[index_num]\n",
    "business_name = business_info_df.name[index_num]\n",
    "print(business_name)\n",
    "print(business_url)"
   ]
  },
  {
   "cell_type": "code",
   "execution_count": 300,
   "metadata": {
    "scrolled": true
   },
   "outputs": [
    {
     "name": "stdout",
     "output_type": "stream",
     "text": [
      "Page 1, https://www.yelp.com/biz/madison-pour-house-albany?osq=beer\n",
      "Page 2, https://www.yelp.com/biz/madison-pour-house-albany?osq=beer&start=20\n",
      "Page 3, https://www.yelp.com/biz/madison-pour-house-albany?osq=beer&start=40\n",
      "Page 4, https://www.yelp.com/biz/madison-pour-house-albany?osq=beer&start=60\n",
      "Page 5, https://www.yelp.com/biz/madison-pour-house-albany?osq=beer&start=80\n",
      "Page 6, https://www.yelp.com/biz/madison-pour-house-albany?osq=beer&start=100\n",
      "Page 7, https://www.yelp.com/biz/madison-pour-house-albany?osq=beer&start=120\n"
     ]
    }
   ],
   "source": [
    "reviews_df = pd.DataFrame(get_reviews(business_name,business_url,verbose=True))"
   ]
  },
  {
   "cell_type": "code",
   "execution_count": 301,
   "metadata": {
    "scrolled": false
   },
   "outputs": [
    {
     "data": {
      "text/html": [
       "<div>\n",
       "<style scoped>\n",
       "    .dataframe tbody tr th:only-of-type {\n",
       "        vertical-align: middle;\n",
       "    }\n",
       "\n",
       "    .dataframe tbody tr th {\n",
       "        vertical-align: top;\n",
       "    }\n",
       "\n",
       "    .dataframe thead th {\n",
       "        text-align: right;\n",
       "    }\n",
       "</style>\n",
       "<table border=\"1\" class=\"dataframe\">\n",
       "  <thead>\n",
       "    <tr style=\"text-align: right;\">\n",
       "      <th></th>\n",
       "      <th>business_name</th>\n",
       "      <th>date</th>\n",
       "      <th>pic_count</th>\n",
       "      <th>pic_urls</th>\n",
       "      <th>review</th>\n",
       "      <th>star_rating</th>\n",
       "      <th>user_id</th>\n",
       "    </tr>\n",
       "  </thead>\n",
       "  <tbody>\n",
       "    <tr>\n",
       "      <th>0</th>\n",
       "      <td>Madison Pour House</td>\n",
       "      <td>4/28/2019</td>\n",
       "      <td>0</td>\n",
       "      <td>[]</td>\n",
       "      <td>My boyfriend and I stumbled upon this place wh...</td>\n",
       "      <td>5.0</td>\n",
       "      <td>NaN</td>\n",
       "    </tr>\n",
       "    <tr>\n",
       "      <th>1</th>\n",
       "      <td>Madison Pour House</td>\n",
       "      <td>4/13/2018</td>\n",
       "      <td>3</td>\n",
       "      <td>[https://s3-media3.fl.yelpcdn.com/bphoto/N2rzf...</td>\n",
       "      <td>Cool, cool vibe here and the pricing structure...</td>\n",
       "      <td>4.0</td>\n",
       "      <td>l3-iufAUr46hmFiEanW88Q</td>\n",
       "    </tr>\n",
       "    <tr>\n",
       "      <th>2</th>\n",
       "      <td>Madison Pour House</td>\n",
       "      <td>2/6/2019</td>\n",
       "      <td>0</td>\n",
       "      <td>[]</td>\n",
       "      <td>This place has a great selection of beer on th...</td>\n",
       "      <td>3.0</td>\n",
       "      <td>NaN</td>\n",
       "    </tr>\n",
       "    <tr>\n",
       "      <th>3</th>\n",
       "      <td>Madison Pour House</td>\n",
       "      <td>4/3/2019</td>\n",
       "      <td>0</td>\n",
       "      <td>[]</td>\n",
       "      <td>Very limited menu, but I think they stick to w...</td>\n",
       "      <td>4.0</td>\n",
       "      <td>NaN</td>\n",
       "    </tr>\n",
       "    <tr>\n",
       "      <th>4</th>\n",
       "      <td>Madison Pour House</td>\n",
       "      <td>4/3/2019</td>\n",
       "      <td>0</td>\n",
       "      <td>[]</td>\n",
       "      <td>What a dump. I was willing to put up with that...</td>\n",
       "      <td>1.0</td>\n",
       "      <td>NaN</td>\n",
       "    </tr>\n",
       "  </tbody>\n",
       "</table>\n",
       "</div>"
      ],
      "text/plain": [
       "        business_name       date  pic_count  \\\n",
       "0  Madison Pour House  4/28/2019          0   \n",
       "1  Madison Pour House  4/13/2018          3   \n",
       "2  Madison Pour House   2/6/2019          0   \n",
       "3  Madison Pour House   4/3/2019          0   \n",
       "4  Madison Pour House   4/3/2019          0   \n",
       "\n",
       "                                            pic_urls  \\\n",
       "0                                                 []   \n",
       "1  [https://s3-media3.fl.yelpcdn.com/bphoto/N2rzf...   \n",
       "2                                                 []   \n",
       "3                                                 []   \n",
       "4                                                 []   \n",
       "\n",
       "                                              review  star_rating  \\\n",
       "0  My boyfriend and I stumbled upon this place wh...          5.0   \n",
       "1  Cool, cool vibe here and the pricing structure...          4.0   \n",
       "2  This place has a great selection of beer on th...          3.0   \n",
       "3  Very limited menu, but I think they stick to w...          4.0   \n",
       "4  What a dump. I was willing to put up with that...          1.0   \n",
       "\n",
       "                  user_id  \n",
       "0                     NaN  \n",
       "1  l3-iufAUr46hmFiEanW88Q  \n",
       "2                     NaN  \n",
       "3                     NaN  \n",
       "4                     NaN  "
      ]
     },
     "execution_count": 301,
     "metadata": {},
     "output_type": "execute_result"
    }
   ],
   "source": [
    "reviews_df.head()"
   ]
  },
  {
   "cell_type": "code",
   "execution_count": 302,
   "metadata": {
    "scrolled": true
   },
   "outputs": [
    {
     "data": {
      "text/plain": [
       "5.0    64\n",
       "4.0    45\n",
       "3.0    10\n",
       "1.0     4\n",
       "2.0     2\n",
       "Name: star_rating, dtype: int64"
      ]
     },
     "execution_count": 302,
     "metadata": {},
     "output_type": "execute_result"
    }
   ],
   "source": [
    "reviews_df.star_rating.value_counts()"
   ]
  },
  {
   "cell_type": "code",
   "execution_count": 303,
   "metadata": {},
   "outputs": [
    {
     "data": {
      "image/png": "[encoded data removed]",
      "text/plain": [
       "<Figure size 432x432 with 1 Axes>"
      ]
     },
     "metadata": {
      "needs_background": "light"
     },
     "output_type": "display_data"
    }
   ],
   "source": [
    "plt.figure(figsize=(6,6))\n",
    "plt.bar(reviews_df.star_rating.value_counts().index.astype(str), reviews_df.star_rating.value_counts().values)\n",
    "plt.show()"
   ]
  },
  {
   "cell_type": "code",
   "execution_count": null,
   "metadata": {},
   "outputs": [],
   "source": []
  },
  {
   "cell_type": "markdown",
   "metadata": {},
   "source": [
    "# Gathering ALL reviews for businesses in initial search\n",
    "Get all reviews for businesses listed in the `business_info_df`"
   ]
  },
  {
   "cell_type": "code",
   "execution_count": 380,
   "metadata": {
    "scrolled": true
   },
   "outputs": [
    {
     "name": "stdout",
     "output_type": "stream",
     "text": [
      "The Albany Ale & Oyster https://www.yelp.com/biz/the-albany-ale-and-oyster-albany?osq=beer\n",
      "The City Beer Hall https://www.yelp.com/biz/the-city-beer-hall-albany?osq=beer\n",
      "Delaware Supply https://www.yelp.com/biz/delaware-supply-albany?osq=beer\n",
      "Druthers Brewing Company https://www.yelp.com/biz/druthers-brewing-company-albany?osq=beer\n",
      "Madison Pour House https://www.yelp.com/biz/madison-pour-house-albany?osq=beer\n",
      "Beer Bones Taproom https://www.yelp.com/biz/beer-bones-taproom-latham?osq=beer\n",
      "Lost & Found https://www.yelp.com/biz/lost-and-found-albany?osq=beer\n",
      "Fort Orange Brewing https://www.yelp.com/biz/fort-orange-brewing-albany?osq=beer\n",
      "Wolff’s Biergarten https://www.yelp.com/biz/wolffs-biergarten-albany?osq=beer\n",
      "Rare Form Brewing Company https://www.yelp.com/biz/rare-form-brewing-company-troy-2?osq=beer\n",
      "Albany Pump Station At C H Evans Brewing Co https://www.yelp.com/biz/albany-pump-station-at-c-h-evans-brewing-co-albany-2?osq=beer\n",
      "The Excelsior Pub https://www.yelp.com/biz/the-excelsior-pub-albany?osq=beer\n",
      "Nine Pin Cider https://www.yelp.com/biz/nine-pin-cider-albany?osq=beer\n",
      "Table 41 Brewing Company https://www.yelp.com/biz/table-41-brewing-company-cohoes?osq=beer\n",
      "Loch & Quay https://www.yelp.com/biz/loch-and-quay-albany?osq=beer\n",
      "Great Flats Brewing https://www.yelp.com/biz/great-flats-brewing-schenectady?osq=beer\n",
      "Emporium Farm Brewery https://www.yelp.com/biz/emporium-farm-brewery-rensselaer?osq=beer\n",
      "The Allen Street Pub https://www.yelp.com/biz/the-allen-street-pub-albany?osq=beer\n",
      "The Real McCoy Beer Co https://www.yelp.com/biz/the-real-mccoy-beer-co-delmar-2?osq=beer\n",
      "Tipsy Moose Tap & Tavern https://www.yelp.com/biz/tipsy-moose-tap-and-tavern-latham-2?osq=beer\n",
      "518 Craft https://www.yelp.com/biz/518-craft-troy-3?osq=beer\n",
      "The Olde English https://www.yelp.com/biz/the-olde-english-albany?osq=beer\n",
      "Parish Public House https://www.yelp.com/biz/parish-public-house-albany?osq=beer\n",
      "World of Beer https://www.yelp.com/biz/world-of-beer-albany?osq=beer\n",
      "Frog Alley Brewing https://www.yelp.com/biz/frog-alley-brewing-schenectady?osq=beer\n",
      "Public House 42 https://www.yelp.com/biz/public-house-42-albany-2?osq=beer\n",
      "Build A Burger Pub https://www.yelp.com/biz/build-a-burger-pub-albany?osq=beer\n",
      "The Tavern https://www.yelp.com/biz/the-tavern-albany?osq=beer\n",
      "BJ’s Restaurant & Brewhouse https://www.yelp.com/biz/bjs-restaurant-and-brewhouse-colonie?osq=beer\n",
      "Brown’s Brewing Company https://www.yelp.com/biz/browns-brewing-company-troy?osq=beer\n",
      "Chops and Hops Meat Market https://www.yelp.com/biz/chops-and-hops-meat-market-latham?osq=beer\n",
      "The Hill at Muza https://www.yelp.com/biz/the-hill-at-muza-troy-4?osq=beer\n",
      "Kiernan’s Craft Tavern https://www.yelp.com/biz/kiernans-craft-tavern-latham?osq=beer\n",
      "McGeary’s https://www.yelp.com/biz/mcgearys-albany?osq=beer\n",
      "Elixir 16 https://www.yelp.com/biz/elixir-16-troy?osq=beer\n",
      "Druthers Brewing Company https://www.yelp.com/biz/druthers-brewing-company-schenectady-3?osq=beer\n",
      "The Ruck https://www.yelp.com/biz/the-ruck-troy-3?osq=beer\n",
      "Indian Ladder Farms Cidery & Brewery https://www.yelp.com/biz/indian-ladder-farms-cidery-and-brewery-altamont?osq=beer\n",
      "Ale House https://www.yelp.com/biz/ale-house-troy?osq=beer\n",
      "Swifty’s Restaurant & Pub - Albany https://www.yelp.com/biz/swiftys-restaurant-and-pub-albany-albany-5?osq=beer\n",
      "Caskade Kitchen & Bar https://www.yelp.com/biz/caskade-kitchen-and-bar-cohoes?osq=beer\n",
      "Wolff’s Biergarten https://www.yelp.com/biz/wolffs-biergarten-troy-2?osq=beer\n",
      "Oh Bar https://www.yelp.com/biz/oh-bar-albany?osq=beer\n",
      "Hill Street Cafe https://www.yelp.com/biz/hill-street-cafe-albany?osq=beer\n",
      "Wolff’s Biergarten https://www.yelp.com/biz/wolffs-biergarten-schenectady?osq=beer\n",
      "Lionheart Pub https://www.yelp.com/biz/lionheart-pub-albany-2?osq=beer\n",
      "Pearl Street Pub https://www.yelp.com/biz/pearl-street-pub-albany?osq=beer\n",
      "Nighthawks https://www.yelp.com/biz/nighthawks-troy-2?osq=beer\n",
      "Clinton Street Pub https://www.yelp.com/biz/clinton-street-pub-schenectady?osq=beer\n",
      "The Van Dyck Restaurant & Lounge https://www.yelp.com/biz/the-van-dyck-restaurant-and-lounge-schenectady-3?osq=beer\n",
      "Across The Street Pub https://www.yelp.com/biz/across-the-street-pub-albany?osq=beer\n",
      "Graney’s Stout https://www.yelp.com/biz/graneys-stout-albany?osq=beer\n",
      "Casey Finn’s Pub $ Grill https://www.yelp.com/biz/casey-finns-pub-grill-albany?osq=beer\n",
      "Patrick’s Pub https://www.yelp.com/biz/patricks-pub-watervliet?osq=beer\n",
      "O’Slattery’s Irish Restaurant & Pub https://www.yelp.com/biz/o-slatterys-irish-restaurant-and-pub-delmar?osq=beer\n",
      "Ship’s Pub https://www.yelp.com/biz/ships-pub-albany?osq=beer\n",
      "The Angry Penguin https://www.yelp.com/biz/the-angry-penguin-waterford?osq=beer\n",
      "Otis & Oliver’s https://www.yelp.com/biz/otis-and-olivers-latham?osq=beer\n",
      "wheelers https://www.yelp.com/biz/wheelers-albany-2?osq=beer\n",
      "The Horses Lounge https://www.yelp.com/biz/the-horses-lounge-schenectady?osq=beer\n",
      "20 North Broadway Tavern https://www.yelp.com/biz/20-north-broadway-tavern-schenectady?osq=beer\n",
      "Swifty’s Restaurant & Pub https://www.yelp.com/biz/swiftys-restaurant-and-pub-delmar?osq=beer\n",
      "Arsenal City Tavern https://www.yelp.com/biz/arsenal-city-tavern-watervliet?osq=beer\n",
      "Hunter’s On Jay https://www.yelp.com/biz/hunters-on-jay-schenectady?osq=beer\n",
      "Tipsy Moose https://www.yelp.com/biz/tipsy-moose-troy?osq=beer\n",
      "Thatcher St Pub https://www.yelp.com/biz/thatcher-st-pub-albany?osq=beer\n",
      "Nico’s Rooftop Tavern https://www.yelp.com/biz/nicos-rooftop-tavern-schenectady?osq=beer\n",
      "Graney’s Bar & Grill https://www.yelp.com/biz/graneys-bar-and-grill-albany?osq=beer\n",
      "Katie O’Byrne’s https://www.yelp.com/biz/katie-o-byrnes-schenectady?osq=beer\n",
      "Centre Street Pub https://www.yelp.com/biz/centre-street-pub-schenectady?osq=beer\n",
      "City Squire Ale House https://www.yelp.com/biz/city-squire-ale-house-schenectady?osq=beer\n",
      "The Black Bear Inn https://www.yelp.com/biz/the-black-bear-inn-watervliet?osq=beer\n",
      "Pub 23 https://www.yelp.com/biz/pub-23-glenmont?osq=beer\n",
      "Park Pub Restaurant https://www.yelp.com/biz/park-pub-restaurant-troy?osq=beer\n",
      "Rustic Barn Pub https://www.yelp.com/biz/rustic-barn-pub-troy?osq=beer\n",
      "99 Restaurants https://www.yelp.com/biz/99-restaurants-colonie?osq=beer\n",
      "Firestone 151 Bar & Restaurant https://www.yelp.com/biz/firestone-151-bar-and-restaurant-schenectady?osq=beer\n",
      "Track 32 Italian Pub https://www.yelp.com/biz/track-32-italian-pub-feura-bush?osq=beer\n",
      "Stoney’s Irish Grill https://www.yelp.com/biz/stoneys-irish-grill-schenectady?osq=beer\n",
      "My Place & Co https://www.yelp.com/biz/my-place-and-co-delmar?osq=beer\n",
      "Bootlegger’s On Broadway https://www.yelp.com/biz/bootleggers-on-broadway-troy-2?osq=beer\n",
      "Deacon Blues https://www.yelp.com/biz/deacon-blues-watervliet-2?osq=beer\n",
      "McAddy’s Pub https://www.yelp.com/biz/mcaddys-pub-troy?osq=beer\n",
      "Pam’s Pub https://www.yelp.com/biz/pams-pub-clifton-park?osq=beer\n",
      "Bombers Burrito Bar https://www.yelp.com/biz/bombers-burrito-bar-schenectady?osq=beer\n",
      "O’learys Tavern https://www.yelp.com/biz/o-learys-tavern-troy?osq=beer\n",
      "Clinton’s Ditch https://www.yelp.com/biz/clintons-ditch-schenectady?osq=beer\n",
      "Villa Valenti Pub https://www.yelp.com/biz/villa-valenti-pub-troy?osq=beer\n",
      "99 Restaurants https://www.yelp.com/biz/99-restaurants-rotterdam?osq=beer\n"
     ]
    }
   ],
   "source": [
    "all_reviews = []\n",
    "for biz_id, business_name, yelp_url in zip(business_info_df.biz_id,business_info_df.name,business_info_df.url):\n",
    "    print(business_name, yelp_url)\n",
    "    all_reviews.extend(get_reviews(business_name,biz_id,yelp_url))"
   ]
  },
  {
   "cell_type": "code",
   "execution_count": 378,
   "metadata": {},
   "outputs": [
    {
     "data": {
      "text/plain": [
       "(6584, 8)"
      ]
     },
     "execution_count": 378,
     "metadata": {},
     "output_type": "execute_result"
    }
   ],
   "source": [
    "all_reviews_df = pd.DataFrame(all_reviews)\n",
    "all_reviews_df.shape"
   ]
  },
  {
   "cell_type": "code",
   "execution_count": 379,
   "metadata": {
    "scrolled": false
   },
   "outputs": [
    {
     "data": {
      "text/html": [
       "<div>\n",
       "<style scoped>\n",
       "    .dataframe tbody tr th:only-of-type {\n",
       "        vertical-align: middle;\n",
       "    }\n",
       "\n",
       "    .dataframe tbody tr th {\n",
       "        vertical-align: top;\n",
       "    }\n",
       "\n",
       "    .dataframe thead th {\n",
       "        text-align: right;\n",
       "    }\n",
       "</style>\n",
       "<table border=\"1\" class=\"dataframe\">\n",
       "  <thead>\n",
       "    <tr style=\"text-align: right;\">\n",
       "      <th></th>\n",
       "      <th>business_index</th>\n",
       "      <th>business_name</th>\n",
       "      <th>date</th>\n",
       "      <th>pic_count</th>\n",
       "      <th>pic_urls</th>\n",
       "      <th>review</th>\n",
       "      <th>star_rating</th>\n",
       "      <th>user_id</th>\n",
       "    </tr>\n",
       "  </thead>\n",
       "  <tbody>\n",
       "    <tr>\n",
       "      <th>6579</th>\n",
       "      <td>99-restaurants-rotterdam</td>\n",
       "      <td>99 Restaurants</td>\n",
       "      <td>9/27/2015</td>\n",
       "      <td>0</td>\n",
       "      <td>[]</td>\n",
       "      <td>Never disappointed. Have been there at least 2...</td>\n",
       "      <td>4.0</td>\n",
       "      <td>NaN</td>\n",
       "    </tr>\n",
       "    <tr>\n",
       "      <th>6580</th>\n",
       "      <td>99-restaurants-rotterdam</td>\n",
       "      <td>99 Restaurants</td>\n",
       "      <td>9/11/2012</td>\n",
       "      <td>0</td>\n",
       "      <td>[]</td>\n",
       "      <td>The fish is always fresh. Noticed other restau...</td>\n",
       "      <td>5.0</td>\n",
       "      <td>NaN</td>\n",
       "    </tr>\n",
       "    <tr>\n",
       "      <th>6581</th>\n",
       "      <td>99-restaurants-rotterdam</td>\n",
       "      <td>99 Restaurants</td>\n",
       "      <td>6/3/2011</td>\n",
       "      <td>0</td>\n",
       "      <td>[]</td>\n",
       "      <td>We went to 99 to celebrate an accomplishment b...</td>\n",
       "      <td>2.0</td>\n",
       "      <td>NaN</td>\n",
       "    </tr>\n",
       "    <tr>\n",
       "      <th>6582</th>\n",
       "      <td>99-restaurants-rotterdam</td>\n",
       "      <td>99 Restaurants</td>\n",
       "      <td>1/20/2014</td>\n",
       "      <td>0</td>\n",
       "      <td>[]</td>\n",
       "      <td>I enjoyed my meal  ALOT only food gets cold fa...</td>\n",
       "      <td>4.0</td>\n",
       "      <td>NaN</td>\n",
       "    </tr>\n",
       "    <tr>\n",
       "      <th>6583</th>\n",
       "      <td>99-restaurants-rotterdam</td>\n",
       "      <td>99 Restaurants</td>\n",
       "      <td>1/26/2012</td>\n",
       "      <td>0</td>\n",
       "      <td>[]</td>\n",
       "      <td>99 is close by and consistently good.  Yes, th...</td>\n",
       "      <td>4.0</td>\n",
       "      <td>NaN</td>\n",
       "    </tr>\n",
       "  </tbody>\n",
       "</table>\n",
       "</div>"
      ],
      "text/plain": [
       "                business_index   business_name       date  pic_count pic_urls  \\\n",
       "6579  99-restaurants-rotterdam  99 Restaurants  9/27/2015          0       []   \n",
       "6580  99-restaurants-rotterdam  99 Restaurants  9/11/2012          0       []   \n",
       "6581  99-restaurants-rotterdam  99 Restaurants   6/3/2011          0       []   \n",
       "6582  99-restaurants-rotterdam  99 Restaurants  1/20/2014          0       []   \n",
       "6583  99-restaurants-rotterdam  99 Restaurants  1/26/2012          0       []   \n",
       "\n",
       "                                                 review  star_rating user_id  \n",
       "6579  Never disappointed. Have been there at least 2...          4.0     NaN  \n",
       "6580  The fish is always fresh. Noticed other restau...          5.0     NaN  \n",
       "6581  We went to 99 to celebrate an accomplishment b...          2.0     NaN  \n",
       "6582  I enjoyed my meal  ALOT only food gets cold fa...          4.0     NaN  \n",
       "6583  99 is close by and consistently good.  Yes, th...          4.0     NaN  "
      ]
     },
     "execution_count": 379,
     "metadata": {},
     "output_type": "execute_result"
    }
   ],
   "source": [
    "all_reviews_df.tail()"
   ]
  },
  {
   "cell_type": "markdown",
   "metadata": {},
   "source": [
    "### Write dataframes to CSV files"
   ]
  },
  {
   "cell_type": "code",
   "execution_count": 381,
   "metadata": {},
   "outputs": [],
   "source": [
    "business_info_df.to_csv('business_info.csv',index=False)\n",
    "all_reviews_df.to_csv('reviews.csv',index=False)"
   ]
  },
  {
   "cell_type": "code",
   "execution_count": null,
   "metadata": {},
   "outputs": [],
   "source": []
  }
 ],
 "metadata": {
  "kernelspec": {
   "display_name": "Python [conda env:learn-env] *",
   "language": "python",
   "name": "conda-env-learn-env-py"
  },
  "language_info": {
   "codemirror_mode": {
    "name": "ipython",
    "version": 3
   },
   "file_extension": ".py",
   "mimetype": "text/x-python",
   "name": "python",
   "nbconvert_exporter": "python",
   "pygments_lexer": "ipython3",
   "version": "3.6.6"
  }
 },
 "nbformat": 4,
 "nbformat_minor": 2
}
