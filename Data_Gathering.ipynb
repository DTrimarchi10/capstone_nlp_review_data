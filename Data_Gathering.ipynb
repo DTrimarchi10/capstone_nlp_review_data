{
 "cells": [
  {
   "cell_type": "code",
   "execution_count": null,
   "metadata": {},
   "outputs": [],
   "source": []
  },
  {
   "cell_type": "code",
   "execution_count": null,
   "metadata": {},
   "outputs": [],
   "source": []
  },
  {
   "cell_type": "code",
   "execution_count": null,
   "metadata": {},
   "outputs": [],
   "source": []
  },
  {
   "cell_type": "code",
   "execution_count": null,
   "metadata": {},
   "outputs": [],
   "source": []
  },
  {
   "cell_type": "code",
   "execution_count": 80,
   "metadata": {},
   "outputs": [],
   "source": [
    "import pandas as pd\n",
    "import json\n",
    "import requests\n",
    "import re\n",
    "from bs4 import BeautifulSoup"
   ]
  },
  {
   "cell_type": "markdown",
   "metadata": {},
   "source": [
    "## Search city and food type\n",
    "Get a list of businesses and their info:\n",
    "- Name\n",
    "- Address\n",
    "- Star Rating\n",
    "- Price Range\n",
    "- Number of Reviews\n",
    "- URL for business Yelp review page"
   ]
  },
  {
   "cell_type": "code",
   "execution_count": 456,
   "metadata": {},
   "outputs": [],
   "source": [
    "#ENTER SEARCH TERMS BELOW:\n",
    "cuisine_type = \"Gastropubs\"\n",
    "location = \"Albany, NY\"\n",
    "\n",
    "\n",
    "#Generate URL based on search terms\n",
    "base_url = \"https://www.yelp.com\"\n",
    "search_url = f\"{base_url}/search?find_desc={cuisine_type}&find_loc={location}\""
   ]
  },
  {
   "cell_type": "code",
   "execution_count": 261,
   "metadata": {},
   "outputs": [],
   "source": [
    "#request = requests.get(search_url)\n",
    "#soup = BeautifulSoup(request.content,'html.parser')"
   ]
  },
  {
   "cell_type": "code",
   "execution_count": 457,
   "metadata": {},
   "outputs": [],
   "source": [
    "star_container_class = \"lemon--div__373c0__1mboc attribute__373c0__1hPI_ display--inline-block__373c0__2de_K u-space-r1 border-color--default__373c0__2oFDT\"\n",
    "price_range_class = \"lemon--span__373c0__3997G text__373c0__2pB8f priceRange__373c0__2DY87 text-color--normal__373c0__K_MKN text-align--left__373c0__2pnx_ text-bullet--after__373c0__1ZHaA\"\n",
    "review_count_class = \"lemon--span__373c0__3997G text__373c0__2pB8f reviewCount__373c0__2r4xT text-color--mid__373c0__3G312 text-align--left__373c0__2pnx_\"\n",
    "next_page_class = \"lemon--a__373c0__IEZFH link__373c0__29943 next-link navigation-button__373c0__1D3Ug link-color--blue-dark__373c0__1mhJo link-size--default__373c0__1skgq\"\n",
    "search_result_class = \"lemon--div__373c0__1mboc searchResult__373c0__1yggB border-color--default__373c0__2oFDT\""
   ]
  },
  {
   "cell_type": "code",
   "execution_count": 458,
   "metadata": {},
   "outputs": [
    {
     "name": "stdout",
     "output_type": "stream",
     "text": [
      "Page 1, 30 results\n",
      "Page 2, 1 results\n"
     ]
    },
    {
     "data": {
      "text/plain": [
       "31"
      ]
     },
     "execution_count": 458,
     "metadata": {},
     "output_type": "execute_result"
    }
   ],
   "source": [
    "next_page_url = search_url\n",
    "page_counter = 1\n",
    "business_list = []\n",
    "\n",
    "while next_page_url:\n",
    "    request = requests.get(next_page_url)\n",
    "    soup = BeautifulSoup(request.content,'html.parser')\n",
    "    search_results = soup.findAll(class_=search_result_class)\n",
    "    print(f\"Page {page_counter}, {len(search_results)-1} results\")\n",
    "    for search_result in search_results:\n",
    "        try:\n",
    "            business_name_url = search_result.findAll('a', href=True)[1]\n",
    "            business_info = {}\n",
    "            business_info['url'] = f\"https://www.yelp.com{business_name_url['href']}\"\n",
    "            business_info['name'] = business_name_url['name']\n",
    "            business_info['address'] = search_result.find('address').text\n",
    "            business_info['category'] = [category.text for category in search_result.findAll(\"a\",attrs={\"role\":\"link\"})]\n",
    "            business_info['star_rating'] = re.findall(r\"[-+]?\\d*\\.\\d+|\\d+\", \n",
    "                                                      search_result.find(\n",
    "                                                          class_=star_container_class).find('div')['aria-label'] )[0]\n",
    "            business_info['price_range'] = search_result.find(class_=price_range_class).text\n",
    "            business_info['num_reviews'] = re.findall(r\"[-+]?\\d*\\.\\d+|\\d+\",\n",
    "                                                      search_result.find(\n",
    "                                                          class_=review_count_class).text )[0]\n",
    "            business_info['image_shown'] = search_result.find('img')['src']\n",
    "            business_list.append(business_info)\n",
    "        except:\n",
    "            None\n",
    "            \n",
    "    if soup.find(class_=next_page_class):\n",
    "        next_page_url = base_url + soup.find(class_=next_page_class)['href']\n",
    "        page_counter+=1\n",
    "    else:\n",
    "        break\n",
    "\n",
    "len(business_list)"
   ]
  },
  {
   "cell_type": "code",
   "execution_count": 459,
   "metadata": {
    "scrolled": false
   },
   "outputs": [
    {
     "data": {
      "text/html": [
       "<div>\n",
       "<style scoped>\n",
       "    .dataframe tbody tr th:only-of-type {\n",
       "        vertical-align: middle;\n",
       "    }\n",
       "\n",
       "    .dataframe tbody tr th {\n",
       "        vertical-align: top;\n",
       "    }\n",
       "\n",
       "    .dataframe thead th {\n",
       "        text-align: right;\n",
       "    }\n",
       "</style>\n",
       "<table border=\"1\" class=\"dataframe\">\n",
       "  <thead>\n",
       "    <tr style=\"text-align: right;\">\n",
       "      <th></th>\n",
       "      <th>address</th>\n",
       "      <th>category</th>\n",
       "      <th>image_shown</th>\n",
       "      <th>name</th>\n",
       "      <th>num_reviews</th>\n",
       "      <th>price_range</th>\n",
       "      <th>star_rating</th>\n",
       "      <th>url</th>\n",
       "    </tr>\n",
       "  </thead>\n",
       "  <tbody>\n",
       "    <tr>\n",
       "      <th>0</th>\n",
       "      <td>281 New Scotland Ave</td>\n",
       "      <td>[American (Traditional), Beer Bar]</td>\n",
       "      <td>https://s3-media3.fl.yelpcdn.com/bphoto/H-GObC...</td>\n",
       "      <td>The Albany Ale &amp; Oyster</td>\n",
       "      <td>240</td>\n",
       "      <td>$$</td>\n",
       "      <td>4.5</td>\n",
       "      <td>https://www.yelp.com/biz/the-albany-ale-and-oy...</td>\n",
       "    </tr>\n",
       "    <tr>\n",
       "      <th>1</th>\n",
       "      <td>1100 Madison Ave</td>\n",
       "      <td>[American (New), Pubs]</td>\n",
       "      <td>https://s3-media3.fl.yelpcdn.com/bphoto/_q42sc...</td>\n",
       "      <td>Madison Pour House</td>\n",
       "      <td>125</td>\n",
       "      <td>$$</td>\n",
       "      <td>4.5</td>\n",
       "      <td>https://www.yelp.com/biz/madison-pour-house-al...</td>\n",
       "    </tr>\n",
       "    <tr>\n",
       "      <th>2</th>\n",
       "      <td>42 Howard St</td>\n",
       "      <td>[Bars, American (Traditional), Gastropubs]</td>\n",
       "      <td>https://s3-media2.fl.yelpcdn.com/bphoto/rBAD9u...</td>\n",
       "      <td>The City Beer Hall</td>\n",
       "      <td>489</td>\n",
       "      <td>$$</td>\n",
       "      <td>4</td>\n",
       "      <td>https://www.yelp.com/biz/the-city-beer-hall-al...</td>\n",
       "    </tr>\n",
       "    <tr>\n",
       "      <th>3</th>\n",
       "      <td>942 Broadway</td>\n",
       "      <td>[American (New), Pubs, Beer Gardens]</td>\n",
       "      <td>https://s3-media1.fl.yelpcdn.com/bphoto/6sjQSq...</td>\n",
       "      <td>Lost &amp; Found</td>\n",
       "      <td>55</td>\n",
       "      <td>$$</td>\n",
       "      <td>4.5</td>\n",
       "      <td>https://www.yelp.com/biz/lost-and-found-albany...</td>\n",
       "    </tr>\n",
       "    <tr>\n",
       "      <th>4</th>\n",
       "      <td>79 N Pearl St</td>\n",
       "      <td>[American (New), Music Venues, Venues &amp; Event ...</td>\n",
       "      <td>https://s3-media4.fl.yelpcdn.com/bphoto/XjDwO1...</td>\n",
       "      <td>The Hollow Bar &amp; Kitchen</td>\n",
       "      <td>304</td>\n",
       "      <td>$$</td>\n",
       "      <td>4</td>\n",
       "      <td>https://www.yelp.com/biz/the-hollow-bar-and-ki...</td>\n",
       "    </tr>\n",
       "  </tbody>\n",
       "</table>\n",
       "</div>"
      ],
      "text/plain": [
       "                address                                           category  \\\n",
       "0  281 New Scotland Ave                 [American (Traditional), Beer Bar]   \n",
       "1      1100 Madison Ave                             [American (New), Pubs]   \n",
       "2          42 Howard St         [Bars, American (Traditional), Gastropubs]   \n",
       "3          942 Broadway               [American (New), Pubs, Beer Gardens]   \n",
       "4         79 N Pearl St  [American (New), Music Venues, Venues & Event ...   \n",
       "\n",
       "                                         image_shown  \\\n",
       "0  https://s3-media3.fl.yelpcdn.com/bphoto/H-GObC...   \n",
       "1  https://s3-media3.fl.yelpcdn.com/bphoto/_q42sc...   \n",
       "2  https://s3-media2.fl.yelpcdn.com/bphoto/rBAD9u...   \n",
       "3  https://s3-media1.fl.yelpcdn.com/bphoto/6sjQSq...   \n",
       "4  https://s3-media4.fl.yelpcdn.com/bphoto/XjDwO1...   \n",
       "\n",
       "                       name num_reviews price_range star_rating  \\\n",
       "0   The Albany Ale & Oyster         240          $$         4.5   \n",
       "1        Madison Pour House         125          $$         4.5   \n",
       "2        The City Beer Hall         489          $$           4   \n",
       "3              Lost & Found          55          $$         4.5   \n",
       "4  The Hollow Bar & Kitchen         304          $$           4   \n",
       "\n",
       "                                                 url  \n",
       "0  https://www.yelp.com/biz/the-albany-ale-and-oy...  \n",
       "1  https://www.yelp.com/biz/madison-pour-house-al...  \n",
       "2  https://www.yelp.com/biz/the-city-beer-hall-al...  \n",
       "3  https://www.yelp.com/biz/lost-and-found-albany...  \n",
       "4  https://www.yelp.com/biz/the-hollow-bar-and-ki...  "
      ]
     },
     "execution_count": 459,
     "metadata": {},
     "output_type": "execute_result"
    }
   ],
   "source": [
    "business_info_df = pd.DataFrame(business_list)\n",
    "business_info_df.head()"
   ]
  },
  {
   "cell_type": "code",
   "execution_count": 284,
   "metadata": {
    "scrolled": true
   },
   "outputs": [
    {
     "data": {
      "text/plain": [
       "'https://s3-media4.fl.yelpcdn.com/bphoto/P2v0Wd5JNwJYAuEm36KE2w/ls.jpg'"
      ]
     },
     "execution_count": 284,
     "metadata": {},
     "output_type": "execute_result"
    }
   ],
   "source": [
    "search_results[1].find('img')['src']"
   ]
  },
  {
   "cell_type": "code",
   "execution_count": null,
   "metadata": {},
   "outputs": [],
   "source": []
  },
  {
   "cell_type": "code",
   "execution_count": null,
   "metadata": {},
   "outputs": [],
   "source": []
  },
  {
   "cell_type": "code",
   "execution_count": null,
   "metadata": {},
   "outputs": [],
   "source": []
  },
  {
   "cell_type": "markdown",
   "metadata": {},
   "source": [
    "## Get reviews for an individual business"
   ]
  },
  {
   "cell_type": "code",
   "execution_count": 463,
   "metadata": {},
   "outputs": [
    {
     "name": "stdout",
     "output_type": "stream",
     "text": [
      "Druthers Brewing Company\n",
      "https://www.yelp.com/biz/druthers-brewing-company-albany?osq=Gastropubs\n"
     ]
    }
   ],
   "source": [
    "index_num = 6\n",
    "business_url = business_info_df.url[index_num]\n",
    "business_name = business_info_df.name[index_num]\n",
    "print(business_name)\n",
    "print(business_url)"
   ]
  },
  {
   "cell_type": "code",
   "execution_count": 464,
   "metadata": {},
   "outputs": [],
   "source": [
    "next_page_class = \"lemon--a__373c0__IEZFH link__373c0__29943 next-link navigation-button__373c0__1D3Ug link-color--blue-dark__373c0__1mhJo link-size--default__373c0__1skgq\"\n",
    "search_result_class = \"lemon--li__373c0__1r9wz u-space-b3 u-padding-b3 border--bottom__373c0__uPbXS border-color--default__373c0__2oFDT\"\n",
    "\n",
    "star_container_class = \"lemon--div__373c0__1mboc arrange-unit__373c0__1piwO border-color--default__373c0__2oFDT\"\n",
    "date_class = \"lemon--span__373c0__3997G text__373c0__2pB8f text-color--mid__373c0__3G312 text-align--left__373c0__2pnx_\"\n",
    "pic_class = \"lemon--span__373c0__3997G photo-box-grid-item__373c0__2kFqV display--inline__373c0__1DbOG u-space-r2 u-space-b2 border-color--default__373c0__2oFDT\"\n",
    "pic_url_class = \"lemon--img__373c0__3GQUb photo-box-img__373c0__O0tbt\"\n",
    "user_info_class = \"lemon--div__373c0__1mboc user-passport-info border-color--default__373c0__2oFDT\""
   ]
  },
  {
   "cell_type": "code",
   "execution_count": 465,
   "metadata": {},
   "outputs": [
    {
     "name": "stdout",
     "output_type": "stream",
     "text": [
      "https://www.yelp.com/biz/druthers-brewing-company-albany?osq=Gastropubs\n",
      "Page 1, 20 reviews\n",
      "https://www.yelp.com/biz/druthers-brewing-company-albany?osq=Gastropubs&start=20\n",
      "Page 2, 20 reviews\n"
     ]
    },
    {
     "data": {
      "text/plain": [
       "40"
      ]
     },
     "execution_count": 465,
     "metadata": {},
     "output_type": "execute_result"
    }
   ],
   "source": [
    "next_page_url = business_url\n",
    "page_counter = 1\n",
    "reviews_list = []\n",
    "\n",
    "while next_page_url:\n",
    "    request = requests.get(next_page_url)\n",
    "    soup = BeautifulSoup(request.content,'html.parser')\n",
    "    reviews = soup.findAll(class_=search_result_class)\n",
    "    print(next_page_url)\n",
    "    print(f\"Page {page_counter}, {len(reviews)} reviews\")\n",
    "    review_counter=1\n",
    "    for review in reviews:\n",
    "        try:\n",
    "            review_info = {}\n",
    "            review_info[\"business_name\"] = business_name\n",
    "            review_info[\"date\"] = review.find(class_=date_class).text\n",
    "            review_info[\"review\"] = review.find(\"span\", attrs={\"class\": \"lemon--span__373c0__3997G\", \"lang\": \"en\"}).text\n",
    "            review_info['star_rating'] = re.findall(r\"[-+]?\\d*\\.\\d+|\\d+\", \n",
    "                                                    review.find(\n",
    "                                                          class_=star_container_class).find('div')['aria-label'] )[0]\n",
    "            review_info[\"pic_count\"] = len(review.find_all(class_=pic_class))\n",
    "            review_info[\"pic_urls\"] = [obj['src'] for obj in review.findAll(class_=pic_url_class)]\n",
    "            try:\n",
    "                review_info[\"user_id\"] = review.find('a')['href'].split('userid=')[1]\n",
    "            except:\n",
    "                review_info[\"user_id\"] = \"FAIL\"\n",
    "            #for obj in review.find_all(class_=pic_url_class):\n",
    "            #    review_info[\"pic_urls\"].append(obj[\"src\"])\n",
    "            reviews_list.append(review_info)\n",
    "        except:\n",
    "            print(\"Skipped Review:\", review_counter)\n",
    "\n",
    "        review_counter+=1\n",
    "            \n",
    "    if soup.find(\"link\", attrs={'rel':'next'}):\n",
    "        next_page_url = soup.find(\"link\", attrs={'rel':'next'})['href']\n",
    "        page_counter+=1\n",
    "    else:\n",
    "        break\n",
    "        \n",
    "    if page_counter > 2:\n",
    "        break\n",
    "\n",
    "len(reviews_list)"
   ]
  },
  {
   "cell_type": "code",
   "execution_count": 468,
   "metadata": {},
   "outputs": [
    {
     "data": {
      "text/html": [
       "<div>\n",
       "<style scoped>\n",
       "    .dataframe tbody tr th:only-of-type {\n",
       "        vertical-align: middle;\n",
       "    }\n",
       "\n",
       "    .dataframe tbody tr th {\n",
       "        vertical-align: top;\n",
       "    }\n",
       "\n",
       "    .dataframe thead th {\n",
       "        text-align: right;\n",
       "    }\n",
       "</style>\n",
       "<table border=\"1\" class=\"dataframe\">\n",
       "  <thead>\n",
       "    <tr style=\"text-align: right;\">\n",
       "      <th></th>\n",
       "      <th>business_name</th>\n",
       "      <th>date</th>\n",
       "      <th>pic_count</th>\n",
       "      <th>pic_urls</th>\n",
       "      <th>review</th>\n",
       "      <th>star_rating</th>\n",
       "      <th>user_id</th>\n",
       "    </tr>\n",
       "  </thead>\n",
       "  <tbody>\n",
       "    <tr>\n",
       "      <th>0</th>\n",
       "      <td>Druthers Brewing Company</td>\n",
       "      <td>7/28/2019</td>\n",
       "      <td>3</td>\n",
       "      <td>[https://s3-media4.fl.yelpcdn.com/bphoto/stvcX...</td>\n",
       "      <td>After a long day of drinking, exploring, seein...</td>\n",
       "      <td>5</td>\n",
       "      <td>hWDybu_KvYLSdEFzGrniTw</td>\n",
       "    </tr>\n",
       "    <tr>\n",
       "      <th>1</th>\n",
       "      <td>Druthers Brewing Company</td>\n",
       "      <td>7/14/2019</td>\n",
       "      <td>3</td>\n",
       "      <td>[https://s3-media3.fl.yelpcdn.com/bphoto/VEwcR...</td>\n",
       "      <td>Great American pub/brewery with awesome season...</td>\n",
       "      <td>5</td>\n",
       "      <td>NE0Y9JgKRGGfkq0r8rrWMA</td>\n",
       "    </tr>\n",
       "    <tr>\n",
       "      <th>2</th>\n",
       "      <td>Druthers Brewing Company</td>\n",
       "      <td>6/8/2019</td>\n",
       "      <td>1</td>\n",
       "      <td>[https://s3-media4.fl.yelpcdn.com/bphoto/61oph...</td>\n",
       "      <td>Service was PERFECT! Our server was funny, kno...</td>\n",
       "      <td>5</td>\n",
       "      <td>q5l-dhIhv2gHtR42_KS3BA</td>\n",
       "    </tr>\n",
       "    <tr>\n",
       "      <th>3</th>\n",
       "      <td>Druthers Brewing Company</td>\n",
       "      <td>9/16/2019</td>\n",
       "      <td>2</td>\n",
       "      <td>[https://s3-media3.fl.yelpcdn.com/bphoto/vMhXV...</td>\n",
       "      <td>Definitely worth the trip - located on a dark ...</td>\n",
       "      <td>4</td>\n",
       "      <td>4nS_ParKta9NBuE3yl72qg</td>\n",
       "    </tr>\n",
       "    <tr>\n",
       "      <th>4</th>\n",
       "      <td>Druthers Brewing Company</td>\n",
       "      <td>4/23/2019</td>\n",
       "      <td>0</td>\n",
       "      <td>[]</td>\n",
       "      <td>Update (4/23/19): the O.G. Veggie burger has r...</td>\n",
       "      <td>4</td>\n",
       "      <td>NwegX3oLEwXuOXI1d3KfRQ</td>\n",
       "    </tr>\n",
       "    <tr>\n",
       "      <th>5</th>\n",
       "      <td>Druthers Brewing Company</td>\n",
       "      <td>3/9/2019</td>\n",
       "      <td>3</td>\n",
       "      <td>[https://s3-media3.fl.yelpcdn.com/bphoto/DDvZZ...</td>\n",
       "      <td>Yelp hit it out of the park on this one! Was i...</td>\n",
       "      <td>5</td>\n",
       "      <td>_kP1PMm3G-ZFUZtBsP-WPA</td>\n",
       "    </tr>\n",
       "    <tr>\n",
       "      <th>6</th>\n",
       "      <td>Druthers Brewing Company</td>\n",
       "      <td>3/7/2019</td>\n",
       "      <td>3</td>\n",
       "      <td>[https://s3-media1.fl.yelpcdn.com/bphoto/Tg5Oj...</td>\n",
       "      <td>i love druthers, how couldn't you? The comfort...</td>\n",
       "      <td>4</td>\n",
       "      <td>YX927Jezj85xgM_XX6bVxw</td>\n",
       "    </tr>\n",
       "    <tr>\n",
       "      <th>7</th>\n",
       "      <td>Druthers Brewing Company</td>\n",
       "      <td>2/10/2019</td>\n",
       "      <td>3</td>\n",
       "      <td>[https://s3-media2.fl.yelpcdn.com/bphoto/RTOS-...</td>\n",
       "      <td>So today we took a drive up to U - Albany to c...</td>\n",
       "      <td>5</td>\n",
       "      <td>Kc7IwXLrJVqAVMkX6pxWbA</td>\n",
       "    </tr>\n",
       "    <tr>\n",
       "      <th>8</th>\n",
       "      <td>Druthers Brewing Company</td>\n",
       "      <td>5/30/2019</td>\n",
       "      <td>0</td>\n",
       "      <td>[]</td>\n",
       "      <td>Unsure how I have missed reviewing Druthers!! ...</td>\n",
       "      <td>4</td>\n",
       "      <td>FAIL</td>\n",
       "    </tr>\n",
       "    <tr>\n",
       "      <th>9</th>\n",
       "      <td>Druthers Brewing Company</td>\n",
       "      <td>8/15/2019</td>\n",
       "      <td>3</td>\n",
       "      <td>[https://s3-media4.fl.yelpcdn.com/bphoto/2dExk...</td>\n",
       "      <td>Druthers is the place to go for great food exc...</td>\n",
       "      <td>4</td>\n",
       "      <td>flXkJBf-clMeA_jC1sqGEg</td>\n",
       "    </tr>\n",
       "  </tbody>\n",
       "</table>\n",
       "</div>"
      ],
      "text/plain": [
       "              business_name       date  pic_count  \\\n",
       "0  Druthers Brewing Company  7/28/2019          3   \n",
       "1  Druthers Brewing Company  7/14/2019          3   \n",
       "2  Druthers Brewing Company   6/8/2019          1   \n",
       "3  Druthers Brewing Company  9/16/2019          2   \n",
       "4  Druthers Brewing Company  4/23/2019          0   \n",
       "5  Druthers Brewing Company   3/9/2019          3   \n",
       "6  Druthers Brewing Company   3/7/2019          3   \n",
       "7  Druthers Brewing Company  2/10/2019          3   \n",
       "8  Druthers Brewing Company  5/30/2019          0   \n",
       "9  Druthers Brewing Company  8/15/2019          3   \n",
       "\n",
       "                                            pic_urls  \\\n",
       "0  [https://s3-media4.fl.yelpcdn.com/bphoto/stvcX...   \n",
       "1  [https://s3-media3.fl.yelpcdn.com/bphoto/VEwcR...   \n",
       "2  [https://s3-media4.fl.yelpcdn.com/bphoto/61oph...   \n",
       "3  [https://s3-media3.fl.yelpcdn.com/bphoto/vMhXV...   \n",
       "4                                                 []   \n",
       "5  [https://s3-media3.fl.yelpcdn.com/bphoto/DDvZZ...   \n",
       "6  [https://s3-media1.fl.yelpcdn.com/bphoto/Tg5Oj...   \n",
       "7  [https://s3-media2.fl.yelpcdn.com/bphoto/RTOS-...   \n",
       "8                                                 []   \n",
       "9  [https://s3-media4.fl.yelpcdn.com/bphoto/2dExk...   \n",
       "\n",
       "                                              review star_rating  \\\n",
       "0  After a long day of drinking, exploring, seein...           5   \n",
       "1  Great American pub/brewery with awesome season...           5   \n",
       "2  Service was PERFECT! Our server was funny, kno...           5   \n",
       "3  Definitely worth the trip - located on a dark ...           4   \n",
       "4  Update (4/23/19): the O.G. Veggie burger has r...           4   \n",
       "5  Yelp hit it out of the park on this one! Was i...           5   \n",
       "6  i love druthers, how couldn't you? The comfort...           4   \n",
       "7  So today we took a drive up to U - Albany to c...           5   \n",
       "8  Unsure how I have missed reviewing Druthers!! ...           4   \n",
       "9  Druthers is the place to go for great food exc...           4   \n",
       "\n",
       "                  user_id  \n",
       "0  hWDybu_KvYLSdEFzGrniTw  \n",
       "1  NE0Y9JgKRGGfkq0r8rrWMA  \n",
       "2  q5l-dhIhv2gHtR42_KS3BA  \n",
       "3  4nS_ParKta9NBuE3yl72qg  \n",
       "4  NwegX3oLEwXuOXI1d3KfRQ  \n",
       "5  _kP1PMm3G-ZFUZtBsP-WPA  \n",
       "6  YX927Jezj85xgM_XX6bVxw  \n",
       "7  Kc7IwXLrJVqAVMkX6pxWbA  \n",
       "8                    FAIL  \n",
       "9  flXkJBf-clMeA_jC1sqGEg  "
      ]
     },
     "execution_count": 468,
     "metadata": {},
     "output_type": "execute_result"
    }
   ],
   "source": [
    "reviews_df = pd.DataFrame(reviews_list)\n",
    "reviews_df.head(10)"
   ]
  },
  {
   "cell_type": "code",
   "execution_count": null,
   "metadata": {},
   "outputs": [],
   "source": []
  },
  {
   "cell_type": "code",
   "execution_count": 416,
   "metadata": {},
   "outputs": [],
   "source": [
    "#request = requests.get(business_url)\n",
    "soup = BeautifulSoup(request.content,'html.parser')\n",
    "reviews = soup.findAll(class_=search_result_class)"
   ]
  },
  {
   "cell_type": "code",
   "execution_count": 449,
   "metadata": {
    "scrolled": false
   },
   "outputs": [
    {
     "data": {
      "text/plain": [
       "'q8rS7eD1nGJPY8zZyAMVWQ'"
      ]
     },
     "execution_count": 449,
     "metadata": {},
     "output_type": "execute_result"
    }
   ],
   "source": [
    "reviews[2].find('a')['href'].split('userid=')[1]"
   ]
  },
  {
   "cell_type": "code",
   "execution_count": 357,
   "metadata": {},
   "outputs": [],
   "source": [
    "user_info_class = \"lemon--div__373c0__1mboc user-passport-info border-color--default__373c0__2oFDT\""
   ]
  },
  {
   "cell_type": "code",
   "execution_count": 454,
   "metadata": {
    "scrolled": true
   },
   "outputs": [
    {
     "data": {
      "text/plain": [
       "<a class=\"lemon--a__373c0__IEZFH link__373c0__29943 link-color--blue-dark__373c0__1mhJo link-size--default__373c0__1skgq\" href=\"/biz_photos/new-world-bistro-bar-albany-3?userid=hp5PVGYMd3MEefEcM426dQ\" name=\"\" rel=\"\" target=\"\"><p class=\"lemon--p__373c0__3Qnnj text__373c0__2pB8f text-color--inherit__373c0__w_15m text-align--left__373c0__2pnx_ text-size--small__373c0__3SGMi\"><span aria-hidden=\"true\" class=\"lemon--span__373c0__3997G icon__373c0__ehCWV icon--18-camera\" style=\"width:18px;height:18px\"><svg class=\"icon_svg\" height=\"18\" viewbox=\"0 0 18 18\" width=\"18\" xmlns=\"http://www.w3.org/2000/svg\"><path d=\"M15 15H3a2 2 0 0 1-2-2V6a2 2 0 0 1 2-2h2a2 2 0 0 1 2-2h4a2 2 0 0 1 2 2h2a2 2 0 0 1 2 2v7a2 2 0 0 1-2 2zM9 5a4 4 0 1 0 0 8 4 4 0 0 0 0-8zm0 6.5a2.5 2.5 0 1 1 0-5 2.5 2.5 0 0 1 0 5z\"></path></svg></span> <!-- -->5 photos</p></a>"
      ]
     },
     "execution_count": 454,
     "metadata": {},
     "output_type": "execute_result"
    }
   ],
   "source": [
    "reviews[3].find('a')"
   ]
  },
  {
   "cell_type": "code",
   "execution_count": null,
   "metadata": {},
   "outputs": [],
   "source": []
  },
  {
   "cell_type": "markdown",
   "metadata": {},
   "source": [
    "### Write dataframes to CSV files"
   ]
  },
  {
   "cell_type": "code",
   "execution_count": 469,
   "metadata": {},
   "outputs": [],
   "source": [
    "business_info_df.to_csv('business_info.csv',index=False)\n",
    "reviews_df.to_csv('reviews.csv',index=False)"
   ]
  },
  {
   "cell_type": "code",
   "execution_count": null,
   "metadata": {},
   "outputs": [],
   "source": []
  }
 ],
 "metadata": {
  "kernelspec": {
   "display_name": "Python [conda env:learn-env] *",
   "language": "python",
   "name": "conda-env-learn-env-py"
  },
  "language_info": {
   "codemirror_mode": {
    "name": "ipython",
    "version": 3
   },
   "file_extension": ".py",
   "mimetype": "text/x-python",
   "name": "python",
   "nbconvert_exporter": "python",
   "pygments_lexer": "ipython3",
   "version": "3.6.6"
  }
 },
 "nbformat": 4,
 "nbformat_minor": 2
}
